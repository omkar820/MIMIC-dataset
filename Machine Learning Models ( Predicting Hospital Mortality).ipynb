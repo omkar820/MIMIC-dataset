{
 "cells": [
  {
   "cell_type": "markdown",
   "id": "9575a2de",
   "metadata": {},
   "source": [
    "# Importing all the libraries"
   ]
  },
  {
   "cell_type": "code",
   "execution_count": 1,
   "id": "f24d8543",
   "metadata": {},
   "outputs": [],
   "source": [
    "import pandas as pd\n",
    "import numpy as np\n",
    "from matplotlib import pyplot as plt\n",
    "%matplotlib inline\n",
    "import sklearn.metrics as metrics\n",
    "\n",
    "from tensorflow.keras.models import Sequential\n",
    "from tensorflow.keras.layers import *\n",
    "from tensorflow.keras.callbacks import ModelCheckpoint\n",
    "from tensorflow.keras.losses import MeanSquaredError\n",
    "from tensorflow.keras.metrics import RootMeanSquaredError\n",
    "from tensorflow.keras.optimizers import Adam\n",
    "\n",
    "\n",
    "from keras.layers import Flatten\n",
    "from keras.layers import Embedding, LSTM, Dense, Dropout, Conv1D, MaxPool1D, GlobalAveragePooling1D\n",
    "from keras.preprocessing import sequence\n",
    "from keras.callbacks import ReduceLROnPlateau, EarlyStopping\n",
    "from keras.constraints import max_norm\n",
    "from sklearn.metrics import confusion_matrix, accuracy_score\n",
    "\n",
    "from sklearn.compose import ColumnTransformer\n",
    "from sklearn.preprocessing import OneHotEncoder\n",
    "\n",
    "from sklearn.impute import SimpleImputer\n",
    "from sklearn.preprocessing import StandardScaler\n",
    "from sklearn.model_selection import train_test_split\n",
    "from sklearn.ensemble import RandomForestClassifier\n",
    "from sklearn.metrics import classification_report\n",
    "from sklearn.metrics import roc_auc_score\n",
    "from sklearn.model_selection import GridSearchCV\n",
    "import seaborn as sns\n",
    "from sklearn.metrics import roc_curve, precision_recall_curve\n",
    "from keras.utils.vis_utils import plot_model"
   ]
  },
  {
   "cell_type": "code",
   "execution_count": 2,
   "id": "ecc20676",
   "metadata": {},
   "outputs": [],
   "source": [
    "#Importing the datasets\n",
    "\n",
    "\n",
    "train_1 = pd.read_csv('admissions.csv')\n",
    "train_2 = pd.read_csv('vitals.csv')   \n",
    "test_1 = pd.read_csv('vitals_test.csv')\n",
    "test_2 = pd.read_csv('admissions_test.csv')   "
   ]
  },
  {
   "cell_type": "code",
   "execution_count": 3,
   "id": "e8223f28",
   "metadata": {},
   "outputs": [],
   "source": [
    "#merging both datasets on HADM_ID\n",
    "train_dataset = pd.merge(train_1,train_2, on='HADM_ID')\n",
    "test_dataset = pd.merge(test_1,test_2, on='HADM_ID')"
   ]
  },
  {
   "cell_type": "code",
   "execution_count": 4,
   "id": "ee4e4b9d",
   "metadata": {},
   "outputs": [
    {
     "data": {
      "text/html": [
       "<div>\n",
       "<style scoped>\n",
       "    .dataframe tbody tr th:only-of-type {\n",
       "        vertical-align: middle;\n",
       "    }\n",
       "\n",
       "    .dataframe tbody tr th {\n",
       "        vertical-align: top;\n",
       "    }\n",
       "\n",
       "    .dataframe thead th {\n",
       "        text-align: right;\n",
       "    }\n",
       "</style>\n",
       "<table border=\"1\" class=\"dataframe\">\n",
       "  <thead>\n",
       "    <tr style=\"text-align: right;\">\n",
       "      <th></th>\n",
       "      <th>HADM_ID</th>\n",
       "      <th>Height</th>\n",
       "      <th>GCS_Eye</th>\n",
       "      <th>GCS_motor</th>\n",
       "      <th>GCS_verbal</th>\n",
       "      <th>ADMISSION_TYPE</th>\n",
       "      <th>ETHNICITY</th>\n",
       "      <th>GENDER</th>\n",
       "      <th>FIRST_CAREUNIT</th>\n",
       "      <th>AGE</th>\n",
       "      <th>...</th>\n",
       "      <th>Fraction_inspired_oxygen</th>\n",
       "      <th>Glucose</th>\n",
       "      <th>Heart_Rate</th>\n",
       "      <th>Mean_blood_pressure</th>\n",
       "      <th>Oxygen_saturation</th>\n",
       "      <th>pH</th>\n",
       "      <th>Respiratory_rate</th>\n",
       "      <th>Systolic_blood_pressure</th>\n",
       "      <th>Temperature</th>\n",
       "      <th>Weight</th>\n",
       "    </tr>\n",
       "  </thead>\n",
       "  <tbody>\n",
       "    <tr>\n",
       "      <th>0</th>\n",
       "      <td>10467</td>\n",
       "      <td>NaN</td>\n",
       "      <td>4.0</td>\n",
       "      <td>6.0</td>\n",
       "      <td>5.0</td>\n",
       "      <td>EMERGENCY</td>\n",
       "      <td>WHITE</td>\n",
       "      <td>0</td>\n",
       "      <td>MICU</td>\n",
       "      <td>35.49863</td>\n",
       "      <td>...</td>\n",
       "      <td>NaN</td>\n",
       "      <td>NaN</td>\n",
       "      <td>NaN</td>\n",
       "      <td>NaN</td>\n",
       "      <td>NaN</td>\n",
       "      <td>7.478685</td>\n",
       "      <td>NaN</td>\n",
       "      <td>NaN</td>\n",
       "      <td>37.788000</td>\n",
       "      <td>NaN</td>\n",
       "    </tr>\n",
       "    <tr>\n",
       "      <th>1</th>\n",
       "      <td>10467</td>\n",
       "      <td>NaN</td>\n",
       "      <td>4.0</td>\n",
       "      <td>6.0</td>\n",
       "      <td>5.0</td>\n",
       "      <td>EMERGENCY</td>\n",
       "      <td>WHITE</td>\n",
       "      <td>0</td>\n",
       "      <td>MICU</td>\n",
       "      <td>35.49863</td>\n",
       "      <td>...</td>\n",
       "      <td>55.850864</td>\n",
       "      <td>NaN</td>\n",
       "      <td>NaN</td>\n",
       "      <td>80.549288</td>\n",
       "      <td>NaN</td>\n",
       "      <td>NaN</td>\n",
       "      <td>NaN</td>\n",
       "      <td>NaN</td>\n",
       "      <td>NaN</td>\n",
       "      <td>NaN</td>\n",
       "    </tr>\n",
       "    <tr>\n",
       "      <th>2</th>\n",
       "      <td>10467</td>\n",
       "      <td>NaN</td>\n",
       "      <td>4.0</td>\n",
       "      <td>6.0</td>\n",
       "      <td>5.0</td>\n",
       "      <td>EMERGENCY</td>\n",
       "      <td>WHITE</td>\n",
       "      <td>0</td>\n",
       "      <td>MICU</td>\n",
       "      <td>35.49863</td>\n",
       "      <td>...</td>\n",
       "      <td>NaN</td>\n",
       "      <td>151.813514</td>\n",
       "      <td>NaN</td>\n",
       "      <td>NaN</td>\n",
       "      <td>NaN</td>\n",
       "      <td>NaN</td>\n",
       "      <td>NaN</td>\n",
       "      <td>125.697670</td>\n",
       "      <td>36.634106</td>\n",
       "      <td>NaN</td>\n",
       "    </tr>\n",
       "    <tr>\n",
       "      <th>3</th>\n",
       "      <td>10467</td>\n",
       "      <td>NaN</td>\n",
       "      <td>4.0</td>\n",
       "      <td>6.0</td>\n",
       "      <td>5.0</td>\n",
       "      <td>EMERGENCY</td>\n",
       "      <td>WHITE</td>\n",
       "      <td>0</td>\n",
       "      <td>MICU</td>\n",
       "      <td>35.49863</td>\n",
       "      <td>...</td>\n",
       "      <td>NaN</td>\n",
       "      <td>NaN</td>\n",
       "      <td>NaN</td>\n",
       "      <td>NaN</td>\n",
       "      <td>NaN</td>\n",
       "      <td>NaN</td>\n",
       "      <td>NaN</td>\n",
       "      <td>NaN</td>\n",
       "      <td>NaN</td>\n",
       "      <td>78.322643</td>\n",
       "    </tr>\n",
       "    <tr>\n",
       "      <th>4</th>\n",
       "      <td>10467</td>\n",
       "      <td>NaN</td>\n",
       "      <td>4.0</td>\n",
       "      <td>6.0</td>\n",
       "      <td>5.0</td>\n",
       "      <td>EMERGENCY</td>\n",
       "      <td>WHITE</td>\n",
       "      <td>0</td>\n",
       "      <td>MICU</td>\n",
       "      <td>35.49863</td>\n",
       "      <td>...</td>\n",
       "      <td>54.802035</td>\n",
       "      <td>NaN</td>\n",
       "      <td>77.723207</td>\n",
       "      <td>NaN</td>\n",
       "      <td>96.837797</td>\n",
       "      <td>NaN</td>\n",
       "      <td>NaN</td>\n",
       "      <td>105.314729</td>\n",
       "      <td>NaN</td>\n",
       "      <td>NaN</td>\n",
       "    </tr>\n",
       "  </tbody>\n",
       "</table>\n",
       "<p>5 rows × 23 columns</p>\n",
       "</div>"
      ],
      "text/plain": [
       "   HADM_ID  Height  GCS_Eye  GCS_motor  GCS_verbal ADMISSION_TYPE ETHNICITY  \\\n",
       "0    10467     NaN      4.0        6.0         5.0      EMERGENCY     WHITE   \n",
       "1    10467     NaN      4.0        6.0         5.0      EMERGENCY     WHITE   \n",
       "2    10467     NaN      4.0        6.0         5.0      EMERGENCY     WHITE   \n",
       "3    10467     NaN      4.0        6.0         5.0      EMERGENCY     WHITE   \n",
       "4    10467     NaN      4.0        6.0         5.0      EMERGENCY     WHITE   \n",
       "\n",
       "   GENDER FIRST_CAREUNIT       AGE  ...  Fraction_inspired_oxygen     Glucose  \\\n",
       "0       0           MICU  35.49863  ...                       NaN         NaN   \n",
       "1       0           MICU  35.49863  ...                 55.850864         NaN   \n",
       "2       0           MICU  35.49863  ...                       NaN  151.813514   \n",
       "3       0           MICU  35.49863  ...                       NaN         NaN   \n",
       "4       0           MICU  35.49863  ...                 54.802035         NaN   \n",
       "\n",
       "   Heart_Rate  Mean_blood_pressure  Oxygen_saturation        pH  \\\n",
       "0         NaN                  NaN                NaN  7.478685   \n",
       "1         NaN            80.549288                NaN       NaN   \n",
       "2         NaN                  NaN                NaN       NaN   \n",
       "3         NaN                  NaN                NaN       NaN   \n",
       "4   77.723207                  NaN          96.837797       NaN   \n",
       "\n",
       "   Respiratory_rate  Systolic_blood_pressure  Temperature     Weight  \n",
       "0               NaN                      NaN    37.788000        NaN  \n",
       "1               NaN                      NaN          NaN        NaN  \n",
       "2               NaN               125.697670    36.634106        NaN  \n",
       "3               NaN                      NaN          NaN  78.322643  \n",
       "4               NaN               105.314729          NaN        NaN  \n",
       "\n",
       "[5 rows x 23 columns]"
      ]
     },
     "execution_count": 4,
     "metadata": {},
     "output_type": "execute_result"
    }
   ],
   "source": [
    "train_dataset.head()"
   ]
  },
  {
   "cell_type": "code",
   "execution_count": 5,
   "id": "9745f5e4",
   "metadata": {
    "scrolled": true
   },
   "outputs": [
    {
     "data": {
      "text/html": [
       "<div>\n",
       "<style scoped>\n",
       "    .dataframe tbody tr th:only-of-type {\n",
       "        vertical-align: middle;\n",
       "    }\n",
       "\n",
       "    .dataframe tbody tr th {\n",
       "        vertical-align: top;\n",
       "    }\n",
       "\n",
       "    .dataframe thead th {\n",
       "        text-align: right;\n",
       "    }\n",
       "</style>\n",
       "<table border=\"1\" class=\"dataframe\">\n",
       "  <thead>\n",
       "    <tr style=\"text-align: right;\">\n",
       "      <th></th>\n",
       "      <th>HADM_ID</th>\n",
       "      <th>CHART_TIME_STEP_HR</th>\n",
       "      <th>Diastolic_blood_pressure</th>\n",
       "      <th>Fraction_inspired_oxygen</th>\n",
       "      <th>Glucose</th>\n",
       "      <th>Heart_Rate</th>\n",
       "      <th>Mean_blood_pressure</th>\n",
       "      <th>Oxygen_saturation</th>\n",
       "      <th>pH</th>\n",
       "      <th>Respiratory_rate</th>\n",
       "      <th>...</th>\n",
       "      <th>Weight</th>\n",
       "      <th>Height</th>\n",
       "      <th>GCS_Eye</th>\n",
       "      <th>GCS_motor</th>\n",
       "      <th>GCS_verbal</th>\n",
       "      <th>ADMISSION_TYPE</th>\n",
       "      <th>ETHNICITY</th>\n",
       "      <th>GENDER</th>\n",
       "      <th>FIRST_CAREUNIT</th>\n",
       "      <th>AGE</th>\n",
       "    </tr>\n",
       "  </thead>\n",
       "  <tbody>\n",
       "    <tr>\n",
       "      <th>0</th>\n",
       "      <td>10482</td>\n",
       "      <td>0</td>\n",
       "      <td>NaN</td>\n",
       "      <td>NaN</td>\n",
       "      <td>177.283750</td>\n",
       "      <td>NaN</td>\n",
       "      <td>NaN</td>\n",
       "      <td>NaN</td>\n",
       "      <td>7.249081</td>\n",
       "      <td>13.480925</td>\n",
       "      <td>...</td>\n",
       "      <td>49.765461</td>\n",
       "      <td>137.08</td>\n",
       "      <td>3.0</td>\n",
       "      <td>5.0</td>\n",
       "      <td>1.0</td>\n",
       "      <td>EMERGENCY</td>\n",
       "      <td>WHITE</td>\n",
       "      <td>1</td>\n",
       "      <td>MICU</td>\n",
       "      <td>55.547945</td>\n",
       "    </tr>\n",
       "    <tr>\n",
       "      <th>1</th>\n",
       "      <td>10482</td>\n",
       "      <td>1</td>\n",
       "      <td>74.134059</td>\n",
       "      <td>NaN</td>\n",
       "      <td>116.124146</td>\n",
       "      <td>97.910453</td>\n",
       "      <td>77.959258</td>\n",
       "      <td>94.637154</td>\n",
       "      <td>7.364961</td>\n",
       "      <td>13.876098</td>\n",
       "      <td>...</td>\n",
       "      <td>NaN</td>\n",
       "      <td>137.08</td>\n",
       "      <td>3.0</td>\n",
       "      <td>5.0</td>\n",
       "      <td>1.0</td>\n",
       "      <td>EMERGENCY</td>\n",
       "      <td>WHITE</td>\n",
       "      <td>1</td>\n",
       "      <td>MICU</td>\n",
       "      <td>55.547945</td>\n",
       "    </tr>\n",
       "    <tr>\n",
       "      <th>2</th>\n",
       "      <td>10482</td>\n",
       "      <td>2</td>\n",
       "      <td>61.200316</td>\n",
       "      <td>NaN</td>\n",
       "      <td>205.903217</td>\n",
       "      <td>NaN</td>\n",
       "      <td>NaN</td>\n",
       "      <td>97.637158</td>\n",
       "      <td>NaN</td>\n",
       "      <td>18.619447</td>\n",
       "      <td>...</td>\n",
       "      <td>NaN</td>\n",
       "      <td>137.08</td>\n",
       "      <td>3.0</td>\n",
       "      <td>5.0</td>\n",
       "      <td>1.0</td>\n",
       "      <td>EMERGENCY</td>\n",
       "      <td>WHITE</td>\n",
       "      <td>1</td>\n",
       "      <td>MICU</td>\n",
       "      <td>55.547945</td>\n",
       "    </tr>\n",
       "    <tr>\n",
       "      <th>3</th>\n",
       "      <td>10482</td>\n",
       "      <td>3</td>\n",
       "      <td>NaN</td>\n",
       "      <td>NaN</td>\n",
       "      <td>93.615694</td>\n",
       "      <td>79.903595</td>\n",
       "      <td>78.008654</td>\n",
       "      <td>100.174864</td>\n",
       "      <td>NaN</td>\n",
       "      <td>20.437194</td>\n",
       "      <td>...</td>\n",
       "      <td>NaN</td>\n",
       "      <td>137.08</td>\n",
       "      <td>3.0</td>\n",
       "      <td>5.0</td>\n",
       "      <td>1.0</td>\n",
       "      <td>EMERGENCY</td>\n",
       "      <td>WHITE</td>\n",
       "      <td>1</td>\n",
       "      <td>MICU</td>\n",
       "      <td>55.547945</td>\n",
       "    </tr>\n",
       "    <tr>\n",
       "      <th>4</th>\n",
       "      <td>10482</td>\n",
       "      <td>4</td>\n",
       "      <td>NaN</td>\n",
       "      <td>59.905487</td>\n",
       "      <td>177.625044</td>\n",
       "      <td>87.614991</td>\n",
       "      <td>82.082165</td>\n",
       "      <td>100.096492</td>\n",
       "      <td>NaN</td>\n",
       "      <td>19.957419</td>\n",
       "      <td>...</td>\n",
       "      <td>NaN</td>\n",
       "      <td>137.08</td>\n",
       "      <td>3.0</td>\n",
       "      <td>5.0</td>\n",
       "      <td>1.0</td>\n",
       "      <td>EMERGENCY</td>\n",
       "      <td>WHITE</td>\n",
       "      <td>1</td>\n",
       "      <td>MICU</td>\n",
       "      <td>55.547945</td>\n",
       "    </tr>\n",
       "  </tbody>\n",
       "</table>\n",
       "<p>5 rows × 22 columns</p>\n",
       "</div>"
      ],
      "text/plain": [
       "   HADM_ID  CHART_TIME_STEP_HR  Diastolic_blood_pressure  \\\n",
       "0    10482                   0                       NaN   \n",
       "1    10482                   1                 74.134059   \n",
       "2    10482                   2                 61.200316   \n",
       "3    10482                   3                       NaN   \n",
       "4    10482                   4                       NaN   \n",
       "\n",
       "   Fraction_inspired_oxygen     Glucose  Heart_Rate  Mean_blood_pressure  \\\n",
       "0                       NaN  177.283750         NaN                  NaN   \n",
       "1                       NaN  116.124146   97.910453            77.959258   \n",
       "2                       NaN  205.903217         NaN                  NaN   \n",
       "3                       NaN   93.615694   79.903595            78.008654   \n",
       "4                 59.905487  177.625044   87.614991            82.082165   \n",
       "\n",
       "   Oxygen_saturation        pH  Respiratory_rate  ...     Weight  Height  \\\n",
       "0                NaN  7.249081         13.480925  ...  49.765461  137.08   \n",
       "1          94.637154  7.364961         13.876098  ...        NaN  137.08   \n",
       "2          97.637158       NaN         18.619447  ...        NaN  137.08   \n",
       "3         100.174864       NaN         20.437194  ...        NaN  137.08   \n",
       "4         100.096492       NaN         19.957419  ...        NaN  137.08   \n",
       "\n",
       "   GCS_Eye  GCS_motor  GCS_verbal  ADMISSION_TYPE  ETHNICITY GENDER  \\\n",
       "0      3.0        5.0         1.0       EMERGENCY      WHITE      1   \n",
       "1      3.0        5.0         1.0       EMERGENCY      WHITE      1   \n",
       "2      3.0        5.0         1.0       EMERGENCY      WHITE      1   \n",
       "3      3.0        5.0         1.0       EMERGENCY      WHITE      1   \n",
       "4      3.0        5.0         1.0       EMERGENCY      WHITE      1   \n",
       "\n",
       "  FIRST_CAREUNIT        AGE  \n",
       "0           MICU  55.547945  \n",
       "1           MICU  55.547945  \n",
       "2           MICU  55.547945  \n",
       "3           MICU  55.547945  \n",
       "4           MICU  55.547945  \n",
       "\n",
       "[5 rows x 22 columns]"
      ]
     },
     "execution_count": 5,
     "metadata": {},
     "output_type": "execute_result"
    }
   ],
   "source": [
    "test_dataset.head()"
   ]
  },
  {
   "cell_type": "code",
   "execution_count": 6,
   "id": "a74f6ec7",
   "metadata": {},
   "outputs": [
    {
     "data": {
      "image/png": "[encoded data removed]",
      "text/plain": [
       "<Figure size 1440x1440 with 2 Axes>"
      ]
     },
     "metadata": {},
     "output_type": "display_data"
    }
   ],
   "source": [
    "sns.set(style=\"white\")\n",
    "corr = train_dataset.corr()\n",
    "mask = np.zeros_like(corr, dtype=np.bool)\n",
    "mask[np.triu_indices_from(mask)] = True\n",
    "f, ax = plt.subplots(figsize=(20,20))\n",
    "cmap = sns.diverging_palette(1000, 50, as_cmap=True)\n",
    "sns.heatmap(corr,annot=True, mask=mask,vmax =.8, cmap=cmap, center=0,fmt= '.2f',\n",
    "            square=True, linewidths=.1, cbar_kws={\"shrink\": .5});"
   ]
  },
  {
   "cell_type": "code",
   "execution_count": 7,
   "id": "fa66a3d3",
   "metadata": {
    "scrolled": true
   },
   "outputs": [
    {
     "data": {
      "image/png": "[encoded data removed]",
      "text/plain": [
       "<Figure size 1440x1440 with 2 Axes>"
      ]
     },
     "metadata": {},
     "output_type": "display_data"
    }
   ],
   "source": [
    "sns.set(style=\"white\")\n",
    "corr = test_dataset.corr()\n",
    "mask = np.zeros_like(corr, dtype=np.bool)\n",
    "mask[np.triu_indices_from(mask)] = True\n",
    "f, ax = plt.subplots(figsize=(20,20))\n",
    "cmap = sns.diverging_palette(1000, 50, as_cmap=True)\n",
    "sns.heatmap(corr,annot=True, mask=mask,vmax =.8, cmap=cmap, center=0,fmt= '.2f',\n",
    "            square=True, linewidths=.1, cbar_kws={\"shrink\": .5});"
   ]
  },
  {
   "cell_type": "code",
   "execution_count": 42,
   "id": "ac5874b2",
   "metadata": {},
   "outputs": [
    {
     "data": {
      "text/plain": [
       "HADM_ID                     0.000000\n",
       "Height                      0.808913\n",
       "GCS_Eye                     0.000362\n",
       "GCS_motor                   0.000672\n",
       "GCS_verbal                  0.000465\n",
       "ADMISSION_TYPE              0.000000\n",
       "ETHNICITY                   0.000000\n",
       "GENDER                      0.000000\n",
       "FIRST_CAREUNIT              0.000000\n",
       "AGE                         0.000000\n",
       "IN_HOSPITAL_DEATH           0.000000\n",
       "CHART_TIME_STEP_HR          0.000000\n",
       "Diastolic_blood_pressure    0.263996\n",
       "Fraction_inspired_oxygen    0.880626\n",
       "Glucose                     0.789626\n",
       "Heart_Rate                  0.242903\n",
       "Mean_blood_pressure         0.252336\n",
       "Oxygen_saturation           0.277549\n",
       "pH                          0.854873\n",
       "Respiratory_rate            0.247691\n",
       "Systolic_blood_pressure     0.253796\n",
       "Temperature                 0.729326\n",
       "Weight                      0.906899\n",
       "dtype: float64"
      ]
     },
     "execution_count": 42,
     "metadata": {},
     "output_type": "execute_result"
    }
   ],
   "source": [
    "n_obs_tst = train_dataset.shape[0]\n",
    "train_dataset.isna().sum()/n_obs_tst"
   ]
  },
  {
   "cell_type": "code",
   "execution_count": 8,
   "id": "e0c46b18",
   "metadata": {
    "scrolled": false
   },
   "outputs": [
    {
     "data": {
      "text/html": [
       "<div>\n",
       "<style scoped>\n",
       "    .dataframe tbody tr th:only-of-type {\n",
       "        vertical-align: middle;\n",
       "    }\n",
       "\n",
       "    .dataframe tbody tr th {\n",
       "        vertical-align: top;\n",
       "    }\n",
       "\n",
       "    .dataframe thead th {\n",
       "        text-align: right;\n",
       "    }\n",
       "</style>\n",
       "<table border=\"1\" class=\"dataframe\">\n",
       "  <thead>\n",
       "    <tr style=\"text-align: right;\">\n",
       "      <th></th>\n",
       "      <th>Height</th>\n",
       "      <th>GCS_Eye</th>\n",
       "      <th>GCS_motor</th>\n",
       "      <th>GCS_verbal</th>\n",
       "      <th>GENDER</th>\n",
       "      <th>AGE</th>\n",
       "      <th>IN_HOSPITAL_DEATH</th>\n",
       "      <th>CHART_TIME_STEP_HR</th>\n",
       "      <th>Diastolic_blood_pressure</th>\n",
       "      <th>Fraction_inspired_oxygen</th>\n",
       "      <th>Glucose</th>\n",
       "      <th>Heart_Rate</th>\n",
       "      <th>Mean_blood_pressure</th>\n",
       "      <th>Oxygen_saturation</th>\n",
       "      <th>pH</th>\n",
       "      <th>Respiratory_rate</th>\n",
       "      <th>Systolic_blood_pressure</th>\n",
       "      <th>Temperature</th>\n",
       "      <th>Weight</th>\n",
       "    </tr>\n",
       "    <tr>\n",
       "      <th>HADM_ID</th>\n",
       "      <th></th>\n",
       "      <th></th>\n",
       "      <th></th>\n",
       "      <th></th>\n",
       "      <th></th>\n",
       "      <th></th>\n",
       "      <th></th>\n",
       "      <th></th>\n",
       "      <th></th>\n",
       "      <th></th>\n",
       "      <th></th>\n",
       "      <th></th>\n",
       "      <th></th>\n",
       "      <th></th>\n",
       "      <th></th>\n",
       "      <th></th>\n",
       "      <th></th>\n",
       "      <th></th>\n",
       "      <th></th>\n",
       "    </tr>\n",
       "  </thead>\n",
       "  <tbody>\n",
       "    <tr>\n",
       "      <th>10467</th>\n",
       "      <td>NaN</td>\n",
       "      <td>4.0</td>\n",
       "      <td>6.0</td>\n",
       "      <td>5.0</td>\n",
       "      <td>0.0</td>\n",
       "      <td>35.498630</td>\n",
       "      <td>0.0</td>\n",
       "      <td>23.5</td>\n",
       "      <td>56.884466</td>\n",
       "      <td>54.097605</td>\n",
       "      <td>143.966146</td>\n",
       "      <td>83.863879</td>\n",
       "      <td>73.251399</td>\n",
       "      <td>97.638652</td>\n",
       "      <td>7.379590</td>\n",
       "      <td>17.580877</td>\n",
       "      <td>110.294635</td>\n",
       "      <td>37.184161</td>\n",
       "      <td>77.320851</td>\n",
       "    </tr>\n",
       "    <tr>\n",
       "      <th>10469</th>\n",
       "      <td>NaN</td>\n",
       "      <td>4.0</td>\n",
       "      <td>6.0</td>\n",
       "      <td>5.0</td>\n",
       "      <td>1.0</td>\n",
       "      <td>59.950685</td>\n",
       "      <td>0.0</td>\n",
       "      <td>23.5</td>\n",
       "      <td>58.393333</td>\n",
       "      <td>55.143953</td>\n",
       "      <td>138.432298</td>\n",
       "      <td>83.592969</td>\n",
       "      <td>75.809291</td>\n",
       "      <td>96.834015</td>\n",
       "      <td>7.369573</td>\n",
       "      <td>18.480680</td>\n",
       "      <td>122.355989</td>\n",
       "      <td>36.750291</td>\n",
       "      <td>83.337021</td>\n",
       "    </tr>\n",
       "    <tr>\n",
       "      <th>10472</th>\n",
       "      <td>NaN</td>\n",
       "      <td>4.0</td>\n",
       "      <td>6.0</td>\n",
       "      <td>5.0</td>\n",
       "      <td>0.0</td>\n",
       "      <td>48.947945</td>\n",
       "      <td>0.0</td>\n",
       "      <td>23.5</td>\n",
       "      <td>60.269956</td>\n",
       "      <td>55.022174</td>\n",
       "      <td>138.737269</td>\n",
       "      <td>82.022313</td>\n",
       "      <td>82.698045</td>\n",
       "      <td>96.967526</td>\n",
       "      <td>7.322315</td>\n",
       "      <td>19.075493</td>\n",
       "      <td>123.111122</td>\n",
       "      <td>36.987771</td>\n",
       "      <td>81.266352</td>\n",
       "    </tr>\n",
       "    <tr>\n",
       "      <th>10475</th>\n",
       "      <td>182.94</td>\n",
       "      <td>3.0</td>\n",
       "      <td>4.0</td>\n",
       "      <td>3.0</td>\n",
       "      <td>1.0</td>\n",
       "      <td>60.835616</td>\n",
       "      <td>0.0</td>\n",
       "      <td>23.5</td>\n",
       "      <td>60.813069</td>\n",
       "      <td>53.946962</td>\n",
       "      <td>132.399276</td>\n",
       "      <td>80.974810</td>\n",
       "      <td>74.618466</td>\n",
       "      <td>97.752003</td>\n",
       "      <td>7.352379</td>\n",
       "      <td>17.910770</td>\n",
       "      <td>116.905367</td>\n",
       "      <td>36.966870</td>\n",
       "      <td>83.327855</td>\n",
       "    </tr>\n",
       "    <tr>\n",
       "      <th>10476</th>\n",
       "      <td>NaN</td>\n",
       "      <td>4.0</td>\n",
       "      <td>6.0</td>\n",
       "      <td>5.0</td>\n",
       "      <td>0.0</td>\n",
       "      <td>54.556164</td>\n",
       "      <td>0.0</td>\n",
       "      <td>23.5</td>\n",
       "      <td>60.461719</td>\n",
       "      <td>55.209211</td>\n",
       "      <td>135.470892</td>\n",
       "      <td>85.354083</td>\n",
       "      <td>75.785511</td>\n",
       "      <td>97.052243</td>\n",
       "      <td>7.338809</td>\n",
       "      <td>19.035773</td>\n",
       "      <td>116.705165</td>\n",
       "      <td>36.908203</td>\n",
       "      <td>79.879893</td>\n",
       "    </tr>\n",
       "  </tbody>\n",
       "</table>\n",
       "</div>"
      ],
      "text/plain": [
       "         Height  GCS_Eye  GCS_motor  GCS_verbal  GENDER        AGE  \\\n",
       "HADM_ID                                                              \n",
       "10467       NaN      4.0        6.0         5.0     0.0  35.498630   \n",
       "10469       NaN      4.0        6.0         5.0     1.0  59.950685   \n",
       "10472       NaN      4.0        6.0         5.0     0.0  48.947945   \n",
       "10475    182.94      3.0        4.0         3.0     1.0  60.835616   \n",
       "10476       NaN      4.0        6.0         5.0     0.0  54.556164   \n",
       "\n",
       "         IN_HOSPITAL_DEATH  CHART_TIME_STEP_HR  Diastolic_blood_pressure  \\\n",
       "HADM_ID                                                                    \n",
       "10467                  0.0                23.5                 56.884466   \n",
       "10469                  0.0                23.5                 58.393333   \n",
       "10472                  0.0                23.5                 60.269956   \n",
       "10475                  0.0                23.5                 60.813069   \n",
       "10476                  0.0                23.5                 60.461719   \n",
       "\n",
       "         Fraction_inspired_oxygen     Glucose  Heart_Rate  \\\n",
       "HADM_ID                                                     \n",
       "10467                   54.097605  143.966146   83.863879   \n",
       "10469                   55.143953  138.432298   83.592969   \n",
       "10472                   55.022174  138.737269   82.022313   \n",
       "10475                   53.946962  132.399276   80.974810   \n",
       "10476                   55.209211  135.470892   85.354083   \n",
       "\n",
       "         Mean_blood_pressure  Oxygen_saturation        pH  Respiratory_rate  \\\n",
       "HADM_ID                                                                       \n",
       "10467              73.251399          97.638652  7.379590         17.580877   \n",
       "10469              75.809291          96.834015  7.369573         18.480680   \n",
       "10472              82.698045          96.967526  7.322315         19.075493   \n",
       "10475              74.618466          97.752003  7.352379         17.910770   \n",
       "10476              75.785511          97.052243  7.338809         19.035773   \n",
       "\n",
       "         Systolic_blood_pressure  Temperature     Weight  \n",
       "HADM_ID                                                   \n",
       "10467                 110.294635    37.184161  77.320851  \n",
       "10469                 122.355989    36.750291  83.337021  \n",
       "10472                 123.111122    36.987771  81.266352  \n",
       "10475                 116.905367    36.966870  83.327855  \n",
       "10476                 116.705165    36.908203  79.879893  "
      ]
     },
     "execution_count": 8,
     "metadata": {},
     "output_type": "execute_result"
    }
   ],
   "source": [
    "dataset_for_train = train_dataset.groupby(['HADM_ID']).mean()\n",
    "dataset_for_train.head()\n"
   ]
  },
  {
   "cell_type": "code",
   "execution_count": 9,
   "id": "9405c752",
   "metadata": {},
   "outputs": [
    {
     "data": {
      "text/html": [
       "<div>\n",
       "<style scoped>\n",
       "    .dataframe tbody tr th:only-of-type {\n",
       "        vertical-align: middle;\n",
       "    }\n",
       "\n",
       "    .dataframe tbody tr th {\n",
       "        vertical-align: top;\n",
       "    }\n",
       "\n",
       "    .dataframe thead th {\n",
       "        text-align: right;\n",
       "    }\n",
       "</style>\n",
       "<table border=\"1\" class=\"dataframe\">\n",
       "  <thead>\n",
       "    <tr style=\"text-align: right;\">\n",
       "      <th></th>\n",
       "      <th>HADM_ID</th>\n",
       "      <th>ADMISSION_TYPE</th>\n",
       "      <th>ETHNICITY</th>\n",
       "      <th>FIRST_CAREUNIT</th>\n",
       "    </tr>\n",
       "  </thead>\n",
       "  <tbody>\n",
       "    <tr>\n",
       "      <th>0</th>\n",
       "      <td>10467</td>\n",
       "      <td>EMERGENCY</td>\n",
       "      <td>WHITE</td>\n",
       "      <td>MICU</td>\n",
       "    </tr>\n",
       "    <tr>\n",
       "      <th>1</th>\n",
       "      <td>10469</td>\n",
       "      <td>EMERGENCY</td>\n",
       "      <td>WHITE</td>\n",
       "      <td>MICU</td>\n",
       "    </tr>\n",
       "    <tr>\n",
       "      <th>2</th>\n",
       "      <td>10472</td>\n",
       "      <td>EMERGENCY</td>\n",
       "      <td>BLACK</td>\n",
       "      <td>MICU</td>\n",
       "    </tr>\n",
       "    <tr>\n",
       "      <th>3</th>\n",
       "      <td>10475</td>\n",
       "      <td>EMERGENCY</td>\n",
       "      <td>WHITE</td>\n",
       "      <td>CSRU</td>\n",
       "    </tr>\n",
       "    <tr>\n",
       "      <th>4</th>\n",
       "      <td>10476</td>\n",
       "      <td>ELECTIVE</td>\n",
       "      <td>WHITE</td>\n",
       "      <td>SICU</td>\n",
       "    </tr>\n",
       "  </tbody>\n",
       "</table>\n",
       "</div>"
      ],
      "text/plain": [
       "   HADM_ID ADMISSION_TYPE ETHNICITY FIRST_CAREUNIT\n",
       "0    10467      EMERGENCY     WHITE           MICU\n",
       "1    10469      EMERGENCY     WHITE           MICU\n",
       "2    10472      EMERGENCY     BLACK           MICU\n",
       "3    10475      EMERGENCY     WHITE           CSRU\n",
       "4    10476       ELECTIVE     WHITE           SICU"
      ]
     },
     "execution_count": 9,
     "metadata": {},
     "output_type": "execute_result"
    }
   ],
   "source": [
    "columns_toAdd = train_1[[\"HADM_ID\",\"ADMISSION_TYPE\",\"ETHNICITY\", \"FIRST_CAREUNIT\"]]\n",
    "columns_toAdd.head()"
   ]
  },
  {
   "cell_type": "code",
   "execution_count": 10,
   "id": "20edb766",
   "metadata": {
    "scrolled": true
   },
   "outputs": [
    {
     "data": {
      "text/html": [
       "<div>\n",
       "<style scoped>\n",
       "    .dataframe tbody tr th:only-of-type {\n",
       "        vertical-align: middle;\n",
       "    }\n",
       "\n",
       "    .dataframe tbody tr th {\n",
       "        vertical-align: top;\n",
       "    }\n",
       "\n",
       "    .dataframe thead th {\n",
       "        text-align: right;\n",
       "    }\n",
       "</style>\n",
       "<table border=\"1\" class=\"dataframe\">\n",
       "  <thead>\n",
       "    <tr style=\"text-align: right;\">\n",
       "      <th></th>\n",
       "      <th>HADM_ID</th>\n",
       "      <th>Height</th>\n",
       "      <th>GCS_Eye</th>\n",
       "      <th>GCS_motor</th>\n",
       "      <th>GCS_verbal</th>\n",
       "      <th>GENDER</th>\n",
       "      <th>AGE</th>\n",
       "      <th>IN_HOSPITAL_DEATH</th>\n",
       "      <th>CHART_TIME_STEP_HR</th>\n",
       "      <th>Diastolic_blood_pressure</th>\n",
       "      <th>...</th>\n",
       "      <th>Mean_blood_pressure</th>\n",
       "      <th>Oxygen_saturation</th>\n",
       "      <th>pH</th>\n",
       "      <th>Respiratory_rate</th>\n",
       "      <th>Systolic_blood_pressure</th>\n",
       "      <th>Temperature</th>\n",
       "      <th>Weight</th>\n",
       "      <th>ADMISSION_TYPE</th>\n",
       "      <th>ETHNICITY</th>\n",
       "      <th>FIRST_CAREUNIT</th>\n",
       "    </tr>\n",
       "  </thead>\n",
       "  <tbody>\n",
       "    <tr>\n",
       "      <th>0</th>\n",
       "      <td>10467</td>\n",
       "      <td>NaN</td>\n",
       "      <td>4.0</td>\n",
       "      <td>6.0</td>\n",
       "      <td>5.0</td>\n",
       "      <td>0.0</td>\n",
       "      <td>35.498630</td>\n",
       "      <td>0.0</td>\n",
       "      <td>23.5</td>\n",
       "      <td>56.884466</td>\n",
       "      <td>...</td>\n",
       "      <td>73.251399</td>\n",
       "      <td>97.638652</td>\n",
       "      <td>7.379590</td>\n",
       "      <td>17.580877</td>\n",
       "      <td>110.294635</td>\n",
       "      <td>37.184161</td>\n",
       "      <td>77.320851</td>\n",
       "      <td>EMERGENCY</td>\n",
       "      <td>WHITE</td>\n",
       "      <td>MICU</td>\n",
       "    </tr>\n",
       "    <tr>\n",
       "      <th>1</th>\n",
       "      <td>10469</td>\n",
       "      <td>NaN</td>\n",
       "      <td>4.0</td>\n",
       "      <td>6.0</td>\n",
       "      <td>5.0</td>\n",
       "      <td>1.0</td>\n",
       "      <td>59.950685</td>\n",
       "      <td>0.0</td>\n",
       "      <td>23.5</td>\n",
       "      <td>58.393333</td>\n",
       "      <td>...</td>\n",
       "      <td>75.809291</td>\n",
       "      <td>96.834015</td>\n",
       "      <td>7.369573</td>\n",
       "      <td>18.480680</td>\n",
       "      <td>122.355989</td>\n",
       "      <td>36.750291</td>\n",
       "      <td>83.337021</td>\n",
       "      <td>EMERGENCY</td>\n",
       "      <td>WHITE</td>\n",
       "      <td>MICU</td>\n",
       "    </tr>\n",
       "    <tr>\n",
       "      <th>2</th>\n",
       "      <td>10472</td>\n",
       "      <td>NaN</td>\n",
       "      <td>4.0</td>\n",
       "      <td>6.0</td>\n",
       "      <td>5.0</td>\n",
       "      <td>0.0</td>\n",
       "      <td>48.947945</td>\n",
       "      <td>0.0</td>\n",
       "      <td>23.5</td>\n",
       "      <td>60.269956</td>\n",
       "      <td>...</td>\n",
       "      <td>82.698045</td>\n",
       "      <td>96.967526</td>\n",
       "      <td>7.322315</td>\n",
       "      <td>19.075493</td>\n",
       "      <td>123.111122</td>\n",
       "      <td>36.987771</td>\n",
       "      <td>81.266352</td>\n",
       "      <td>EMERGENCY</td>\n",
       "      <td>BLACK</td>\n",
       "      <td>MICU</td>\n",
       "    </tr>\n",
       "    <tr>\n",
       "      <th>3</th>\n",
       "      <td>10475</td>\n",
       "      <td>182.94</td>\n",
       "      <td>3.0</td>\n",
       "      <td>4.0</td>\n",
       "      <td>3.0</td>\n",
       "      <td>1.0</td>\n",
       "      <td>60.835616</td>\n",
       "      <td>0.0</td>\n",
       "      <td>23.5</td>\n",
       "      <td>60.813069</td>\n",
       "      <td>...</td>\n",
       "      <td>74.618466</td>\n",
       "      <td>97.752003</td>\n",
       "      <td>7.352379</td>\n",
       "      <td>17.910770</td>\n",
       "      <td>116.905367</td>\n",
       "      <td>36.966870</td>\n",
       "      <td>83.327855</td>\n",
       "      <td>EMERGENCY</td>\n",
       "      <td>WHITE</td>\n",
       "      <td>CSRU</td>\n",
       "    </tr>\n",
       "    <tr>\n",
       "      <th>4</th>\n",
       "      <td>10476</td>\n",
       "      <td>NaN</td>\n",
       "      <td>4.0</td>\n",
       "      <td>6.0</td>\n",
       "      <td>5.0</td>\n",
       "      <td>0.0</td>\n",
       "      <td>54.556164</td>\n",
       "      <td>0.0</td>\n",
       "      <td>23.5</td>\n",
       "      <td>60.461719</td>\n",
       "      <td>...</td>\n",
       "      <td>75.785511</td>\n",
       "      <td>97.052243</td>\n",
       "      <td>7.338809</td>\n",
       "      <td>19.035773</td>\n",
       "      <td>116.705165</td>\n",
       "      <td>36.908203</td>\n",
       "      <td>79.879893</td>\n",
       "      <td>ELECTIVE</td>\n",
       "      <td>WHITE</td>\n",
       "      <td>SICU</td>\n",
       "    </tr>\n",
       "  </tbody>\n",
       "</table>\n",
       "<p>5 rows × 23 columns</p>\n",
       "</div>"
      ],
      "text/plain": [
       "   HADM_ID  Height  GCS_Eye  GCS_motor  GCS_verbal  GENDER        AGE  \\\n",
       "0    10467     NaN      4.0        6.0         5.0     0.0  35.498630   \n",
       "1    10469     NaN      4.0        6.0         5.0     1.0  59.950685   \n",
       "2    10472     NaN      4.0        6.0         5.0     0.0  48.947945   \n",
       "3    10475  182.94      3.0        4.0         3.0     1.0  60.835616   \n",
       "4    10476     NaN      4.0        6.0         5.0     0.0  54.556164   \n",
       "\n",
       "   IN_HOSPITAL_DEATH  CHART_TIME_STEP_HR  Diastolic_blood_pressure  ...  \\\n",
       "0                0.0                23.5                 56.884466  ...   \n",
       "1                0.0                23.5                 58.393333  ...   \n",
       "2                0.0                23.5                 60.269956  ...   \n",
       "3                0.0                23.5                 60.813069  ...   \n",
       "4                0.0                23.5                 60.461719  ...   \n",
       "\n",
       "   Mean_blood_pressure  Oxygen_saturation        pH  Respiratory_rate  \\\n",
       "0            73.251399          97.638652  7.379590         17.580877   \n",
       "1            75.809291          96.834015  7.369573         18.480680   \n",
       "2            82.698045          96.967526  7.322315         19.075493   \n",
       "3            74.618466          97.752003  7.352379         17.910770   \n",
       "4            75.785511          97.052243  7.338809         19.035773   \n",
       "\n",
       "   Systolic_blood_pressure  Temperature     Weight  ADMISSION_TYPE  ETHNICITY  \\\n",
       "0               110.294635    37.184161  77.320851       EMERGENCY      WHITE   \n",
       "1               122.355989    36.750291  83.337021       EMERGENCY      WHITE   \n",
       "2               123.111122    36.987771  81.266352       EMERGENCY      BLACK   \n",
       "3               116.905367    36.966870  83.327855       EMERGENCY      WHITE   \n",
       "4               116.705165    36.908203  79.879893        ELECTIVE      WHITE   \n",
       "\n",
       "   FIRST_CAREUNIT  \n",
       "0            MICU  \n",
       "1            MICU  \n",
       "2            MICU  \n",
       "3            CSRU  \n",
       "4            SICU  \n",
       "\n",
       "[5 rows x 23 columns]"
      ]
     },
     "execution_count": 10,
     "metadata": {},
     "output_type": "execute_result"
    }
   ],
   "source": [
    "dataset_for_train = pd.merge(dataset_for_train,columns_toAdd, on='HADM_ID')\n",
    "dataset_for_train.head()"
   ]
  },
  {
   "cell_type": "code",
   "execution_count": 11,
   "id": "3100143d",
   "metadata": {},
   "outputs": [
    {
     "data": {
      "text/plain": [
       "HADM_ID                     0.000000\n",
       "Height                      0.808913\n",
       "GCS_Eye                     0.000362\n",
       "GCS_motor                   0.000672\n",
       "GCS_verbal                  0.000465\n",
       "GENDER                      0.000000\n",
       "AGE                         0.000000\n",
       "IN_HOSPITAL_DEATH           0.000000\n",
       "CHART_TIME_STEP_HR          0.000000\n",
       "Diastolic_blood_pressure    0.000000\n",
       "Fraction_inspired_oxygen    0.002585\n",
       "Glucose                     0.000000\n",
       "Heart_Rate                  0.000000\n",
       "Mean_blood_pressure         0.000000\n",
       "Oxygen_saturation           0.000000\n",
       "pH                          0.001137\n",
       "Respiratory_rate            0.000000\n",
       "Systolic_blood_pressure     0.000000\n",
       "Temperature                 0.000000\n",
       "Weight                      0.012046\n",
       "ADMISSION_TYPE              0.000000\n",
       "ETHNICITY                   0.000000\n",
       "FIRST_CAREUNIT              0.000000\n",
       "dtype: float64"
      ]
     },
     "execution_count": 11,
     "metadata": {},
     "output_type": "execute_result"
    }
   ],
   "source": [
    "n_obs_tst = dataset_for_train.shape[0]\n",
    "dataset_for_train.isna().sum()/n_obs_tst"
   ]
  },
  {
   "cell_type": "markdown",
   "id": "5a02d4ad",
   "metadata": {},
   "source": [
    "Notice that the level of missingness of the *Height* variable is almost 80\\%, so it is sensible to drop that variable."
   ]
  },
  {
   "cell_type": "code",
   "execution_count": 12,
   "id": "daba0325",
   "metadata": {},
   "outputs": [],
   "source": [
    "dataset_for_train.drop(columns=['Height', 'CHART_TIME_STEP_HR'], inplace=True)\n"
   ]
  },
  {
   "cell_type": "markdown",
   "id": "37d81aaf",
   "metadata": {},
   "source": [
    "From now we will only use Train dataset for checking the best model prediction by split method. "
   ]
  },
  {
   "cell_type": "code",
   "execution_count": 13,
   "id": "0997ecbb",
   "metadata": {},
   "outputs": [],
   "source": [
    "X = dataset_for_train.copy()\n",
    "X.drop(columns = ['IN_HOSPITAL_DEATH', 'HADM_ID'], inplace = True)\n",
    "\n",
    "y = dataset_for_train.iloc[:, 6] "
   ]
  },
  {
   "cell_type": "code",
   "execution_count": 14,
   "id": "cf4c62be",
   "metadata": {
    "scrolled": true
   },
   "outputs": [
    {
     "data": {
      "text/html": [
       "<div>\n",
       "<style scoped>\n",
       "    .dataframe tbody tr th:only-of-type {\n",
       "        vertical-align: middle;\n",
       "    }\n",
       "\n",
       "    .dataframe tbody tr th {\n",
       "        vertical-align: top;\n",
       "    }\n",
       "\n",
       "    .dataframe thead th {\n",
       "        text-align: right;\n",
       "    }\n",
       "</style>\n",
       "<table border=\"1\" class=\"dataframe\">\n",
       "  <thead>\n",
       "    <tr style=\"text-align: right;\">\n",
       "      <th></th>\n",
       "      <th>GCS_Eye</th>\n",
       "      <th>GCS_motor</th>\n",
       "      <th>GCS_verbal</th>\n",
       "      <th>GENDER</th>\n",
       "      <th>AGE</th>\n",
       "      <th>Diastolic_blood_pressure</th>\n",
       "      <th>Fraction_inspired_oxygen</th>\n",
       "      <th>Glucose</th>\n",
       "      <th>Heart_Rate</th>\n",
       "      <th>Mean_blood_pressure</th>\n",
       "      <th>Oxygen_saturation</th>\n",
       "      <th>pH</th>\n",
       "      <th>Respiratory_rate</th>\n",
       "      <th>Systolic_blood_pressure</th>\n",
       "      <th>Temperature</th>\n",
       "      <th>Weight</th>\n",
       "      <th>ADMISSION_TYPE</th>\n",
       "      <th>ETHNICITY</th>\n",
       "      <th>FIRST_CAREUNIT</th>\n",
       "    </tr>\n",
       "  </thead>\n",
       "  <tbody>\n",
       "    <tr>\n",
       "      <th>0</th>\n",
       "      <td>4.0</td>\n",
       "      <td>6.0</td>\n",
       "      <td>5.0</td>\n",
       "      <td>0.0</td>\n",
       "      <td>35.498630</td>\n",
       "      <td>56.884466</td>\n",
       "      <td>54.097605</td>\n",
       "      <td>143.966146</td>\n",
       "      <td>83.863879</td>\n",
       "      <td>73.251399</td>\n",
       "      <td>97.638652</td>\n",
       "      <td>7.379590</td>\n",
       "      <td>17.580877</td>\n",
       "      <td>110.294635</td>\n",
       "      <td>37.184161</td>\n",
       "      <td>77.320851</td>\n",
       "      <td>EMERGENCY</td>\n",
       "      <td>WHITE</td>\n",
       "      <td>MICU</td>\n",
       "    </tr>\n",
       "    <tr>\n",
       "      <th>1</th>\n",
       "      <td>4.0</td>\n",
       "      <td>6.0</td>\n",
       "      <td>5.0</td>\n",
       "      <td>1.0</td>\n",
       "      <td>59.950685</td>\n",
       "      <td>58.393333</td>\n",
       "      <td>55.143953</td>\n",
       "      <td>138.432298</td>\n",
       "      <td>83.592969</td>\n",
       "      <td>75.809291</td>\n",
       "      <td>96.834015</td>\n",
       "      <td>7.369573</td>\n",
       "      <td>18.480680</td>\n",
       "      <td>122.355989</td>\n",
       "      <td>36.750291</td>\n",
       "      <td>83.337021</td>\n",
       "      <td>EMERGENCY</td>\n",
       "      <td>WHITE</td>\n",
       "      <td>MICU</td>\n",
       "    </tr>\n",
       "    <tr>\n",
       "      <th>2</th>\n",
       "      <td>4.0</td>\n",
       "      <td>6.0</td>\n",
       "      <td>5.0</td>\n",
       "      <td>0.0</td>\n",
       "      <td>48.947945</td>\n",
       "      <td>60.269956</td>\n",
       "      <td>55.022174</td>\n",
       "      <td>138.737269</td>\n",
       "      <td>82.022313</td>\n",
       "      <td>82.698045</td>\n",
       "      <td>96.967526</td>\n",
       "      <td>7.322315</td>\n",
       "      <td>19.075493</td>\n",
       "      <td>123.111122</td>\n",
       "      <td>36.987771</td>\n",
       "      <td>81.266352</td>\n",
       "      <td>EMERGENCY</td>\n",
       "      <td>BLACK</td>\n",
       "      <td>MICU</td>\n",
       "    </tr>\n",
       "    <tr>\n",
       "      <th>3</th>\n",
       "      <td>3.0</td>\n",
       "      <td>4.0</td>\n",
       "      <td>3.0</td>\n",
       "      <td>1.0</td>\n",
       "      <td>60.835616</td>\n",
       "      <td>60.813069</td>\n",
       "      <td>53.946962</td>\n",
       "      <td>132.399276</td>\n",
       "      <td>80.974810</td>\n",
       "      <td>74.618466</td>\n",
       "      <td>97.752003</td>\n",
       "      <td>7.352379</td>\n",
       "      <td>17.910770</td>\n",
       "      <td>116.905367</td>\n",
       "      <td>36.966870</td>\n",
       "      <td>83.327855</td>\n",
       "      <td>EMERGENCY</td>\n",
       "      <td>WHITE</td>\n",
       "      <td>CSRU</td>\n",
       "    </tr>\n",
       "    <tr>\n",
       "      <th>4</th>\n",
       "      <td>4.0</td>\n",
       "      <td>6.0</td>\n",
       "      <td>5.0</td>\n",
       "      <td>0.0</td>\n",
       "      <td>54.556164</td>\n",
       "      <td>60.461719</td>\n",
       "      <td>55.209211</td>\n",
       "      <td>135.470892</td>\n",
       "      <td>85.354083</td>\n",
       "      <td>75.785511</td>\n",
       "      <td>97.052243</td>\n",
       "      <td>7.338809</td>\n",
       "      <td>19.035773</td>\n",
       "      <td>116.705165</td>\n",
       "      <td>36.908203</td>\n",
       "      <td>79.879893</td>\n",
       "      <td>ELECTIVE</td>\n",
       "      <td>WHITE</td>\n",
       "      <td>SICU</td>\n",
       "    </tr>\n",
       "  </tbody>\n",
       "</table>\n",
       "</div>"
      ],
      "text/plain": [
       "   GCS_Eye  GCS_motor  GCS_verbal  GENDER        AGE  \\\n",
       "0      4.0        6.0         5.0     0.0  35.498630   \n",
       "1      4.0        6.0         5.0     1.0  59.950685   \n",
       "2      4.0        6.0         5.0     0.0  48.947945   \n",
       "3      3.0        4.0         3.0     1.0  60.835616   \n",
       "4      4.0        6.0         5.0     0.0  54.556164   \n",
       "\n",
       "   Diastolic_blood_pressure  Fraction_inspired_oxygen     Glucose  Heart_Rate  \\\n",
       "0                 56.884466                 54.097605  143.966146   83.863879   \n",
       "1                 58.393333                 55.143953  138.432298   83.592969   \n",
       "2                 60.269956                 55.022174  138.737269   82.022313   \n",
       "3                 60.813069                 53.946962  132.399276   80.974810   \n",
       "4                 60.461719                 55.209211  135.470892   85.354083   \n",
       "\n",
       "   Mean_blood_pressure  Oxygen_saturation        pH  Respiratory_rate  \\\n",
       "0            73.251399          97.638652  7.379590         17.580877   \n",
       "1            75.809291          96.834015  7.369573         18.480680   \n",
       "2            82.698045          96.967526  7.322315         19.075493   \n",
       "3            74.618466          97.752003  7.352379         17.910770   \n",
       "4            75.785511          97.052243  7.338809         19.035773   \n",
       "\n",
       "   Systolic_blood_pressure  Temperature     Weight ADMISSION_TYPE ETHNICITY  \\\n",
       "0               110.294635    37.184161  77.320851      EMERGENCY     WHITE   \n",
       "1               122.355989    36.750291  83.337021      EMERGENCY     WHITE   \n",
       "2               123.111122    36.987771  81.266352      EMERGENCY     BLACK   \n",
       "3               116.905367    36.966870  83.327855      EMERGENCY     WHITE   \n",
       "4               116.705165    36.908203  79.879893       ELECTIVE     WHITE   \n",
       "\n",
       "  FIRST_CAREUNIT  \n",
       "0           MICU  \n",
       "1           MICU  \n",
       "2           MICU  \n",
       "3           CSRU  \n",
       "4           SICU  "
      ]
     },
     "execution_count": 14,
     "metadata": {},
     "output_type": "execute_result"
    }
   ],
   "source": [
    "X.head()"
   ]
  },
  {
   "cell_type": "code",
   "execution_count": 15,
   "id": "c4c73d0d",
   "metadata": {
    "scrolled": true
   },
   "outputs": [
    {
     "data": {
      "text/plain": [
       "(19342, 19)"
      ]
     },
     "execution_count": 15,
     "metadata": {},
     "output_type": "execute_result"
    }
   ],
   "source": [
    "X.shape"
   ]
  },
  {
   "cell_type": "code",
   "execution_count": 16,
   "id": "bf104587",
   "metadata": {
    "scrolled": true
   },
   "outputs": [
    {
     "data": {
      "text/plain": [
       "(19342,)"
      ]
     },
     "execution_count": 16,
     "metadata": {},
     "output_type": "execute_result"
    }
   ],
   "source": [
    "y.shape"
   ]
  },
  {
   "cell_type": "code",
   "execution_count": 17,
   "id": "d75e15f3",
   "metadata": {
    "scrolled": true
   },
   "outputs": [
    {
     "data": {
      "text/html": [
       "<div>\n",
       "<style scoped>\n",
       "    .dataframe tbody tr th:only-of-type {\n",
       "        vertical-align: middle;\n",
       "    }\n",
       "\n",
       "    .dataframe tbody tr th {\n",
       "        vertical-align: top;\n",
       "    }\n",
       "\n",
       "    .dataframe thead th {\n",
       "        text-align: right;\n",
       "    }\n",
       "</style>\n",
       "<table border=\"1\" class=\"dataframe\">\n",
       "  <thead>\n",
       "    <tr style=\"text-align: right;\">\n",
       "      <th></th>\n",
       "      <th>counts</th>\n",
       "      <th>percentage</th>\n",
       "    </tr>\n",
       "  </thead>\n",
       "  <tbody>\n",
       "    <tr>\n",
       "      <th>0.0</th>\n",
       "      <td>17582</td>\n",
       "      <td>90.900631</td>\n",
       "    </tr>\n",
       "    <tr>\n",
       "      <th>1.0</th>\n",
       "      <td>1760</td>\n",
       "      <td>9.099369</td>\n",
       "    </tr>\n",
       "  </tbody>\n",
       "</table>\n",
       "</div>"
      ],
      "text/plain": [
       "     counts  percentage\n",
       "0.0   17582   90.900631\n",
       "1.0    1760    9.099369"
      ]
     },
     "execution_count": 17,
     "metadata": {},
     "output_type": "execute_result"
    },
    {
     "data": {
      "image/png": "[encoded data removed]",
      "text/plain": [
       "<Figure size 432x288 with 1 Axes>"
      ]
     },
     "metadata": {},
     "output_type": "display_data"
    }
   ],
   "source": [
    "y.value_counts().plot(kind='bar')\n",
    "pd.concat([y.value_counts(), \n",
    "                y.value_counts(normalize=True).mul(100)],axis=1, keys=('counts','percentage'))"
   ]
  },
  {
   "cell_type": "code",
   "execution_count": 18,
   "id": "7fa8e1c3",
   "metadata": {
    "scrolled": true
   },
   "outputs": [
    {
     "data": {
      "text/plain": [
       "GCS_Eye                       7\n",
       "GCS_motor                    13\n",
       "GCS_verbal                    9\n",
       "GENDER                        0\n",
       "AGE                           0\n",
       "Diastolic_blood_pressure      0\n",
       "Fraction_inspired_oxygen     50\n",
       "Glucose                       0\n",
       "Heart_Rate                    0\n",
       "Mean_blood_pressure           0\n",
       "Oxygen_saturation             0\n",
       "pH                           22\n",
       "Respiratory_rate              0\n",
       "Systolic_blood_pressure       0\n",
       "Temperature                   0\n",
       "Weight                      233\n",
       "ADMISSION_TYPE                0\n",
       "ETHNICITY                     0\n",
       "FIRST_CAREUNIT                0\n",
       "dtype: int64"
      ]
     },
     "execution_count": 18,
     "metadata": {},
     "output_type": "execute_result"
    }
   ],
   "source": [
    "X.isna().sum() "
   ]
  },
  {
   "cell_type": "markdown",
   "id": "ff2c4abd",
   "metadata": {},
   "source": [
    "We can see the missing value proportion seems to low. Lets check skewness of data"
   ]
  },
  {
   "cell_type": "code",
   "execution_count": 19,
   "id": "5698c811",
   "metadata": {
    "scrolled": false
   },
   "outputs": [
    {
     "data": {
      "text/plain": [
       "0.0    17582\n",
       "1.0     1760\n",
       "Name: IN_HOSPITAL_DEATH, dtype: int64"
      ]
     },
     "execution_count": 19,
     "metadata": {},
     "output_type": "execute_result"
    }
   ],
   "source": [
    "y.value_counts()"
   ]
  },
  {
   "cell_type": "markdown",
   "id": "21a28b1b",
   "metadata": {},
   "source": [
    "We can see that our data is Imbalanced/skewed. So its hard to predict more positive values with this dataset"
   ]
  },
  {
   "cell_type": "markdown",
   "id": "ba6a2cbe",
   "metadata": {},
   "source": [
    "Now, our dataset is ready to go for scaling part. Before scaling the data we convert the categorical variable to float. "
   ]
  },
  {
   "cell_type": "code",
   "execution_count": 20,
   "id": "23edb1e5",
   "metadata": {},
   "outputs": [],
   "source": [
    "\n",
    "ct = ColumnTransformer(transformers=[('encoder', OneHotEncoder(), [16,17,18])], remainder='passthrough')\n",
    "X = np.array(ct.fit_transform(X))\n"
   ]
  },
  {
   "cell_type": "markdown",
   "id": "c7984fed",
   "metadata": {},
   "source": [
    "To deal with missing values, we used Simple mean Imputer"
   ]
  },
  {
   "cell_type": "code",
   "execution_count": 21,
   "id": "92c49869",
   "metadata": {},
   "outputs": [],
   "source": [
    "\n",
    "imputer = SimpleImputer(missing_values=np.nan, strategy='mean')\n",
    "imputer.fit(X[:])\n",
    "X[:] = imputer.transform(X[:])"
   ]
  },
  {
   "cell_type": "markdown",
   "id": "617d92c1",
   "metadata": {},
   "source": [
    "Now, we will use standard scaler to scale the data"
   ]
  },
  {
   "cell_type": "code",
   "execution_count": 22,
   "id": "efc212c3",
   "metadata": {},
   "outputs": [],
   "source": [
    "\n",
    "scaler = StandardScaler().fit(X)\n",
    "X = scaler.transform(X)"
   ]
  },
  {
   "cell_type": "markdown",
   "id": "e1f69b00",
   "metadata": {},
   "source": [
    "We are done with pro-processing. Lets split the data and apply algorithm to find the best model"
   ]
  },
  {
   "cell_type": "code",
   "execution_count": 23,
   "id": "9880354c",
   "metadata": {},
   "outputs": [],
   "source": [
    "from sklearn.model_selection import train_test_split\n",
    "X_train_nm, X_test_nm, y_train_nm, y_test_nm = train_test_split(X, y, test_size = 0.2, random_state = 42)"
   ]
  },
  {
   "cell_type": "markdown",
   "id": "92a0d196",
   "metadata": {},
   "source": [
    "Lets check the shape of all to verify. \n"
   ]
  },
  {
   "cell_type": "code",
   "execution_count": 24,
   "id": "6a23d7e7",
   "metadata": {},
   "outputs": [
    {
     "data": {
      "text/plain": [
       "(15473, 29)"
      ]
     },
     "execution_count": 24,
     "metadata": {},
     "output_type": "execute_result"
    }
   ],
   "source": [
    "X_train_nm.shape"
   ]
  },
  {
   "cell_type": "code",
   "execution_count": 25,
   "id": "d230d982",
   "metadata": {
    "scrolled": true
   },
   "outputs": [
    {
     "data": {
      "text/plain": [
       "(15473,)"
      ]
     },
     "execution_count": 25,
     "metadata": {},
     "output_type": "execute_result"
    }
   ],
   "source": [
    "y_train_nm.shape"
   ]
  },
  {
   "cell_type": "code",
   "execution_count": 26,
   "id": "8cca2240",
   "metadata": {},
   "outputs": [
    {
     "data": {
      "text/plain": [
       "(3869, 29)"
      ]
     },
     "execution_count": 26,
     "metadata": {},
     "output_type": "execute_result"
    }
   ],
   "source": [
    "X_test_nm.shape"
   ]
  },
  {
   "cell_type": "code",
   "execution_count": 27,
   "id": "2ce156f5",
   "metadata": {
    "scrolled": true
   },
   "outputs": [
    {
     "data": {
      "text/plain": [
       "(15473,)"
      ]
     },
     "execution_count": 27,
     "metadata": {},
     "output_type": "execute_result"
    }
   ],
   "source": [
    "y_train_nm.shape"
   ]
  },
  {
   "cell_type": "markdown",
   "id": "82d35f4c",
   "metadata": {},
   "source": [
    "We will use GridSearch for hypertunning to get the best parameters and use the same to predict the values."
   ]
  },
  {
   "cell_type": "code",
   "execution_count": 28,
   "id": "16e040ae",
   "metadata": {},
   "outputs": [],
   "source": [
    "\n",
    "\n",
    "n_estimators = [int(x) for x in np.linspace(start = 10, stop = 80, num = 10)]\n",
    "# Number of features to consider at every split\n",
    "max_features = ['auto', 'sqrt']\n",
    "# Maximum number of levels in tree\n",
    "max_depth = [2,4]\n",
    "# Minimum number of samples required to split a node\n",
    "min_samples_split = [2, 5]\n",
    "# Minimum number of samples required at each leaf node\n",
    "min_samples_leaf = [1, 2]\n",
    "# Method of selecting samples for training each tree\n",
    "bootstrap = [True, False]\n",
    "\n"
   ]
  },
  {
   "cell_type": "code",
   "execution_count": 29,
   "id": "c0984e52",
   "metadata": {},
   "outputs": [
    {
     "name": "stdout",
     "output_type": "stream",
     "text": [
      "{'n_estimators': [10, 17, 25, 33, 41, 48, 56, 64, 72, 80], 'max_features': ['auto', 'sqrt'], 'min_samples_split': [2, 5], 'min_samples_leaf': [1, 2], 'bootstrap': [True, False]}\n"
     ]
    }
   ],
   "source": [
    "param_grid = {'n_estimators': n_estimators,\n",
    "               'max_features': max_features,\n",
    "               'min_samples_split': min_samples_split,\n",
    "               'min_samples_leaf': min_samples_leaf,\n",
    "               'bootstrap': bootstrap}\n",
    "print(param_grid)\n",
    "\n",
    "rf_Model = RandomForestClassifier()"
   ]
  },
  {
   "cell_type": "markdown",
   "id": "dbe0bd35",
   "metadata": {},
   "source": [
    "As we define all the parameter now we will fit into GridSearch to use for our train dataset"
   ]
  },
  {
   "cell_type": "code",
   "execution_count": 30,
   "id": "3c2237ce",
   "metadata": {},
   "outputs": [],
   "source": [
    "\n",
    "rf_Grid = GridSearchCV(estimator = rf_Model, param_grid = param_grid,\n",
    "                       cv = 3, verbose=2, n_jobs = 4)"
   ]
  },
  {
   "cell_type": "code",
   "execution_count": 31,
   "id": "36eecbea",
   "metadata": {},
   "outputs": [
    {
     "name": "stdout",
     "output_type": "stream",
     "text": [
      "Fitting 3 folds for each of 160 candidates, totalling 480 fits\n"
     ]
    },
    {
     "data": {
      "text/plain": [
       "GridSearchCV(cv=3, estimator=RandomForestClassifier(), n_jobs=4,\n",
       "             param_grid={'bootstrap': [True, False],\n",
       "                         'max_features': ['auto', 'sqrt'],\n",
       "                         'min_samples_leaf': [1, 2],\n",
       "                         'min_samples_split': [2, 5],\n",
       "                         'n_estimators': [10, 17, 25, 33, 41, 48, 56, 64, 72,\n",
       "                                          80]},\n",
       "             verbose=2)"
      ]
     },
     "execution_count": 31,
     "metadata": {},
     "output_type": "execute_result"
    }
   ],
   "source": [
    "rf_Grid.fit(X_train_nm, y_train_nm)\n"
   ]
  },
  {
   "cell_type": "code",
   "execution_count": 32,
   "id": "8f1eab71",
   "metadata": {},
   "outputs": [
    {
     "name": "stdout",
     "output_type": "stream",
     "text": [
      "{'bootstrap': False, 'max_features': 'auto', 'min_samples_leaf': 2, 'min_samples_split': 2, 'n_estimators': 80}\n",
      "0.9054019126389248\n"
     ]
    }
   ],
   "source": [
    "print(rf_Grid.best_params_)\n",
    "print(rf_Grid.score(X_test_nm,y_test_nm))\n",
    "\n"
   ]
  },
  {
   "cell_type": "markdown",
   "id": "ca8dfbe0",
   "metadata": {},
   "source": [
    "Now we got our best parameter and the score with the best parameter. This score shows that we got 90% accuracy with the best parameter which is good. Lets check with confusion matrix and other techniques"
   ]
  },
  {
   "cell_type": "code",
   "execution_count": 33,
   "id": "05b581e9",
   "metadata": {},
   "outputs": [],
   "source": [
    "y_pred =rf_Grid.predict(X_test_nm)"
   ]
  },
  {
   "cell_type": "code",
   "execution_count": 34,
   "id": "b35a58e8",
   "metadata": {},
   "outputs": [
    {
     "name": "stdout",
     "output_type": "stream",
     "text": [
      "[[3448   34]\n",
      " [ 332   55]]\n",
      "Classification report : \n",
      "               precision    recall  f1-score   support\n",
      "\n",
      "           1       0.62      0.14      0.23       387\n",
      "           0       0.91      0.99      0.95      3482\n",
      "\n",
      "    accuracy                           0.91      3869\n",
      "   macro avg       0.77      0.57      0.59      3869\n",
      "weighted avg       0.88      0.91      0.88      3869\n",
      "\n"
     ]
    },
    {
     "data": {
      "text/plain": [
       "0.566177179944996"
      ]
     },
     "execution_count": 34,
     "metadata": {},
     "output_type": "execute_result"
    }
   ],
   "source": [
    "from sklearn.metrics import confusion_matrix, accuracy_score\n",
    "cm = confusion_matrix(y_test_nm, y_pred)\n",
    "print(cm)\n",
    "accuracy_score(y_test_nm, y_pred)\n",
    "from sklearn.metrics import classification_report\n",
    "matrix = classification_report(y_test_nm,y_pred,labels=[1,0])\n",
    "print('Classification report : \\n',matrix)\n",
    "#Area under ROC curve\n",
    "from sklearn.metrics import roc_auc_score\n",
    "roc_auc_score(y_test_nm,y_pred)"
   ]
  },
  {
   "cell_type": "markdown",
   "id": "d2048481",
   "metadata": {},
   "source": [
    "We can see that the accuracy is the only factor which is good. However the F1 score, recall is bad for positive value (1). Our ROC_AUC score is also near to 57. Lets try to find optimal threshold (default is 0.5) and use the threshold on predicted probabilities.(This type we will predict probability to use threshold)"
   ]
  },
  {
   "cell_type": "code",
   "execution_count": 35,
   "id": "5a66f120",
   "metadata": {},
   "outputs": [],
   "source": [
    "\n",
    "def threshold_search(y_true, y_proba, plot=False):\n",
    "    precision, recall, thresholds = precision_recall_curve(y_true, y_proba)\n",
    "    thresholds = np.append(thresholds, 1.001) \n",
    "    F = 2 / (1/precision + 1/recall)\n",
    "    best_score = np.max(F)\n",
    "    best_th = thresholds[np.argmax(F)]\n",
    "    if plot:\n",
    "        plt.plot(thresholds, F, '-b')\n",
    "        plt.plot([best_th], [best_score], '*r')\n",
    "        plt.show()\n",
    "    search_result = {'threshold': best_th , 'f1': best_score}\n",
    "    return search_result "
   ]
  },
  {
   "cell_type": "code",
   "execution_count": 36,
   "id": "73e866c5",
   "metadata": {},
   "outputs": [],
   "source": [
    "y_pred_rf = rf_Grid.predict_proba(X_test_nm)"
   ]
  },
  {
   "cell_type": "code",
   "execution_count": 37,
   "id": "eb1fe923",
   "metadata": {},
   "outputs": [
    {
     "name": "stderr",
     "output_type": "stream",
     "text": [
      "C:\\Users\\DELL\\AppData\\Local\\Temp/ipykernel_24568/3721149385.py:4: RuntimeWarning: divide by zero encountered in true_divide\n",
      "  F = 2 / (1/precision + 1/recall)\n"
     ]
    },
    {
     "data": {
      "text/plain": [
       "{'threshold': 0.21041666666666664, 'f1': 0.4670391061452514}"
      ]
     },
     "execution_count": 37,
     "metadata": {},
     "output_type": "execute_result"
    }
   ],
   "source": [
    "optimal = threshold_search(y_test_nm, y_pred_rf[:,1])\n",
    "\n",
    "optimal"
   ]
  },
  {
   "cell_type": "code",
   "execution_count": 41,
   "id": "9d2d502d",
   "metadata": {},
   "outputs": [
    {
     "name": "stdout",
     "output_type": "stream",
     "text": [
      "0.8422013841580249\n"
     ]
    },
    {
     "data": {
      "image/png": "[encoded data removed]",
      "text/plain": [
       "<Figure size 432x288 with 1 Axes>"
      ]
     },
     "metadata": {},
     "output_type": "display_data"
    }
   ],
   "source": [
    "\n",
    "def plot_roc_curve(fpr, tpr):\n",
    "    plt.plot(fpr, tpr, color='orange', label='ROC')\n",
    "    plt.plot([0, 1], [0, 1], color='darkblue', linestyle='--')\n",
    "    plt.xlabel('False Positive Rate')\n",
    "    plt.ylabel('True Positive Rate')\n",
    "    plt.title('Receiver Operating Characteristic (ROC) Curve')\n",
    "    plt.legend()\n",
    "    plt.show()\n",
    "\n",
    "y_true = np.array([0,0, 1, 1,1])\n",
    "y_scores = np.array([0.0,0.09, .05, .75,1])\n",
    "\n",
    "y_pred_rf = rf_Grid.predict_proba(X_test_nm)\n",
    "fpr, tpr, thresholds = metrics.roc_curve(y_test_nm,  y_pred_rf[:,1])\n",
    "\n",
    "print(roc_auc_score(y_test_nm,  y_pred_rf[:,1]))\n",
    "optimal_idx = np.argmax(tpr - fpr)\n",
    "\n",
    "plot_roc_curve(fpr, tpr)\n"
   ]
  },
  {
   "cell_type": "markdown",
   "id": "0e29e819",
   "metadata": {},
   "source": [
    "We can see that if we use the optimal threshold 0.222 we will get the F1 score as 0.47 which is much more improved. Lets see"
   ]
  },
  {
   "cell_type": "code",
   "execution_count": 36,
   "id": "b5eab4a6",
   "metadata": {},
   "outputs": [],
   "source": [
    "threshold = 0.2222222222222\n",
    "\n",
    "\n",
    "predicted = (y_pred_rf [:,1] >= threshold).astype('int')"
   ]
  },
  {
   "cell_type": "code",
   "execution_count": 37,
   "id": "29b48ce6",
   "metadata": {},
   "outputs": [
    {
     "name": "stdout",
     "output_type": "stream",
     "text": [
      "[[3214  268]\n",
      " [ 189  198]]\n",
      "Classification report : \n",
      "               precision    recall  f1-score   support\n",
      "\n",
      "           1       0.42      0.51      0.46       387\n",
      "           0       0.94      0.92      0.93      3482\n",
      "\n",
      "    accuracy                           0.88      3869\n",
      "   macro avg       0.68      0.72      0.70      3869\n",
      "weighted avg       0.89      0.88      0.89      3869\n",
      "\n"
     ]
    },
    {
     "data": {
      "text/plain": [
       "0.7173303233907271"
      ]
     },
     "execution_count": 37,
     "metadata": {},
     "output_type": "execute_result"
    }
   ],
   "source": [
    "from sklearn.metrics import confusion_matrix, accuracy_score\n",
    "cm = confusion_matrix(y_test_nm, predicted)\n",
    "print(cm)\n",
    "accuracy_score(y_test_nm, predicted)\n",
    "from sklearn.metrics import classification_report\n",
    "matrix = classification_report(y_test_nm,predicted,labels=[1,0])\n",
    "print('Classification report : \\n',matrix)\n",
    "#Area under ROC curve\n",
    "from sklearn.metrics import roc_auc_score\n",
    "roc_auc_score(y_test_nm,predicted)"
   ]
  },
  {
   "cell_type": "markdown",
   "id": "662ccc9d",
   "metadata": {},
   "source": [
    "We will use this parameter and same architecture on our Original Test data in the last. Now, lets move to deep learning we will use LSTM because it seems to be best on time-series data. Before moving to LSTM we have to work on our dataset to prepare it for LSTM.  We will use the old dataset (without merging by mean) with 928416 rows and covert it into three-dimensional array as LSTM accept 3 dimensional input"
   ]
  },
  {
   "cell_type": "code",
   "execution_count": 38,
   "id": "15d3f3f1",
   "metadata": {},
   "outputs": [
    {
     "data": {
      "text/plain": [
       "(928416, 23)"
      ]
     },
     "execution_count": 38,
     "metadata": {},
     "output_type": "execute_result"
    }
   ],
   "source": [
    "train_dataset.shape"
   ]
  },
  {
   "cell_type": "markdown",
   "id": "4c76e3c5",
   "metadata": {},
   "source": [
    "We will again follow the pre-processing steps - cleaning, missing values, scaling, converting categorical variable to float "
   ]
  },
  {
   "cell_type": "code",
   "execution_count": 39,
   "id": "55815bb1",
   "metadata": {},
   "outputs": [
    {
     "data": {
      "text/plain": [
       "HADM_ID                     0.000000\n",
       "Height                      0.808913\n",
       "GCS_Eye                     0.000362\n",
       "GCS_motor                   0.000672\n",
       "GCS_verbal                  0.000465\n",
       "ADMISSION_TYPE              0.000000\n",
       "ETHNICITY                   0.000000\n",
       "GENDER                      0.000000\n",
       "FIRST_CAREUNIT              0.000000\n",
       "AGE                         0.000000\n",
       "IN_HOSPITAL_DEATH           0.000000\n",
       "CHART_TIME_STEP_HR          0.000000\n",
       "Diastolic_blood_pressure    0.263996\n",
       "Fraction_inspired_oxygen    0.880626\n",
       "Glucose                     0.789626\n",
       "Heart_Rate                  0.242903\n",
       "Mean_blood_pressure         0.252336\n",
       "Oxygen_saturation           0.277549\n",
       "pH                          0.854873\n",
       "Respiratory_rate            0.247691\n",
       "Systolic_blood_pressure     0.253796\n",
       "Temperature                 0.729326\n",
       "Weight                      0.906899\n",
       "dtype: float64"
      ]
     },
     "execution_count": 39,
     "metadata": {},
     "output_type": "execute_result"
    }
   ],
   "source": [
    "n_obs_tst = train_dataset.shape[0]\n",
    "train_dataset.isna().sum()/n_obs_tst"
   ]
  },
  {
   "cell_type": "markdown",
   "id": "628bedb9",
   "metadata": {},
   "source": [
    "This type we have to drop all the columns which has more than 70% missing values. "
   ]
  },
  {
   "cell_type": "code",
   "execution_count": 40,
   "id": "f6dd967a",
   "metadata": {},
   "outputs": [],
   "source": [
    "train_dataset.drop(columns=['Height', 'Fraction_inspired_oxygen', 'Glucose', 'pH', 'Weight', 'Temperature','CHART_TIME_STEP_HR'], inplace=True)\n"
   ]
  },
  {
   "cell_type": "code",
   "execution_count": 41,
   "id": "df4fb612",
   "metadata": {},
   "outputs": [
    {
     "data": {
      "text/html": [
       "<div>\n",
       "<style scoped>\n",
       "    .dataframe tbody tr th:only-of-type {\n",
       "        vertical-align: middle;\n",
       "    }\n",
       "\n",
       "    .dataframe tbody tr th {\n",
       "        vertical-align: top;\n",
       "    }\n",
       "\n",
       "    .dataframe thead th {\n",
       "        text-align: right;\n",
       "    }\n",
       "</style>\n",
       "<table border=\"1\" class=\"dataframe\">\n",
       "  <thead>\n",
       "    <tr style=\"text-align: right;\">\n",
       "      <th></th>\n",
       "      <th>HADM_ID</th>\n",
       "      <th>GCS_Eye</th>\n",
       "      <th>GCS_motor</th>\n",
       "      <th>GCS_verbal</th>\n",
       "      <th>ADMISSION_TYPE</th>\n",
       "      <th>ETHNICITY</th>\n",
       "      <th>GENDER</th>\n",
       "      <th>FIRST_CAREUNIT</th>\n",
       "      <th>AGE</th>\n",
       "      <th>IN_HOSPITAL_DEATH</th>\n",
       "      <th>Diastolic_blood_pressure</th>\n",
       "      <th>Heart_Rate</th>\n",
       "      <th>Mean_blood_pressure</th>\n",
       "      <th>Oxygen_saturation</th>\n",
       "      <th>Respiratory_rate</th>\n",
       "      <th>Systolic_blood_pressure</th>\n",
       "    </tr>\n",
       "  </thead>\n",
       "  <tbody>\n",
       "    <tr>\n",
       "      <th>0</th>\n",
       "      <td>10467</td>\n",
       "      <td>4.0</td>\n",
       "      <td>6.0</td>\n",
       "      <td>5.0</td>\n",
       "      <td>EMERGENCY</td>\n",
       "      <td>WHITE</td>\n",
       "      <td>0</td>\n",
       "      <td>MICU</td>\n",
       "      <td>35.49863</td>\n",
       "      <td>0</td>\n",
       "      <td>NaN</td>\n",
       "      <td>NaN</td>\n",
       "      <td>NaN</td>\n",
       "      <td>NaN</td>\n",
       "      <td>NaN</td>\n",
       "      <td>NaN</td>\n",
       "    </tr>\n",
       "    <tr>\n",
       "      <th>1</th>\n",
       "      <td>10467</td>\n",
       "      <td>4.0</td>\n",
       "      <td>6.0</td>\n",
       "      <td>5.0</td>\n",
       "      <td>EMERGENCY</td>\n",
       "      <td>WHITE</td>\n",
       "      <td>0</td>\n",
       "      <td>MICU</td>\n",
       "      <td>35.49863</td>\n",
       "      <td>0</td>\n",
       "      <td>65.57345</td>\n",
       "      <td>NaN</td>\n",
       "      <td>80.549288</td>\n",
       "      <td>NaN</td>\n",
       "      <td>NaN</td>\n",
       "      <td>NaN</td>\n",
       "    </tr>\n",
       "    <tr>\n",
       "      <th>2</th>\n",
       "      <td>10467</td>\n",
       "      <td>4.0</td>\n",
       "      <td>6.0</td>\n",
       "      <td>5.0</td>\n",
       "      <td>EMERGENCY</td>\n",
       "      <td>WHITE</td>\n",
       "      <td>0</td>\n",
       "      <td>MICU</td>\n",
       "      <td>35.49863</td>\n",
       "      <td>0</td>\n",
       "      <td>NaN</td>\n",
       "      <td>NaN</td>\n",
       "      <td>NaN</td>\n",
       "      <td>NaN</td>\n",
       "      <td>NaN</td>\n",
       "      <td>125.697670</td>\n",
       "    </tr>\n",
       "    <tr>\n",
       "      <th>3</th>\n",
       "      <td>10467</td>\n",
       "      <td>4.0</td>\n",
       "      <td>6.0</td>\n",
       "      <td>5.0</td>\n",
       "      <td>EMERGENCY</td>\n",
       "      <td>WHITE</td>\n",
       "      <td>0</td>\n",
       "      <td>MICU</td>\n",
       "      <td>35.49863</td>\n",
       "      <td>0</td>\n",
       "      <td>NaN</td>\n",
       "      <td>NaN</td>\n",
       "      <td>NaN</td>\n",
       "      <td>NaN</td>\n",
       "      <td>NaN</td>\n",
       "      <td>NaN</td>\n",
       "    </tr>\n",
       "    <tr>\n",
       "      <th>4</th>\n",
       "      <td>10467</td>\n",
       "      <td>4.0</td>\n",
       "      <td>6.0</td>\n",
       "      <td>5.0</td>\n",
       "      <td>EMERGENCY</td>\n",
       "      <td>WHITE</td>\n",
       "      <td>0</td>\n",
       "      <td>MICU</td>\n",
       "      <td>35.49863</td>\n",
       "      <td>0</td>\n",
       "      <td>NaN</td>\n",
       "      <td>77.723207</td>\n",
       "      <td>NaN</td>\n",
       "      <td>96.837797</td>\n",
       "      <td>NaN</td>\n",
       "      <td>105.314729</td>\n",
       "    </tr>\n",
       "  </tbody>\n",
       "</table>\n",
       "</div>"
      ],
      "text/plain": [
       "   HADM_ID  GCS_Eye  GCS_motor  GCS_verbal ADMISSION_TYPE ETHNICITY  GENDER  \\\n",
       "0    10467      4.0        6.0         5.0      EMERGENCY     WHITE       0   \n",
       "1    10467      4.0        6.0         5.0      EMERGENCY     WHITE       0   \n",
       "2    10467      4.0        6.0         5.0      EMERGENCY     WHITE       0   \n",
       "3    10467      4.0        6.0         5.0      EMERGENCY     WHITE       0   \n",
       "4    10467      4.0        6.0         5.0      EMERGENCY     WHITE       0   \n",
       "\n",
       "  FIRST_CAREUNIT       AGE  IN_HOSPITAL_DEATH  Diastolic_blood_pressure  \\\n",
       "0           MICU  35.49863                  0                       NaN   \n",
       "1           MICU  35.49863                  0                  65.57345   \n",
       "2           MICU  35.49863                  0                       NaN   \n",
       "3           MICU  35.49863                  0                       NaN   \n",
       "4           MICU  35.49863                  0                       NaN   \n",
       "\n",
       "   Heart_Rate  Mean_blood_pressure  Oxygen_saturation  Respiratory_rate  \\\n",
       "0         NaN                  NaN                NaN               NaN   \n",
       "1         NaN            80.549288                NaN               NaN   \n",
       "2         NaN                  NaN                NaN               NaN   \n",
       "3         NaN                  NaN                NaN               NaN   \n",
       "4   77.723207                  NaN          96.837797               NaN   \n",
       "\n",
       "   Systolic_blood_pressure  \n",
       "0                      NaN  \n",
       "1                      NaN  \n",
       "2               125.697670  \n",
       "3                      NaN  \n",
       "4               105.314729  "
      ]
     },
     "execution_count": 41,
     "metadata": {},
     "output_type": "execute_result"
    }
   ],
   "source": [
    "train_dataset.head()"
   ]
  },
  {
   "cell_type": "code",
   "execution_count": 42,
   "id": "dd62f029",
   "metadata": {},
   "outputs": [],
   "source": [
    "X_ts = train_dataset.copy()\n",
    "X_ts.drop(columns = ['IN_HOSPITAL_DEATH', 'HADM_ID'], inplace = True)\n",
    "\n"
   ]
  },
  {
   "cell_type": "markdown",
   "id": "e167c46c",
   "metadata": {},
   "source": [
    "We will use sam old y as our target variable doesn't change it will be same for 19342 patients. We will create copy of our old Y to avoid confusion"
   ]
  },
  {
   "cell_type": "code",
   "execution_count": 43,
   "id": "dd45a548",
   "metadata": {},
   "outputs": [],
   "source": [
    "y_ts = y.copy()"
   ]
  },
  {
   "cell_type": "code",
   "execution_count": 44,
   "id": "838aaa14",
   "metadata": {},
   "outputs": [
    {
     "data": {
      "text/plain": [
       "(19342,)"
      ]
     },
     "execution_count": 44,
     "metadata": {},
     "output_type": "execute_result"
    }
   ],
   "source": [
    "y_ts.shape"
   ]
  },
  {
   "cell_type": "code",
   "execution_count": 45,
   "id": "233d019f",
   "metadata": {},
   "outputs": [
    {
     "data": {
      "text/plain": [
       "(928416, 14)"
      ]
     },
     "execution_count": 45,
     "metadata": {},
     "output_type": "execute_result"
    }
   ],
   "source": [
    "X_ts.shape"
   ]
  },
  {
   "cell_type": "code",
   "execution_count": 46,
   "id": "91c964f0",
   "metadata": {},
   "outputs": [
    {
     "data": {
      "text/plain": [
       "GCS_Eye                     0.000362\n",
       "GCS_motor                   0.000672\n",
       "GCS_verbal                  0.000465\n",
       "ADMISSION_TYPE              0.000000\n",
       "ETHNICITY                   0.000000\n",
       "GENDER                      0.000000\n",
       "FIRST_CAREUNIT              0.000000\n",
       "AGE                         0.000000\n",
       "Diastolic_blood_pressure    0.263996\n",
       "Heart_Rate                  0.242903\n",
       "Mean_blood_pressure         0.252336\n",
       "Oxygen_saturation           0.277549\n",
       "Respiratory_rate            0.247691\n",
       "Systolic_blood_pressure     0.253796\n",
       "dtype: float64"
      ]
     },
     "execution_count": 46,
     "metadata": {},
     "output_type": "execute_result"
    }
   ],
   "source": [
    "n_obs_X = X_ts.shape[0]\n",
    "X_ts.isna().sum()/n_obs_X"
   ]
  },
  {
   "cell_type": "markdown",
   "id": "92025651",
   "metadata": {},
   "source": [
    "For others we can use Mean imputer to deal with missing values"
   ]
  },
  {
   "cell_type": "code",
   "execution_count": 47,
   "id": "41b7a8f2",
   "metadata": {},
   "outputs": [],
   "source": [
    "\n",
    "ct = ColumnTransformer(transformers=[('encoder', OneHotEncoder(), [3,4,6])], remainder='passthrough')\n",
    "X_ts = np.array(ct.fit_transform(X_ts))\n",
    "\n",
    "\n",
    "#To deal with missing values, we used Simple mean Imputer\n",
    "\n",
    "imputer = SimpleImputer(missing_values=np.nan, strategy='mean')\n",
    "imputer.fit(X_ts[:])\n",
    "X_ts[:] = imputer.transform(X_ts[:])\n",
    "\n",
    "#Now, we will use standard scaler to scale the data\n",
    "\n",
    "\n",
    "scaler = StandardScaler().fit(X_ts)\n",
    "X_ts = scaler.transform(X_ts)"
   ]
  },
  {
   "cell_type": "code",
   "execution_count": 48,
   "id": "fc58c91a",
   "metadata": {},
   "outputs": [
    {
     "data": {
      "text/plain": [
       "(928416, 24)"
      ]
     },
     "execution_count": 48,
     "metadata": {},
     "output_type": "execute_result"
    }
   ],
   "source": [
    "X_ts.shape"
   ]
  },
  {
   "cell_type": "markdown",
   "id": "ee7fd30b",
   "metadata": {},
   "source": [
    "Lets reshape the data to 3 dimensional "
   ]
  },
  {
   "cell_type": "code",
   "execution_count": 49,
   "id": "da863e4a",
   "metadata": {},
   "outputs": [],
   "source": [
    "X_new_reshape  = X_ts.reshape((19342, 48, 24))"
   ]
  },
  {
   "cell_type": "code",
   "execution_count": 50,
   "id": "0ae63bf6",
   "metadata": {},
   "outputs": [],
   "source": [
    "y_new = np.array(y_ts)"
   ]
  },
  {
   "cell_type": "code",
   "execution_count": 51,
   "id": "0e097142",
   "metadata": {},
   "outputs": [
    {
     "data": {
      "text/plain": [
       "(19342, 48, 24)"
      ]
     },
     "execution_count": 51,
     "metadata": {},
     "output_type": "execute_result"
    }
   ],
   "source": [
    "X_new_reshape.shape"
   ]
  },
  {
   "cell_type": "code",
   "execution_count": 52,
   "id": "d3910d88",
   "metadata": {
    "scrolled": true
   },
   "outputs": [
    {
     "data": {
      "text/plain": [
       "(19342,)"
      ]
     },
     "execution_count": 52,
     "metadata": {},
     "output_type": "execute_result"
    }
   ],
   "source": [
    "y_new.shape"
   ]
  },
  {
   "cell_type": "markdown",
   "id": "72026fa0",
   "metadata": {},
   "source": [
    "Here we will use normal split to keep the time-series sequence"
   ]
  },
  {
   "cell_type": "code",
   "execution_count": 53,
   "id": "a3ea2e23",
   "metadata": {},
   "outputs": [],
   "source": [
    "trn_size = 0.8\n",
    "trn_idx = int(len(X_new_reshape) * trn_size)\n",
    "X_train, X_test = X_new_reshape[0:trn_idx], X_new_reshape[trn_idx:len(X_new_reshape)]"
   ]
  },
  {
   "cell_type": "code",
   "execution_count": 54,
   "id": "7109cd88",
   "metadata": {},
   "outputs": [],
   "source": [
    "\n",
    "y_train, y_test = y_new[0:trn_idx], y_new[trn_idx:len(y_new)]"
   ]
  },
  {
   "cell_type": "code",
   "execution_count": 55,
   "id": "a351264e",
   "metadata": {
    "scrolled": true
   },
   "outputs": [
    {
     "data": {
      "text/plain": [
       "(15473, 48, 24)"
      ]
     },
     "execution_count": 55,
     "metadata": {},
     "output_type": "execute_result"
    }
   ],
   "source": [
    "X_train.shape"
   ]
  },
  {
   "cell_type": "code",
   "execution_count": 56,
   "id": "a2aa2eb5",
   "metadata": {
    "colab": {
     "base_uri": "https://localhost:8080/",
     "height": 1000
    },
    "colab_type": "code",
    "executionInfo": {
     "elapsed": 2154,
     "status": "ok",
     "timestamp": 1588265315503,
     "user": {
      "displayName": "Hadelin de Ponteves",
      "photoUrl": "https://lh3.googleusercontent.com/a-/AOh14GhEuXdT7eQweUmRPW8_laJuPggSK6hfvpl5a6WBaA=s64",
      "userId": "15047218817161520419"
     },
     "user_tz": -240
    },
    "id": "qbb7i0DH1qui",
    "outputId": "94e717d7-fa9a-4e22-9c68-d43421cbfb92"
   },
   "outputs": [
    {
     "data": {
      "text/plain": [
       "(3869, 48, 24)"
      ]
     },
     "execution_count": 56,
     "metadata": {},
     "output_type": "execute_result"
    }
   ],
   "source": [
    "X_test.shape"
   ]
  },
  {
   "cell_type": "code",
   "execution_count": 57,
   "id": "34d7f174",
   "metadata": {},
   "outputs": [
    {
     "data": {
      "text/plain": [
       "(15473,)"
      ]
     },
     "execution_count": 57,
     "metadata": {},
     "output_type": "execute_result"
    }
   ],
   "source": [
    "y_train.shape"
   ]
  },
  {
   "cell_type": "code",
   "execution_count": 58,
   "id": "170ba8a8",
   "metadata": {
    "scrolled": false
   },
   "outputs": [
    {
     "data": {
      "text/plain": [
       "(3869,)"
      ]
     },
     "execution_count": 58,
     "metadata": {},
     "output_type": "execute_result"
    }
   ],
   "source": [
    "y_test.shape"
   ]
  },
  {
   "cell_type": "code",
   "execution_count": 59,
   "id": "aebf6fc2",
   "metadata": {
    "scrolled": false
   },
   "outputs": [
    {
     "name": "stdout",
     "output_type": "stream",
     "text": [
      "Model: \"sequential\"\n",
      "_________________________________________________________________\n",
      "Layer (type)                 Output Shape              Param #   \n",
      "=================================================================\n",
      "lstm (LSTM)                  (None, 256)               287744    \n",
      "_________________________________________________________________\n",
      "dropout (Dropout)            (None, 256)               0         \n",
      "_________________________________________________________________\n",
      "dense (Dense)                (None, 1)                 257       \n",
      "=================================================================\n",
      "Total params: 288,001\n",
      "Trainable params: 288,001\n",
      "Non-trainable params: 0\n",
      "_________________________________________________________________\n"
     ]
    }
   ],
   "source": [
    "model = Sequential()\n",
    "model.add(LSTM(256, input_shape = (48,24)))\n",
    "\n",
    "\n",
    "model.add(Dropout(0.2))\n",
    "\n",
    "model.add(Dense(1))\n",
    "model.summary()"
   ]
  },
  {
   "cell_type": "markdown",
   "id": "8687cfbf",
   "metadata": {},
   "source": [
    "Our model architecture is ready, now we will use binary_crossentropy loss function as it is suitable for our problem to run the model "
   ]
  },
  {
   "cell_type": "code",
   "execution_count": 60,
   "id": "3999c229",
   "metadata": {
    "scrolled": true
   },
   "outputs": [
    {
     "name": "stdout",
     "output_type": "stream",
     "text": [
      "Epoch 1/10\n",
      "484/484 [==============================] - 43s 89ms/step - loss: 0.9142\n",
      "Epoch 2/10\n",
      "484/484 [==============================] - 36s 75ms/step - loss: 0.9885\n",
      "Epoch 3/10\n",
      "484/484 [==============================] - 35s 73ms/step - loss: 1.2090\n",
      "Epoch 4/10\n",
      "484/484 [==============================] - 35s 72ms/step - loss: 1.1552\n",
      "Epoch 5/10\n",
      "484/484 [==============================] - 34s 71ms/step - loss: 1.1069\n",
      "Epoch 6/10\n",
      "484/484 [==============================] - 36s 73ms/step - loss: 0.8467\n",
      "Epoch 7/10\n",
      "484/484 [==============================] - 37s 76ms/step - loss: 1.3002\n",
      "Epoch 8/10\n",
      "484/484 [==============================] - 35s 72ms/step - loss: 1.1181\n",
      "Epoch 9/10\n",
      "484/484 [==============================] - 35s 72ms/step - loss: 1.1456\n",
      "Epoch 10/10\n",
      "484/484 [==============================] - 34s 70ms/step - loss: 0.6477\n"
     ]
    }
   ],
   "source": [
    "model.compile(loss='binary_crossentropy', optimizer='adam')\n",
    "\n",
    "history = model.fit(X_train, y_train, epochs=10, verbose=1)"
   ]
  },
  {
   "cell_type": "markdown",
   "id": "075e6957",
   "metadata": {},
   "source": [
    "Lets plot the model loss on graph to visualise it properly"
   ]
  },
  {
   "cell_type": "code",
   "execution_count": 61,
   "id": "5e50a9d9",
   "metadata": {},
   "outputs": [
    {
     "data": {
      "text/plain": [
       "Text(0, 0.5, \"['loss']\")"
      ]
     },
     "execution_count": 61,
     "metadata": {},
     "output_type": "execute_result"
    },
    {
     "data": {
      "image/png": "[encoded data removed]",
      "text/plain": [
       "<Figure size 432x288 with 1 Axes>"
      ]
     },
     "metadata": {
      "needs_background": "light"
     },
     "output_type": "display_data"
    }
   ],
   "source": [
    "plt.plot(range(len(model.history.history['loss'])), model.history.history['loss'])\n",
    "plt.xlabel(['Epoch'])\n",
    "plt.ylabel(['loss'])"
   ]
  },
  {
   "cell_type": "code",
   "execution_count": 62,
   "id": "ac39a708",
   "metadata": {},
   "outputs": [
    {
     "name": "stdout",
     "output_type": "stream",
     "text": [
      "484/484 [==============================] - 14s 29ms/step - loss: 0.5631\n"
     ]
    },
    {
     "data": {
      "text/plain": [
       "0.563078761100769"
      ]
     },
     "execution_count": 62,
     "metadata": {},
     "output_type": "execute_result"
    }
   ],
   "source": [
    "model.evaluate(X_train, y_train)"
   ]
  },
  {
   "cell_type": "code",
   "execution_count": 63,
   "id": "031a5b93",
   "metadata": {
    "scrolled": true
   },
   "outputs": [
    {
     "name": "stdout",
     "output_type": "stream",
     "text": [
      "121/121 [==============================] - 3s 28ms/step - loss: 0.5591\n"
     ]
    },
    {
     "data": {
      "text/plain": [
       "0.5591065287590027"
      ]
     },
     "execution_count": 63,
     "metadata": {},
     "output_type": "execute_result"
    }
   ],
   "source": [
    "model.evaluate(X_test, y_test)"
   ]
  },
  {
   "cell_type": "code",
   "execution_count": 64,
   "id": "0e561c73",
   "metadata": {},
   "outputs": [
    {
     "data": {
      "text/plain": [
       "array([[-0.586305  ],\n",
       "       [-0.10329291],\n",
       "       [-1.9192839 ],\n",
       "       ...,\n",
       "       [-0.75172716],\n",
       "       [ 0.15389568],\n",
       "       [-0.03629659]], dtype=float32)"
      ]
     },
     "execution_count": 64,
     "metadata": {},
     "output_type": "execute_result"
    }
   ],
   "source": [
    "seq_predictions=model.predict(X_test)\n",
    "seq_predictions"
   ]
  },
  {
   "cell_type": "code",
   "execution_count": 65,
   "id": "621d1313",
   "metadata": {
    "scrolled": true
   },
   "outputs": [
    {
     "name": "stderr",
     "output_type": "stream",
     "text": [
      "C:\\Users\\DELL\\AppData\\Local\\Temp/ipykernel_12164/3721149385.py:4: RuntimeWarning: divide by zero encountered in true_divide\n",
      "  F = 2 / (1/precision + 1/recall)\n"
     ]
    },
    {
     "data": {
      "text/plain": [
       "{'threshold': 0.2540298402309418, 'f1': 0.4621733149931224}"
      ]
     },
     "execution_count": 65,
     "metadata": {},
     "output_type": "execute_result"
    }
   ],
   "source": [
    "optimal = threshold_search(y_test, seq_predictions)\n",
    "optimal"
   ]
  },
  {
   "cell_type": "code",
   "execution_count": 66,
   "id": "5ee9a435",
   "metadata": {
    "scrolled": true
   },
   "outputs": [
    {
     "name": "stdout",
     "output_type": "stream",
     "text": [
      "Outputs shape\n",
      "(3869, 1)\n",
      "(3869,)\n"
     ]
    }
   ],
   "source": [
    "threshold = 0.3 #changes everytime with optimal threshold value\n",
    "seq_predictions=model.predict(X_test)\n",
    "print('Outputs shape')    \n",
    "print(seq_predictions.shape) # prints (n,1) but  need (n,)\n",
    "seq_predictions=np.transpose(seq_predictions)[0]  # transformation to get (n,)\n",
    "print(seq_predictions.shape)  # now the shape is (n,)\n",
    "# Applying transformation to get binary values predictions with thresold\n",
    "seq_predictions = list(map(lambda x: 0 if x<threshold else 1, seq_predictions))"
   ]
  },
  {
   "cell_type": "code",
   "execution_count": 67,
   "id": "484c9172",
   "metadata": {
    "scrolled": true
   },
   "outputs": [
    {
     "name": "stdout",
     "output_type": "stream",
     "text": [
      "[[3346  161]\n",
      " [ 216  146]]\n",
      "Classification report : \n",
      "               precision    recall  f1-score   support\n",
      "\n",
      "           1       0.48      0.40      0.44       362\n",
      "           0       0.94      0.95      0.95      3507\n",
      "\n",
      "    accuracy                           0.90      3869\n",
      "   macro avg       0.71      0.68      0.69      3869\n",
      "weighted avg       0.90      0.90      0.90      3869\n",
      "\n"
     ]
    },
    {
     "data": {
      "text/plain": [
       "0.6787033667471687"
      ]
     },
     "execution_count": 67,
     "metadata": {},
     "output_type": "execute_result"
    }
   ],
   "source": [
    "from sklearn.metrics import confusion_matrix, accuracy_score\n",
    "cm = confusion_matrix(y_test, seq_predictions)\n",
    "print(cm)\n",
    "accuracy_score(y_test, seq_predictions)\n",
    "from sklearn.metrics import classification_report\n",
    "matrix = classification_report(y_test,seq_predictions,labels=[1,0])\n",
    "print('Classification report : \\n',matrix)\n",
    "#Area under ROC curve\n",
    "from sklearn.metrics import roc_auc_score\n",
    "roc_auc_score(y_test,seq_predictions)"
   ]
  },
  {
   "cell_type": "markdown",
   "id": "94682fd4",
   "metadata": {},
   "source": [
    "Now, lets plot ROC_AUC Curve"
   ]
  },
  {
   "cell_type": "code",
   "execution_count": 68,
   "id": "d1aa4091",
   "metadata": {},
   "outputs": [
    {
     "name": "stdout",
     "output_type": "stream",
     "text": [
      "0.8130164296505648\n"
     ]
    },
    {
     "data": {
      "image/png": "[encoded data removed]",
      "text/plain": [
       "<Figure size 432x288 with 1 Axes>"
      ]
     },
     "metadata": {
      "needs_background": "light"
     },
     "output_type": "display_data"
    }
   ],
   "source": [
    "\n",
    "def plot_roc_curve(fpr, tpr):\n",
    "    plt.plot(fpr, tpr, color='orange', label='ROC')\n",
    "    plt.plot([0, 1], [0, 1], color='darkblue', linestyle='--')\n",
    "    plt.xlabel('False Positive Rate')\n",
    "    plt.ylabel('True Positive Rate')\n",
    "    plt.title('Receiver Operating Characteristic (ROC) Curve')\n",
    "    plt.legend()\n",
    "    plt.show()\n",
    "\n",
    "y_true = np.array([0,0, 1, 1,1])\n",
    "y_scores = np.array([0.0,0.09, .05, .75,1])\n",
    "\n",
    "seq_predictions=model.predict(X_test)\n",
    "fpr, tpr, thresholds = metrics.roc_curve(y_test, seq_predictions)\n",
    "\n",
    "print(roc_auc_score(y_test, seq_predictions))\n",
    "optimal_idx = np.argmax(tpr - fpr)\n",
    "\n",
    "plot_roc_curve(fpr, tpr)\n"
   ]
  },
  {
   "cell_type": "markdown",
   "id": "a773826a",
   "metadata": {},
   "source": [
    "We can see that our score is increase to 48. Now lets try the model with sigmoid activation function which suits for binary problem"
   ]
  },
  {
   "cell_type": "code",
   "execution_count": 69,
   "id": "b655c317",
   "metadata": {
    "scrolled": false
   },
   "outputs": [
    {
     "name": "stdout",
     "output_type": "stream",
     "text": [
      "Model: \"sequential_1\"\n",
      "_________________________________________________________________\n",
      "Layer (type)                 Output Shape              Param #   \n",
      "=================================================================\n",
      "lstm_1 (LSTM)                (None, 256)               287744    \n",
      "_________________________________________________________________\n",
      "dropout_1 (Dropout)          (None, 256)               0         \n",
      "_________________________________________________________________\n",
      "dense_1 (Dense)              (None, 1)                 257       \n",
      "=================================================================\n",
      "Total params: 288,001\n",
      "Trainable params: 288,001\n",
      "Non-trainable params: 0\n",
      "_________________________________________________________________\n"
     ]
    }
   ],
   "source": [
    "model_1 = Sequential()\n",
    "model_1.add(LSTM(256, input_shape = (48,24)))\n",
    "\n",
    "\n",
    "model_1.add(Dropout(0.2))\n",
    "\n",
    "model_1.add(Dense(1, activation = 'sigmoid'))\n",
    "model_1.summary()"
   ]
  },
  {
   "cell_type": "code",
   "execution_count": 70,
   "id": "fb993e2f",
   "metadata": {
    "scrolled": true
   },
   "outputs": [
    {
     "name": "stdout",
     "output_type": "stream",
     "text": [
      "Epoch 1/10\n",
      "484/484 [==============================] - 35s 71ms/step - loss: 0.2505\n",
      "Epoch 2/10\n",
      "484/484 [==============================] - 35s 72ms/step - loss: 0.2294\n",
      "Epoch 3/10\n",
      "484/484 [==============================] - 34s 71ms/step - loss: 0.2253\n",
      "Epoch 4/10\n",
      "484/484 [==============================] - 35s 72ms/step - loss: 0.2148\n",
      "Epoch 5/10\n",
      "484/484 [==============================] - 304s 628ms/step - loss: 0.2029\n",
      "Epoch 6/10\n",
      "484/484 [==============================] - 30s 63ms/step - loss: 0.1957\n",
      "Epoch 7/10\n",
      "484/484 [==============================] - 33s 69ms/step - loss: 0.1886\n",
      "Epoch 8/10\n",
      "484/484 [==============================] - 34s 70ms/step - loss: 0.1811\n",
      "Epoch 9/10\n",
      "484/484 [==============================] - 33s 68ms/step - loss: 0.1729\n",
      "Epoch 10/10\n",
      "484/484 [==============================] - 33s 68ms/step - loss: 0.1673\n"
     ]
    }
   ],
   "source": [
    "model_1.compile(loss='binary_crossentropy', optimizer='adam')\n",
    "\n",
    "history = model_1.fit(X_train, y_train, epochs=10, verbose=1)"
   ]
  },
  {
   "cell_type": "code",
   "execution_count": 71,
   "id": "ebcc1033",
   "metadata": {},
   "outputs": [
    {
     "data": {
      "text/plain": [
       "Text(0, 0.5, \"['loss']\")"
      ]
     },
     "execution_count": 71,
     "metadata": {},
     "output_type": "execute_result"
    },
    {
     "data": {
      "image/png": "[encoded data removed]",
      "text/plain": [
       "<Figure size 432x288 with 1 Axes>"
      ]
     },
     "metadata": {
      "needs_background": "light"
     },
     "output_type": "display_data"
    }
   ],
   "source": [
    "plt.plot(range(len(model_1.history.history['loss'])), model_1.history.history['loss'])\n",
    "plt.xlabel(['Epoch'])\n",
    "plt.ylabel(['loss'])"
   ]
  },
  {
   "cell_type": "code",
   "execution_count": 72,
   "id": "beed4c0d",
   "metadata": {},
   "outputs": [
    {
     "name": "stdout",
     "output_type": "stream",
     "text": [
      "484/484 [==============================] - 14s 29ms/step - loss: 0.1499\n"
     ]
    },
    {
     "data": {
      "text/plain": [
       "0.1498895138502121"
      ]
     },
     "execution_count": 72,
     "metadata": {},
     "output_type": "execute_result"
    }
   ],
   "source": [
    "model_1.evaluate(X_train, y_train)"
   ]
  },
  {
   "cell_type": "code",
   "execution_count": 73,
   "id": "4503536c",
   "metadata": {
    "scrolled": true
   },
   "outputs": [
    {
     "name": "stdout",
     "output_type": "stream",
     "text": [
      "121/121 [==============================] - 3s 28ms/step - loss: 0.1933\n"
     ]
    },
    {
     "data": {
      "text/plain": [
       "0.19326993823051453"
      ]
     },
     "execution_count": 73,
     "metadata": {},
     "output_type": "execute_result"
    }
   ],
   "source": [
    "model_1.evaluate(X_test, y_test)"
   ]
  },
  {
   "cell_type": "code",
   "execution_count": 74,
   "id": "106b6f52",
   "metadata": {},
   "outputs": [
    {
     "data": {
      "text/plain": [
       "array([[0.01204166],\n",
       "       [0.06639701],\n",
       "       [0.00152633],\n",
       "       ...,\n",
       "       [0.00369146],\n",
       "       [0.02114755],\n",
       "       [0.00505325]], dtype=float32)"
      ]
     },
     "execution_count": 74,
     "metadata": {},
     "output_type": "execute_result"
    }
   ],
   "source": [
    "seq_predictions_1=model_1.predict(X_test)\n",
    "seq_predictions_1"
   ]
  },
  {
   "cell_type": "code",
   "execution_count": 75,
   "id": "4b83eb0e",
   "metadata": {},
   "outputs": [
    {
     "name": "stderr",
     "output_type": "stream",
     "text": [
      "C:\\Users\\DELL\\AppData\\Local\\Temp/ipykernel_12164/3721149385.py:4: RuntimeWarning: divide by zero encountered in true_divide\n",
      "  F = 2 / (1/precision + 1/recall)\n"
     ]
    },
    {
     "data": {
      "text/plain": [
       "{'threshold': 0.4333048462867737, 'f1': 0.5787878787878789}"
      ]
     },
     "execution_count": 75,
     "metadata": {},
     "output_type": "execute_result"
    }
   ],
   "source": [
    "optimal = threshold_search(y_test, seq_predictions_1)\n",
    "optimal"
   ]
  },
  {
   "cell_type": "code",
   "execution_count": 76,
   "id": "3d6cdaff",
   "metadata": {
    "scrolled": true
   },
   "outputs": [
    {
     "name": "stdout",
     "output_type": "stream",
     "text": [
      "Outputs shape\n",
      "(3869, 1)\n",
      "(3869,)\n"
     ]
    }
   ],
   "source": [
    "threshold = 0.3  #changes with optimal value\n",
    "seq_predictions_1=model_1.predict(X_test)\n",
    "print('Outputs shape')    \n",
    "print(seq_predictions_1.shape) # prints (n,1) but  need (n,)\n",
    "seq_predictions_1=np.transpose(seq_predictions_1)[0]  # transformation to get (n,)\n",
    "print(seq_predictions_1.shape)  # now the shape is (n,)\n",
    "# Applying transformation to get binary values predictions with  thresold\n",
    "seq_predictions_1 = list(map(lambda x: 0 if x<threshold else 1, seq_predictions_1))"
   ]
  },
  {
   "cell_type": "code",
   "execution_count": 77,
   "id": "101bbb27",
   "metadata": {
    "scrolled": true
   },
   "outputs": [
    {
     "name": "stdout",
     "output_type": "stream",
     "text": [
      "[[3305  202]\n",
      " [ 138  224]]\n",
      "Classification report : \n",
      "               precision    recall  f1-score   support\n",
      "\n",
      "           1       0.53      0.62      0.57       362\n",
      "           0       0.96      0.94      0.95      3507\n",
      "\n",
      "    accuracy                           0.91      3869\n",
      "   macro avg       0.74      0.78      0.76      3869\n",
      "weighted avg       0.92      0.91      0.92      3869\n",
      "\n"
     ]
    },
    {
     "data": {
      "text/plain": [
       "0.7805927214237666"
      ]
     },
     "execution_count": 77,
     "metadata": {},
     "output_type": "execute_result"
    }
   ],
   "source": [
    "from sklearn.metrics import confusion_matrix, accuracy_score\n",
    "cm = confusion_matrix(y_test, seq_predictions_1)\n",
    "print(cm)\n",
    "accuracy_score(y_test, seq_predictions_1)\n",
    "from sklearn.metrics import classification_report\n",
    "matrix = classification_report(y_test,seq_predictions_1,labels=[1,0])\n",
    "print('Classification report : \\n',matrix)\n",
    "#Area under ROC curve\n",
    "from sklearn.metrics import roc_auc_score\n",
    "roc_auc_score(y_test,seq_predictions_1)"
   ]
  },
  {
   "cell_type": "code",
   "execution_count": 78,
   "id": "23544216",
   "metadata": {},
   "outputs": [
    {
     "name": "stdout",
     "output_type": "stream",
     "text": [
      "0.9024437313218865\n"
     ]
    },
    {
     "data": {
      "image/png": "[encoded data removed]",
      "text/plain": [
       "<Figure size 432x288 with 1 Axes>"
      ]
     },
     "metadata": {
      "needs_background": "light"
     },
     "output_type": "display_data"
    }
   ],
   "source": [
    "seq_predictions_1=model_1.predict(X_test)\n",
    "fpr, tpr, thresholds = metrics.roc_curve(y_test, seq_predictions_1)\n",
    "\n",
    "print(roc_auc_score(y_test, seq_predictions_1))\n",
    "optimal_idx = np.argmax(tpr - fpr)\n",
    "\n",
    "plot_roc_curve(fpr, tpr)"
   ]
  },
  {
   "cell_type": "markdown",
   "id": "5e6316c2",
   "metadata": {},
   "source": [
    "We can see that the score improved. After running the model few times we got the F1 score around 48 to 52 We will keep this model for our original data test. Now, lets try CNN"
   ]
  },
  {
   "cell_type": "code",
   "execution_count": 153,
   "id": "a3d0d24c",
   "metadata": {},
   "outputs": [
    {
     "name": "stdout",
     "output_type": "stream",
     "text": [
      "Model: \"sequential_4\"\n",
      "_________________________________________________________________\n",
      "Layer (type)                 Output Shape              Param #   \n",
      "=================================================================\n",
      "conv1d_2 (Conv1D)            (None, 46, 48)            3504      \n",
      "_________________________________________________________________\n",
      "dropout_5 (Dropout)          (None, 46, 48)            0         \n",
      "_________________________________________________________________\n",
      "max_pooling1d_1 (MaxPooling1 (None, 23, 48)            0         \n",
      "_________________________________________________________________\n",
      "flatten_2 (Flatten)          (None, 1104)              0         \n",
      "_________________________________________________________________\n",
      "dense_4 (Dense)              (None, 1)                 1105      \n",
      "=================================================================\n",
      "Total params: 4,609\n",
      "Trainable params: 4,609\n",
      "Non-trainable params: 0\n",
      "_________________________________________________________________\n"
     ]
    }
   ],
   "source": [
    "model_2 = Sequential()\n",
    "model_2.add(Conv1D(filters = 48, kernel_size = 3, padding = 'valid', activation = 'relu' ,input_shape = (48,24)))\n",
    "\n",
    "\n",
    "model_2.add(Dropout(0.2))\n",
    "model_2.add(MaxPool1D())\n",
    "\n",
    "model_2.add(Flatten())\n",
    "\n",
    "\n",
    "model_2.add(Dense(1, activation = 'sigmoid'))\n",
    "model_2.summary()"
   ]
  },
  {
   "cell_type": "code",
   "execution_count": 80,
   "id": "0dd0aeaf",
   "metadata": {
    "scrolled": true
   },
   "outputs": [
    {
     "name": "stdout",
     "output_type": "stream",
     "text": [
      "Epoch 1/10\n",
      "484/484 [==============================] - 1s 2ms/step - loss: 0.2581\n",
      "Epoch 2/10\n",
      "484/484 [==============================] - 1s 3ms/step - loss: 0.2398\n",
      "Epoch 3/10\n",
      "484/484 [==============================] - 1s 3ms/step - loss: 0.2301\n",
      "Epoch 4/10\n",
      "484/484 [==============================] - 1s 3ms/step - loss: 0.2234\n",
      "Epoch 5/10\n",
      "484/484 [==============================] - 1s 3ms/step - loss: 0.2193\n",
      "Epoch 6/10\n",
      "484/484 [==============================] - 1s 2ms/step - loss: 0.2152\n",
      "Epoch 7/10\n",
      "484/484 [==============================] - 1s 2ms/step - loss: 0.2109\n",
      "Epoch 8/10\n",
      "484/484 [==============================] - 1s 2ms/step - loss: 0.2070\n",
      "Epoch 9/10\n",
      "484/484 [==============================] - 1s 2ms/step - loss: 0.2059\n",
      "Epoch 10/10\n",
      "484/484 [==============================] - 1s 2ms/step - loss: 0.2045\n"
     ]
    }
   ],
   "source": [
    "model_2.compile(loss='binary_crossentropy', optimizer='adam')\n",
    "\n",
    "history = model_2.fit(X_train, y_train, epochs=10, verbose=1)"
   ]
  },
  {
   "cell_type": "code",
   "execution_count": 81,
   "id": "8f1dd29b",
   "metadata": {},
   "outputs": [
    {
     "data": {
      "text/plain": [
       "Text(0, 0.5, \"['loss']\")"
      ]
     },
     "execution_count": 81,
     "metadata": {},
     "output_type": "execute_result"
    },
    {
     "data": {
      "image/png": "[encoded data removed]",
      "text/plain": [
       "<Figure size 432x288 with 1 Axes>"
      ]
     },
     "metadata": {
      "needs_background": "light"
     },
     "output_type": "display_data"
    }
   ],
   "source": [
    "plt.plot(range(len(model_2.history.history['loss'])), model_2.history.history['loss'])\n",
    "plt.xlabel(['Epoch'])\n",
    "plt.ylabel(['loss'])"
   ]
  },
  {
   "cell_type": "code",
   "execution_count": 82,
   "id": "ce1adeaa",
   "metadata": {},
   "outputs": [
    {
     "name": "stdout",
     "output_type": "stream",
     "text": [
      "484/484 [==============================] - 0s 857us/step - loss: 0.2033\n"
     ]
    },
    {
     "data": {
      "text/plain": [
       "0.2032792717218399"
      ]
     },
     "execution_count": 82,
     "metadata": {},
     "output_type": "execute_result"
    }
   ],
   "source": [
    "model_2.evaluate(X_train, y_train)"
   ]
  },
  {
   "cell_type": "code",
   "execution_count": 83,
   "id": "454e54aa",
   "metadata": {
    "scrolled": true
   },
   "outputs": [
    {
     "name": "stdout",
     "output_type": "stream",
     "text": [
      "121/121 [==============================] - 0s 863us/step - loss: 0.2212\n"
     ]
    },
    {
     "data": {
      "text/plain": [
       "0.22118186950683594"
      ]
     },
     "execution_count": 83,
     "metadata": {},
     "output_type": "execute_result"
    }
   ],
   "source": [
    "model_2.evaluate(X_test, y_test)"
   ]
  },
  {
   "cell_type": "code",
   "execution_count": 84,
   "id": "40adbb30",
   "metadata": {},
   "outputs": [
    {
     "data": {
      "text/plain": [
       "array([[0.03869718],\n",
       "       [0.31103796],\n",
       "       [0.01219109],\n",
       "       ...,\n",
       "       [0.02404609],\n",
       "       [0.06423494],\n",
       "       [0.06441185]], dtype=float32)"
      ]
     },
     "execution_count": 84,
     "metadata": {},
     "output_type": "execute_result"
    }
   ],
   "source": [
    "seq_predictions_2=model_2.predict(X_test)\n",
    "seq_predictions_2"
   ]
  },
  {
   "cell_type": "code",
   "execution_count": 85,
   "id": "746249ac",
   "metadata": {},
   "outputs": [
    {
     "name": "stderr",
     "output_type": "stream",
     "text": [
      "C:\\Users\\DELL\\AppData\\Local\\Temp/ipykernel_12164/3721149385.py:4: RuntimeWarning: divide by zero encountered in true_divide\n",
      "  F = 2 / (1/precision + 1/recall)\n"
     ]
    },
    {
     "data": {
      "text/plain": [
       "{'threshold': 0.3685990571975708, 'f1': 0.5037037037037037}"
      ]
     },
     "execution_count": 85,
     "metadata": {},
     "output_type": "execute_result"
    }
   ],
   "source": [
    "optimal = threshold_search(y_test, seq_predictions_2)\n",
    "optimal"
   ]
  },
  {
   "cell_type": "code",
   "execution_count": 86,
   "id": "34e786c3",
   "metadata": {
    "scrolled": true
   },
   "outputs": [
    {
     "name": "stdout",
     "output_type": "stream",
     "text": [
      "Outputs shape\n",
      "(3869, 1)\n",
      "(3869,)\n"
     ]
    }
   ],
   "source": [
    "threshold = 0.27  #changing with the threshold value everytime\n",
    "seq_predictions_2=model_2.predict(X_test)\n",
    "print('Outputs shape')    \n",
    "print(seq_predictions_2.shape) # prints (n,1) but  need (n,)\n",
    "seq_predictions_2=np.transpose(seq_predictions_2)[0]  # transformation to get (n,)\n",
    "print(seq_predictions_2.shape)  # now the shape is (n,)\n",
    "# Applying transformation to get binary values predictions with thresold\n",
    "seq_predictions_2 = list(map(lambda x: 0 if x<threshold else 1, seq_predictions_2))"
   ]
  },
  {
   "cell_type": "code",
   "execution_count": 87,
   "id": "e48e9273",
   "metadata": {
    "scrolled": false
   },
   "outputs": [
    {
     "name": "stdout",
     "output_type": "stream",
     "text": [
      "[[3228  279]\n",
      " [ 152  210]]\n",
      "Classification report : \n",
      "               precision    recall  f1-score   support\n",
      "\n",
      "           1       0.43      0.58      0.49       362\n",
      "           0       0.96      0.92      0.94      3507\n",
      "\n",
      "    accuracy                           0.89      3869\n",
      "   macro avg       0.69      0.75      0.72      3869\n",
      "weighted avg       0.91      0.89      0.90      3869\n",
      "\n"
     ]
    },
    {
     "data": {
      "text/plain": [
       "0.7502776609370052"
      ]
     },
     "execution_count": 87,
     "metadata": {},
     "output_type": "execute_result"
    }
   ],
   "source": [
    "from sklearn.metrics import confusion_matrix, accuracy_score\n",
    "cm = confusion_matrix(y_test, seq_predictions_2)\n",
    "print(cm)\n",
    "accuracy_score(y_test, seq_predictions_2)\n",
    "from sklearn.metrics import classification_report\n",
    "matrix = classification_report(y_test,seq_predictions_2,labels=[1,0])\n",
    "print('Classification report : \\n',matrix)\n",
    "#Area under ROC curve\n",
    "from sklearn.metrics import roc_auc_score\n",
    "roc_auc_score(y_test,seq_predictions_2)"
   ]
  },
  {
   "cell_type": "code",
   "execution_count": 88,
   "id": "c60e4a93",
   "metadata": {},
   "outputs": [
    {
     "name": "stdout",
     "output_type": "stream",
     "text": [
      "0.8715859520107379\n"
     ]
    },
    {
     "data": {
      "image/png": "[encoded data removed]",
      "text/plain": [
       "<Figure size 432x288 with 1 Axes>"
      ]
     },
     "metadata": {
      "needs_background": "light"
     },
     "output_type": "display_data"
    }
   ],
   "source": [
    "\n",
    "seq_predictions_1=model_2.predict(X_test)\n",
    "fpr, tpr, thresholds = metrics.roc_curve(y_test, seq_predictions_1)\n",
    "\n",
    "print(roc_auc_score(y_test, seq_predictions_1))\n",
    "optimal_idx = np.argmax(tpr - fpr)\n",
    "\n",
    "plot_roc_curve(fpr, tpr)"
   ]
  },
  {
   "cell_type": "markdown",
   "id": "8b085bea",
   "metadata": {},
   "source": [
    "The score is bit same with previous one however, it seems good according to precision, recall and ROC_AUC score. We will keep this also. Now we will try CNN with LSTM which is most powerful model and might find better model in our case"
   ]
  },
  {
   "cell_type": "code",
   "execution_count": 89,
   "id": "1cc00f3a",
   "metadata": {},
   "outputs": [
    {
     "name": "stdout",
     "output_type": "stream",
     "text": [
      "Model: \"sequential_3\"\n",
      "_________________________________________________________________\n",
      "Layer (type)                 Output Shape              Param #   \n",
      "=================================================================\n",
      "conv1d_1 (Conv1D)            (None, 46, 48)            3504      \n",
      "_________________________________________________________________\n",
      "dropout_3 (Dropout)          (None, 46, 48)            0         \n",
      "_________________________________________________________________\n",
      "max_pooling1d (MaxPooling1D) (None, 23, 48)            0         \n",
      "_________________________________________________________________\n",
      "lstm_2 (LSTM)                (None, 100)               59600     \n",
      "_________________________________________________________________\n",
      "dropout_4 (Dropout)          (None, 100)               0         \n",
      "_________________________________________________________________\n",
      "flatten_1 (Flatten)          (None, 100)               0         \n",
      "_________________________________________________________________\n",
      "dense_3 (Dense)              (None, 1)                 101       \n",
      "_________________________________________________________________\n",
      "activation (Activation)      (None, 1)                 0         \n",
      "=================================================================\n",
      "Total params: 63,205\n",
      "Trainable params: 63,205\n",
      "Non-trainable params: 0\n",
      "_________________________________________________________________\n"
     ]
    }
   ],
   "source": [
    "model_3=Sequential()\n",
    "model_3.add(Conv1D(filters = 48, kernel_size = 3, \n",
    "                 padding='valid', \n",
    "                  activation = 'relu',input_shape=(48, 24)))\n",
    "  \n",
    "                        \n",
    "                                            \n",
    "                        \n",
    "model_3.add(Dropout(0.2))\n",
    "\n",
    "model_3.add(MaxPool1D(pool_size = 2 )) \n",
    "model_3.add(LSTM(100, recurrent_activation='hard_sigmoid',\n",
    "               dropout=0.0, recurrent_dropout=0.0, return_state=False,\n",
    "               stateful=False, unroll=False))\n",
    "\n",
    "model_3.add(Dropout(0.2))\n",
    "model_3.add(Flatten())\n",
    "model_3.add(Dense(1, activation = 'sigmoid'))\n",
    "model_3.add(Activation('linear'))\n",
    "model_3.summary()"
   ]
  },
  {
   "cell_type": "code",
   "execution_count": 161,
   "id": "2de8c142",
   "metadata": {},
   "outputs": [
    {
     "data": {
      "image/png": "[encoded data removed]",
      "text/plain": [
       "<IPython.core.display.Image object>"
      ]
     },
     "execution_count": 161,
     "metadata": {},
     "output_type": "execute_result"
    }
   ],
   "source": [
    "plot_model(model_3, to_file='model_plot.png', show_shapes=True, show_layer_names=True)"
   ]
  },
  {
   "cell_type": "code",
   "execution_count": 90,
   "id": "101cb620",
   "metadata": {
    "scrolled": true
   },
   "outputs": [
    {
     "name": "stdout",
     "output_type": "stream",
     "text": [
      "Epoch 1/10\n",
      "484/484 [==============================] - 9s 19ms/step - loss: 0.2441\n",
      "Epoch 2/10\n",
      "484/484 [==============================] - 9s 19ms/step - loss: 0.2194\n",
      "Epoch 3/10\n",
      "484/484 [==============================] - 9s 19ms/step - loss: 0.2075\n",
      "Epoch 4/10\n",
      "484/484 [==============================] - 10s 20ms/step - loss: 0.2014\n",
      "Epoch 5/10\n",
      "484/484 [==============================] - 9s 19ms/step - loss: 0.1921\n",
      "Epoch 6/10\n",
      "484/484 [==============================] - 9s 19ms/step - loss: 0.1873\n",
      "Epoch 7/10\n",
      "484/484 [==============================] - 9s 19ms/step - loss: 0.1855\n",
      "Epoch 8/10\n",
      "484/484 [==============================] - 9s 19ms/step - loss: 0.1810\n",
      "Epoch 9/10\n",
      "484/484 [==============================] - 9s 19ms/step - loss: 0.1746\n",
      "Epoch 10/10\n",
      "484/484 [==============================] - 9s 19ms/step - loss: 0.1757\n"
     ]
    }
   ],
   "source": [
    "model_3.compile(loss='binary_crossentropy', optimizer='adam')\n",
    "\n",
    "history = model_3.fit(X_train, y_train, epochs=10, verbose=1)"
   ]
  },
  {
   "cell_type": "code",
   "execution_count": 91,
   "id": "55d2995e",
   "metadata": {},
   "outputs": [
    {
     "data": {
      "text/plain": [
       "Text(0, 0.5, \"['loss']\")"
      ]
     },
     "execution_count": 91,
     "metadata": {},
     "output_type": "execute_result"
    },
    {
     "data": {
      "image/png": "[encoded data removed]",
      "text/plain": [
       "<Figure size 432x288 with 1 Axes>"
      ]
     },
     "metadata": {
      "needs_background": "light"
     },
     "output_type": "display_data"
    }
   ],
   "source": [
    "plt.plot(range(len(model_3.history.history['loss'])), model_3.history.history['loss'])\n",
    "plt.xlabel(['Epoch'])\n",
    "plt.ylabel(['loss'])"
   ]
  },
  {
   "cell_type": "code",
   "execution_count": 92,
   "id": "59faf3e2",
   "metadata": {},
   "outputs": [
    {
     "name": "stdout",
     "output_type": "stream",
     "text": [
      "484/484 [==============================] - 2s 3ms/step - loss: 0.1589\n"
     ]
    },
    {
     "data": {
      "text/plain": [
       "0.1589130163192749"
      ]
     },
     "execution_count": 92,
     "metadata": {},
     "output_type": "execute_result"
    }
   ],
   "source": [
    "model_3.evaluate(X_train, y_train)"
   ]
  },
  {
   "cell_type": "code",
   "execution_count": 93,
   "id": "8b0b9ea5",
   "metadata": {
    "scrolled": true
   },
   "outputs": [
    {
     "name": "stdout",
     "output_type": "stream",
     "text": [
      "121/121 [==============================] - 0s 4ms/step - loss: 0.1883\n"
     ]
    },
    {
     "data": {
      "text/plain": [
       "0.1883295476436615"
      ]
     },
     "execution_count": 93,
     "metadata": {},
     "output_type": "execute_result"
    }
   ],
   "source": [
    "model_3.evaluate(X_test, y_test)"
   ]
  },
  {
   "cell_type": "code",
   "execution_count": 94,
   "id": "5ff5e0ce",
   "metadata": {},
   "outputs": [
    {
     "data": {
      "text/plain": [
       "array([[0.05901852],\n",
       "       [0.12686065],\n",
       "       [0.00028217],\n",
       "       ...,\n",
       "       [0.00045851],\n",
       "       [0.00834945],\n",
       "       [0.00222629]], dtype=float32)"
      ]
     },
     "execution_count": 94,
     "metadata": {},
     "output_type": "execute_result"
    }
   ],
   "source": [
    "seq_predictions_3=model_3.predict(X_test)\n",
    "seq_predictions_3"
   ]
  },
  {
   "cell_type": "code",
   "execution_count": 95,
   "id": "f8f0e184",
   "metadata": {},
   "outputs": [
    {
     "name": "stderr",
     "output_type": "stream",
     "text": [
      "C:\\Users\\DELL\\AppData\\Local\\Temp/ipykernel_12164/3721149385.py:4: RuntimeWarning: divide by zero encountered in true_divide\n",
      "  F = 2 / (1/precision + 1/recall)\n"
     ]
    },
    {
     "data": {
      "text/plain": [
       "{'threshold': 0.3225061893463135, 'f1': 0.6027397260273972}"
      ]
     },
     "execution_count": 95,
     "metadata": {},
     "output_type": "execute_result"
    }
   ],
   "source": [
    "optimal = threshold_search(y_test, seq_predictions_3)\n",
    "optimal"
   ]
  },
  {
   "cell_type": "code",
   "execution_count": 96,
   "id": "36f7f4ac",
   "metadata": {
    "scrolled": true
   },
   "outputs": [
    {
     "name": "stdout",
     "output_type": "stream",
     "text": [
      "Outputs shape\n",
      "(3869, 1)\n",
      "(3869,)\n"
     ]
    }
   ],
   "source": [
    "threshold = 0.2\n",
    "seq_predictions_3=model_3.predict(X_test)\n",
    "print('Outputs shape')    \n",
    "print(seq_predictions_3.shape) # prints (n,1) but  need (n,)\n",
    "seq_predictions_3=np.transpose(seq_predictions_3)[0]  # transformation to get (n,)\n",
    "print(seq_predictions_3.shape)  # now the shape is (n,)\n",
    "# Applying transformation to get binary values predictions with  thresold\n",
    "seq_predictions_3 = list(map(lambda x: 0 if x<threshold else 1, seq_predictions_3))"
   ]
  },
  {
   "cell_type": "code",
   "execution_count": 97,
   "id": "d4d6dc7f",
   "metadata": {
    "scrolled": true
   },
   "outputs": [
    {
     "name": "stdout",
     "output_type": "stream",
     "text": [
      "[[3173  334]\n",
      " [ 101  261]]\n",
      "Classification report : \n",
      "               precision    recall  f1-score   support\n",
      "\n",
      "           1       0.44      0.72      0.55       362\n",
      "           0       0.97      0.90      0.94      3507\n",
      "\n",
      "    accuracy                           0.89      3869\n",
      "   macro avg       0.70      0.81      0.74      3869\n",
      "weighted avg       0.92      0.89      0.90      3869\n",
      "\n"
     ]
    },
    {
     "data": {
      "text/plain": [
       "0.8128781899500132"
      ]
     },
     "execution_count": 97,
     "metadata": {},
     "output_type": "execute_result"
    }
   ],
   "source": [
    "from sklearn.metrics import confusion_matrix, accuracy_score\n",
    "cm = confusion_matrix(y_test, seq_predictions_3)\n",
    "print(cm)\n",
    "accuracy_score(y_test, seq_predictions_3)\n",
    "from sklearn.metrics import classification_report\n",
    "matrix = classification_report(y_test,seq_predictions_3,labels=[1,0])\n",
    "print('Classification report : \\n',matrix)\n",
    "#Area under ROC curve\n",
    "from sklearn.metrics import roc_auc_score\n",
    "roc_auc_score(y_test,seq_predictions_3)"
   ]
  },
  {
   "cell_type": "raw",
   "id": "d9a67cd8",
   "metadata": {},
   "source": [
    "Perfect. Our model performs best, after running the model few times we got the F1 score around 58 to 62 which is better compared to other"
   ]
  },
  {
   "cell_type": "code",
   "execution_count": 98,
   "id": "fa8049b6",
   "metadata": {},
   "outputs": [
    {
     "name": "stdout",
     "output_type": "stream",
     "text": [
      "0.9116947635904199\n"
     ]
    },
    {
     "data": {
      "image/png": "[encoded data removed]",
      "text/plain": [
       "<Figure size 432x288 with 1 Axes>"
      ]
     },
     "metadata": {
      "needs_background": "light"
     },
     "output_type": "display_data"
    }
   ],
   "source": [
    "\n",
    "seq_predictions_3 = model_3.predict(X_test)\n",
    "fpr, tpr, thresholds = metrics.roc_curve(y_test, seq_predictions_3)\n",
    "#print(tpr)\n",
    "#print(fpr)\n",
    "#print(thresholds)\n",
    "print(roc_auc_score(y_test, seq_predictions_3))\n",
    "#optimal_idx = np.argmax(tpr - fpr)\n",
    "#optimal_threshold = thresholds[optimal_idx]\n",
    "#print(\"Threshold value is:\", optimal_threshold)\n",
    "plot_roc_curve(fpr, tpr)"
   ]
  },
  {
   "cell_type": "markdown",
   "id": "199990f1",
   "metadata": {},
   "source": [
    "Now, we will use all this 3 model architecture on our original test data and predict and generate a prediction file"
   ]
  },
  {
   "cell_type": "code",
   "execution_count": 99,
   "id": "f74d6175",
   "metadata": {},
   "outputs": [
    {
     "data": {
      "text/html": [
       "<div>\n",
       "<style scoped>\n",
       "    .dataframe tbody tr th:only-of-type {\n",
       "        vertical-align: middle;\n",
       "    }\n",
       "\n",
       "    .dataframe tbody tr th {\n",
       "        vertical-align: top;\n",
       "    }\n",
       "\n",
       "    .dataframe thead th {\n",
       "        text-align: right;\n",
       "    }\n",
       "</style>\n",
       "<table border=\"1\" class=\"dataframe\">\n",
       "  <thead>\n",
       "    <tr style=\"text-align: right;\">\n",
       "      <th></th>\n",
       "      <th>HADM_ID</th>\n",
       "      <th>CHART_TIME_STEP_HR</th>\n",
       "      <th>Diastolic_blood_pressure</th>\n",
       "      <th>Fraction_inspired_oxygen</th>\n",
       "      <th>Glucose</th>\n",
       "      <th>Heart_Rate</th>\n",
       "      <th>Mean_blood_pressure</th>\n",
       "      <th>Oxygen_saturation</th>\n",
       "      <th>pH</th>\n",
       "      <th>Respiratory_rate</th>\n",
       "      <th>...</th>\n",
       "      <th>Weight</th>\n",
       "      <th>Height</th>\n",
       "      <th>GCS_Eye</th>\n",
       "      <th>GCS_motor</th>\n",
       "      <th>GCS_verbal</th>\n",
       "      <th>ADMISSION_TYPE</th>\n",
       "      <th>ETHNICITY</th>\n",
       "      <th>GENDER</th>\n",
       "      <th>FIRST_CAREUNIT</th>\n",
       "      <th>AGE</th>\n",
       "    </tr>\n",
       "  </thead>\n",
       "  <tbody>\n",
       "    <tr>\n",
       "      <th>0</th>\n",
       "      <td>10482</td>\n",
       "      <td>0</td>\n",
       "      <td>NaN</td>\n",
       "      <td>NaN</td>\n",
       "      <td>177.283750</td>\n",
       "      <td>NaN</td>\n",
       "      <td>NaN</td>\n",
       "      <td>NaN</td>\n",
       "      <td>7.249081</td>\n",
       "      <td>13.480925</td>\n",
       "      <td>...</td>\n",
       "      <td>49.765461</td>\n",
       "      <td>137.08</td>\n",
       "      <td>3.0</td>\n",
       "      <td>5.0</td>\n",
       "      <td>1.0</td>\n",
       "      <td>EMERGENCY</td>\n",
       "      <td>WHITE</td>\n",
       "      <td>1</td>\n",
       "      <td>MICU</td>\n",
       "      <td>55.547945</td>\n",
       "    </tr>\n",
       "    <tr>\n",
       "      <th>1</th>\n",
       "      <td>10482</td>\n",
       "      <td>1</td>\n",
       "      <td>74.134059</td>\n",
       "      <td>NaN</td>\n",
       "      <td>116.124146</td>\n",
       "      <td>97.910453</td>\n",
       "      <td>77.959258</td>\n",
       "      <td>94.637154</td>\n",
       "      <td>7.364961</td>\n",
       "      <td>13.876098</td>\n",
       "      <td>...</td>\n",
       "      <td>NaN</td>\n",
       "      <td>137.08</td>\n",
       "      <td>3.0</td>\n",
       "      <td>5.0</td>\n",
       "      <td>1.0</td>\n",
       "      <td>EMERGENCY</td>\n",
       "      <td>WHITE</td>\n",
       "      <td>1</td>\n",
       "      <td>MICU</td>\n",
       "      <td>55.547945</td>\n",
       "    </tr>\n",
       "    <tr>\n",
       "      <th>2</th>\n",
       "      <td>10482</td>\n",
       "      <td>2</td>\n",
       "      <td>61.200316</td>\n",
       "      <td>NaN</td>\n",
       "      <td>205.903217</td>\n",
       "      <td>NaN</td>\n",
       "      <td>NaN</td>\n",
       "      <td>97.637158</td>\n",
       "      <td>NaN</td>\n",
       "      <td>18.619447</td>\n",
       "      <td>...</td>\n",
       "      <td>NaN</td>\n",
       "      <td>137.08</td>\n",
       "      <td>3.0</td>\n",
       "      <td>5.0</td>\n",
       "      <td>1.0</td>\n",
       "      <td>EMERGENCY</td>\n",
       "      <td>WHITE</td>\n",
       "      <td>1</td>\n",
       "      <td>MICU</td>\n",
       "      <td>55.547945</td>\n",
       "    </tr>\n",
       "    <tr>\n",
       "      <th>3</th>\n",
       "      <td>10482</td>\n",
       "      <td>3</td>\n",
       "      <td>NaN</td>\n",
       "      <td>NaN</td>\n",
       "      <td>93.615694</td>\n",
       "      <td>79.903595</td>\n",
       "      <td>78.008654</td>\n",
       "      <td>100.174864</td>\n",
       "      <td>NaN</td>\n",
       "      <td>20.437194</td>\n",
       "      <td>...</td>\n",
       "      <td>NaN</td>\n",
       "      <td>137.08</td>\n",
       "      <td>3.0</td>\n",
       "      <td>5.0</td>\n",
       "      <td>1.0</td>\n",
       "      <td>EMERGENCY</td>\n",
       "      <td>WHITE</td>\n",
       "      <td>1</td>\n",
       "      <td>MICU</td>\n",
       "      <td>55.547945</td>\n",
       "    </tr>\n",
       "    <tr>\n",
       "      <th>4</th>\n",
       "      <td>10482</td>\n",
       "      <td>4</td>\n",
       "      <td>NaN</td>\n",
       "      <td>59.905487</td>\n",
       "      <td>177.625044</td>\n",
       "      <td>87.614991</td>\n",
       "      <td>82.082165</td>\n",
       "      <td>100.096492</td>\n",
       "      <td>NaN</td>\n",
       "      <td>19.957419</td>\n",
       "      <td>...</td>\n",
       "      <td>NaN</td>\n",
       "      <td>137.08</td>\n",
       "      <td>3.0</td>\n",
       "      <td>5.0</td>\n",
       "      <td>1.0</td>\n",
       "      <td>EMERGENCY</td>\n",
       "      <td>WHITE</td>\n",
       "      <td>1</td>\n",
       "      <td>MICU</td>\n",
       "      <td>55.547945</td>\n",
       "    </tr>\n",
       "  </tbody>\n",
       "</table>\n",
       "<p>5 rows × 22 columns</p>\n",
       "</div>"
      ],
      "text/plain": [
       "   HADM_ID  CHART_TIME_STEP_HR  Diastolic_blood_pressure  \\\n",
       "0    10482                   0                       NaN   \n",
       "1    10482                   1                 74.134059   \n",
       "2    10482                   2                 61.200316   \n",
       "3    10482                   3                       NaN   \n",
       "4    10482                   4                       NaN   \n",
       "\n",
       "   Fraction_inspired_oxygen     Glucose  Heart_Rate  Mean_blood_pressure  \\\n",
       "0                       NaN  177.283750         NaN                  NaN   \n",
       "1                       NaN  116.124146   97.910453            77.959258   \n",
       "2                       NaN  205.903217         NaN                  NaN   \n",
       "3                       NaN   93.615694   79.903595            78.008654   \n",
       "4                 59.905487  177.625044   87.614991            82.082165   \n",
       "\n",
       "   Oxygen_saturation        pH  Respiratory_rate  ...     Weight  Height  \\\n",
       "0                NaN  7.249081         13.480925  ...  49.765461  137.08   \n",
       "1          94.637154  7.364961         13.876098  ...        NaN  137.08   \n",
       "2          97.637158       NaN         18.619447  ...        NaN  137.08   \n",
       "3         100.174864       NaN         20.437194  ...        NaN  137.08   \n",
       "4         100.096492       NaN         19.957419  ...        NaN  137.08   \n",
       "\n",
       "   GCS_Eye  GCS_motor  GCS_verbal  ADMISSION_TYPE  ETHNICITY GENDER  \\\n",
       "0      3.0        5.0         1.0       EMERGENCY      WHITE      1   \n",
       "1      3.0        5.0         1.0       EMERGENCY      WHITE      1   \n",
       "2      3.0        5.0         1.0       EMERGENCY      WHITE      1   \n",
       "3      3.0        5.0         1.0       EMERGENCY      WHITE      1   \n",
       "4      3.0        5.0         1.0       EMERGENCY      WHITE      1   \n",
       "\n",
       "  FIRST_CAREUNIT        AGE  \n",
       "0           MICU  55.547945  \n",
       "1           MICU  55.547945  \n",
       "2           MICU  55.547945  \n",
       "3           MICU  55.547945  \n",
       "4           MICU  55.547945  \n",
       "\n",
       "[5 rows x 22 columns]"
      ]
     },
     "execution_count": 99,
     "metadata": {},
     "output_type": "execute_result"
    }
   ],
   "source": [
    "test_dataset.head()"
   ]
  },
  {
   "cell_type": "code",
   "execution_count": 100,
   "id": "9881d7bb",
   "metadata": {
    "scrolled": false
   },
   "outputs": [
    {
     "data": {
      "text/html": [
       "<div>\n",
       "<style scoped>\n",
       "    .dataframe tbody tr th:only-of-type {\n",
       "        vertical-align: middle;\n",
       "    }\n",
       "\n",
       "    .dataframe tbody tr th {\n",
       "        vertical-align: top;\n",
       "    }\n",
       "\n",
       "    .dataframe thead th {\n",
       "        text-align: right;\n",
       "    }\n",
       "</style>\n",
       "<table border=\"1\" class=\"dataframe\">\n",
       "  <thead>\n",
       "    <tr style=\"text-align: right;\">\n",
       "      <th></th>\n",
       "      <th>CHART_TIME_STEP_HR</th>\n",
       "      <th>Diastolic_blood_pressure</th>\n",
       "      <th>Fraction_inspired_oxygen</th>\n",
       "      <th>Glucose</th>\n",
       "      <th>Heart_Rate</th>\n",
       "      <th>Mean_blood_pressure</th>\n",
       "      <th>Oxygen_saturation</th>\n",
       "      <th>pH</th>\n",
       "      <th>Respiratory_rate</th>\n",
       "      <th>Systolic_blood_pressure</th>\n",
       "      <th>Temperature</th>\n",
       "      <th>Weight</th>\n",
       "      <th>Height</th>\n",
       "      <th>GCS_Eye</th>\n",
       "      <th>GCS_motor</th>\n",
       "      <th>GCS_verbal</th>\n",
       "      <th>GENDER</th>\n",
       "      <th>AGE</th>\n",
       "    </tr>\n",
       "    <tr>\n",
       "      <th>HADM_ID</th>\n",
       "      <th></th>\n",
       "      <th></th>\n",
       "      <th></th>\n",
       "      <th></th>\n",
       "      <th></th>\n",
       "      <th></th>\n",
       "      <th></th>\n",
       "      <th></th>\n",
       "      <th></th>\n",
       "      <th></th>\n",
       "      <th></th>\n",
       "      <th></th>\n",
       "      <th></th>\n",
       "      <th></th>\n",
       "      <th></th>\n",
       "      <th></th>\n",
       "      <th></th>\n",
       "      <th></th>\n",
       "    </tr>\n",
       "  </thead>\n",
       "  <tbody>\n",
       "    <tr>\n",
       "      <th>10482</th>\n",
       "      <td>23.5</td>\n",
       "      <td>63.400020</td>\n",
       "      <td>57.644481</td>\n",
       "      <td>151.892624</td>\n",
       "      <td>89.584858</td>\n",
       "      <td>81.042940</td>\n",
       "      <td>96.699294</td>\n",
       "      <td>7.356923</td>\n",
       "      <td>19.273598</td>\n",
       "      <td>118.932444</td>\n",
       "      <td>37.188440</td>\n",
       "      <td>77.349404</td>\n",
       "      <td>137.08</td>\n",
       "      <td>3.0</td>\n",
       "      <td>5.0</td>\n",
       "      <td>1.0</td>\n",
       "      <td>1.0</td>\n",
       "      <td>55.547945</td>\n",
       "    </tr>\n",
       "    <tr>\n",
       "      <th>10486</th>\n",
       "      <td>23.5</td>\n",
       "      <td>60.764163</td>\n",
       "      <td>54.727844</td>\n",
       "      <td>147.936593</td>\n",
       "      <td>82.852180</td>\n",
       "      <td>76.698210</td>\n",
       "      <td>97.143030</td>\n",
       "      <td>7.356016</td>\n",
       "      <td>18.410208</td>\n",
       "      <td>119.480574</td>\n",
       "      <td>36.925189</td>\n",
       "      <td>86.714986</td>\n",
       "      <td>175.13</td>\n",
       "      <td>4.0</td>\n",
       "      <td>4.0</td>\n",
       "      <td>5.0</td>\n",
       "      <td>1.0</td>\n",
       "      <td>58.616438</td>\n",
       "    </tr>\n",
       "    <tr>\n",
       "      <th>10490</th>\n",
       "      <td>23.5</td>\n",
       "      <td>61.239206</td>\n",
       "      <td>55.676815</td>\n",
       "      <td>138.981222</td>\n",
       "      <td>86.230247</td>\n",
       "      <td>78.899087</td>\n",
       "      <td>97.129945</td>\n",
       "      <td>7.368315</td>\n",
       "      <td>18.394566</td>\n",
       "      <td>119.769236</td>\n",
       "      <td>37.049846</td>\n",
       "      <td>83.757621</td>\n",
       "      <td>175.13</td>\n",
       "      <td>4.0</td>\n",
       "      <td>6.0</td>\n",
       "      <td>4.0</td>\n",
       "      <td>1.0</td>\n",
       "      <td>71.361644</td>\n",
       "    </tr>\n",
       "    <tr>\n",
       "      <th>10497</th>\n",
       "      <td>23.5</td>\n",
       "      <td>62.293316</td>\n",
       "      <td>54.544267</td>\n",
       "      <td>134.395503</td>\n",
       "      <td>81.485003</td>\n",
       "      <td>80.453078</td>\n",
       "      <td>96.233018</td>\n",
       "      <td>7.376927</td>\n",
       "      <td>18.524180</td>\n",
       "      <td>122.134825</td>\n",
       "      <td>36.948027</td>\n",
       "      <td>79.614192</td>\n",
       "      <td>NaN</td>\n",
       "      <td>3.0</td>\n",
       "      <td>4.0</td>\n",
       "      <td>3.0</td>\n",
       "      <td>0.0</td>\n",
       "      <td>81.482192</td>\n",
       "    </tr>\n",
       "    <tr>\n",
       "      <th>10506</th>\n",
       "      <td>23.5</td>\n",
       "      <td>62.483374</td>\n",
       "      <td>54.413401</td>\n",
       "      <td>150.152022</td>\n",
       "      <td>84.844375</td>\n",
       "      <td>76.908570</td>\n",
       "      <td>97.461497</td>\n",
       "      <td>7.350793</td>\n",
       "      <td>19.264295</td>\n",
       "      <td>123.815875</td>\n",
       "      <td>36.916096</td>\n",
       "      <td>79.522429</td>\n",
       "      <td>NaN</td>\n",
       "      <td>4.0</td>\n",
       "      <td>6.0</td>\n",
       "      <td>5.0</td>\n",
       "      <td>1.0</td>\n",
       "      <td>30.572603</td>\n",
       "    </tr>\n",
       "  </tbody>\n",
       "</table>\n",
       "</div>"
      ],
      "text/plain": [
       "         CHART_TIME_STEP_HR  Diastolic_blood_pressure  \\\n",
       "HADM_ID                                                 \n",
       "10482                  23.5                 63.400020   \n",
       "10486                  23.5                 60.764163   \n",
       "10490                  23.5                 61.239206   \n",
       "10497                  23.5                 62.293316   \n",
       "10506                  23.5                 62.483374   \n",
       "\n",
       "         Fraction_inspired_oxygen     Glucose  Heart_Rate  \\\n",
       "HADM_ID                                                     \n",
       "10482                   57.644481  151.892624   89.584858   \n",
       "10486                   54.727844  147.936593   82.852180   \n",
       "10490                   55.676815  138.981222   86.230247   \n",
       "10497                   54.544267  134.395503   81.485003   \n",
       "10506                   54.413401  150.152022   84.844375   \n",
       "\n",
       "         Mean_blood_pressure  Oxygen_saturation        pH  Respiratory_rate  \\\n",
       "HADM_ID                                                                       \n",
       "10482              81.042940          96.699294  7.356923         19.273598   \n",
       "10486              76.698210          97.143030  7.356016         18.410208   \n",
       "10490              78.899087          97.129945  7.368315         18.394566   \n",
       "10497              80.453078          96.233018  7.376927         18.524180   \n",
       "10506              76.908570          97.461497  7.350793         19.264295   \n",
       "\n",
       "         Systolic_blood_pressure  Temperature     Weight  Height  GCS_Eye  \\\n",
       "HADM_ID                                                                     \n",
       "10482                 118.932444    37.188440  77.349404  137.08      3.0   \n",
       "10486                 119.480574    36.925189  86.714986  175.13      4.0   \n",
       "10490                 119.769236    37.049846  83.757621  175.13      4.0   \n",
       "10497                 122.134825    36.948027  79.614192     NaN      3.0   \n",
       "10506                 123.815875    36.916096  79.522429     NaN      4.0   \n",
       "\n",
       "         GCS_motor  GCS_verbal  GENDER        AGE  \n",
       "HADM_ID                                            \n",
       "10482          5.0         1.0     1.0  55.547945  \n",
       "10486          4.0         5.0     1.0  58.616438  \n",
       "10490          6.0         4.0     1.0  71.361644  \n",
       "10497          4.0         3.0     0.0  81.482192  \n",
       "10506          6.0         5.0     1.0  30.572603  "
      ]
     },
     "execution_count": 100,
     "metadata": {},
     "output_type": "execute_result"
    }
   ],
   "source": [
    "dataset_for_test = test_dataset.groupby(['HADM_ID']).mean()\n",
    "dataset_for_test.head()\n"
   ]
  },
  {
   "cell_type": "code",
   "execution_count": 101,
   "id": "16d2da00",
   "metadata": {},
   "outputs": [
    {
     "data": {
      "text/html": [
       "<div>\n",
       "<style scoped>\n",
       "    .dataframe tbody tr th:only-of-type {\n",
       "        vertical-align: middle;\n",
       "    }\n",
       "\n",
       "    .dataframe tbody tr th {\n",
       "        vertical-align: top;\n",
       "    }\n",
       "\n",
       "    .dataframe thead th {\n",
       "        text-align: right;\n",
       "    }\n",
       "</style>\n",
       "<table border=\"1\" class=\"dataframe\">\n",
       "  <thead>\n",
       "    <tr style=\"text-align: right;\">\n",
       "      <th></th>\n",
       "      <th>HADM_ID</th>\n",
       "      <th>ADMISSION_TYPE</th>\n",
       "      <th>ETHNICITY</th>\n",
       "      <th>FIRST_CAREUNIT</th>\n",
       "    </tr>\n",
       "  </thead>\n",
       "  <tbody>\n",
       "    <tr>\n",
       "      <th>0</th>\n",
       "      <td>88439</td>\n",
       "      <td>EMERGENCY</td>\n",
       "      <td>WHITE</td>\n",
       "      <td>TSICU</td>\n",
       "    </tr>\n",
       "    <tr>\n",
       "      <th>1</th>\n",
       "      <td>85430</td>\n",
       "      <td>EMERGENCY</td>\n",
       "      <td>WHITE</td>\n",
       "      <td>MICU</td>\n",
       "    </tr>\n",
       "    <tr>\n",
       "      <th>2</th>\n",
       "      <td>33620</td>\n",
       "      <td>EMERGENCY</td>\n",
       "      <td>BLACK</td>\n",
       "      <td>TSICU</td>\n",
       "    </tr>\n",
       "    <tr>\n",
       "      <th>3</th>\n",
       "      <td>108726</td>\n",
       "      <td>EMERGENCY</td>\n",
       "      <td>WHITE</td>\n",
       "      <td>CCU</td>\n",
       "    </tr>\n",
       "    <tr>\n",
       "      <th>4</th>\n",
       "      <td>71197</td>\n",
       "      <td>URGENT</td>\n",
       "      <td>ASIAN</td>\n",
       "      <td>MICU</td>\n",
       "    </tr>\n",
       "  </tbody>\n",
       "</table>\n",
       "</div>"
      ],
      "text/plain": [
       "   HADM_ID ADMISSION_TYPE ETHNICITY FIRST_CAREUNIT\n",
       "0    88439      EMERGENCY     WHITE          TSICU\n",
       "1    85430      EMERGENCY     WHITE           MICU\n",
       "2    33620      EMERGENCY     BLACK          TSICU\n",
       "3   108726      EMERGENCY     WHITE            CCU\n",
       "4    71197         URGENT     ASIAN           MICU"
      ]
     },
     "execution_count": 101,
     "metadata": {},
     "output_type": "execute_result"
    }
   ],
   "source": [
    "columns_toAdd_test = test_2[[\"HADM_ID\",\"ADMISSION_TYPE\",\"ETHNICITY\", \"FIRST_CAREUNIT\"]]\n",
    "columns_toAdd_test.head()"
   ]
  },
  {
   "cell_type": "code",
   "execution_count": 102,
   "id": "513c77fd",
   "metadata": {
    "scrolled": true
   },
   "outputs": [
    {
     "data": {
      "text/html": [
       "<div>\n",
       "<style scoped>\n",
       "    .dataframe tbody tr th:only-of-type {\n",
       "        vertical-align: middle;\n",
       "    }\n",
       "\n",
       "    .dataframe tbody tr th {\n",
       "        vertical-align: top;\n",
       "    }\n",
       "\n",
       "    .dataframe thead th {\n",
       "        text-align: right;\n",
       "    }\n",
       "</style>\n",
       "<table border=\"1\" class=\"dataframe\">\n",
       "  <thead>\n",
       "    <tr style=\"text-align: right;\">\n",
       "      <th></th>\n",
       "      <th>HADM_ID</th>\n",
       "      <th>CHART_TIME_STEP_HR</th>\n",
       "      <th>Diastolic_blood_pressure</th>\n",
       "      <th>Fraction_inspired_oxygen</th>\n",
       "      <th>Glucose</th>\n",
       "      <th>Heart_Rate</th>\n",
       "      <th>Mean_blood_pressure</th>\n",
       "      <th>Oxygen_saturation</th>\n",
       "      <th>pH</th>\n",
       "      <th>Respiratory_rate</th>\n",
       "      <th>...</th>\n",
       "      <th>Weight</th>\n",
       "      <th>Height</th>\n",
       "      <th>GCS_Eye</th>\n",
       "      <th>GCS_motor</th>\n",
       "      <th>GCS_verbal</th>\n",
       "      <th>GENDER</th>\n",
       "      <th>AGE</th>\n",
       "      <th>ADMISSION_TYPE</th>\n",
       "      <th>ETHNICITY</th>\n",
       "      <th>FIRST_CAREUNIT</th>\n",
       "    </tr>\n",
       "  </thead>\n",
       "  <tbody>\n",
       "    <tr>\n",
       "      <th>0</th>\n",
       "      <td>10482</td>\n",
       "      <td>23.5</td>\n",
       "      <td>63.400020</td>\n",
       "      <td>57.644481</td>\n",
       "      <td>151.892624</td>\n",
       "      <td>89.584858</td>\n",
       "      <td>81.042940</td>\n",
       "      <td>96.699294</td>\n",
       "      <td>7.356923</td>\n",
       "      <td>19.273598</td>\n",
       "      <td>...</td>\n",
       "      <td>77.349404</td>\n",
       "      <td>137.08</td>\n",
       "      <td>3.0</td>\n",
       "      <td>5.0</td>\n",
       "      <td>1.0</td>\n",
       "      <td>1.0</td>\n",
       "      <td>55.547945</td>\n",
       "      <td>EMERGENCY</td>\n",
       "      <td>WHITE</td>\n",
       "      <td>MICU</td>\n",
       "    </tr>\n",
       "    <tr>\n",
       "      <th>1</th>\n",
       "      <td>10486</td>\n",
       "      <td>23.5</td>\n",
       "      <td>60.764163</td>\n",
       "      <td>54.727844</td>\n",
       "      <td>147.936593</td>\n",
       "      <td>82.852180</td>\n",
       "      <td>76.698210</td>\n",
       "      <td>97.143030</td>\n",
       "      <td>7.356016</td>\n",
       "      <td>18.410208</td>\n",
       "      <td>...</td>\n",
       "      <td>86.714986</td>\n",
       "      <td>175.13</td>\n",
       "      <td>4.0</td>\n",
       "      <td>4.0</td>\n",
       "      <td>5.0</td>\n",
       "      <td>1.0</td>\n",
       "      <td>58.616438</td>\n",
       "      <td>EMERGENCY</td>\n",
       "      <td>WHITE</td>\n",
       "      <td>CCU</td>\n",
       "    </tr>\n",
       "    <tr>\n",
       "      <th>2</th>\n",
       "      <td>10490</td>\n",
       "      <td>23.5</td>\n",
       "      <td>61.239206</td>\n",
       "      <td>55.676815</td>\n",
       "      <td>138.981222</td>\n",
       "      <td>86.230247</td>\n",
       "      <td>78.899087</td>\n",
       "      <td>97.129945</td>\n",
       "      <td>7.368315</td>\n",
       "      <td>18.394566</td>\n",
       "      <td>...</td>\n",
       "      <td>83.757621</td>\n",
       "      <td>175.13</td>\n",
       "      <td>4.0</td>\n",
       "      <td>6.0</td>\n",
       "      <td>4.0</td>\n",
       "      <td>1.0</td>\n",
       "      <td>71.361644</td>\n",
       "      <td>ELECTIVE</td>\n",
       "      <td>OTHER</td>\n",
       "      <td>CSRU</td>\n",
       "    </tr>\n",
       "    <tr>\n",
       "      <th>3</th>\n",
       "      <td>10497</td>\n",
       "      <td>23.5</td>\n",
       "      <td>62.293316</td>\n",
       "      <td>54.544267</td>\n",
       "      <td>134.395503</td>\n",
       "      <td>81.485003</td>\n",
       "      <td>80.453078</td>\n",
       "      <td>96.233018</td>\n",
       "      <td>7.376927</td>\n",
       "      <td>18.524180</td>\n",
       "      <td>...</td>\n",
       "      <td>79.614192</td>\n",
       "      <td>NaN</td>\n",
       "      <td>3.0</td>\n",
       "      <td>4.0</td>\n",
       "      <td>3.0</td>\n",
       "      <td>0.0</td>\n",
       "      <td>81.482192</td>\n",
       "      <td>ELECTIVE</td>\n",
       "      <td>WHITE</td>\n",
       "      <td>CSRU</td>\n",
       "    </tr>\n",
       "    <tr>\n",
       "      <th>4</th>\n",
       "      <td>10506</td>\n",
       "      <td>23.5</td>\n",
       "      <td>62.483374</td>\n",
       "      <td>54.413401</td>\n",
       "      <td>150.152022</td>\n",
       "      <td>84.844375</td>\n",
       "      <td>76.908570</td>\n",
       "      <td>97.461497</td>\n",
       "      <td>7.350793</td>\n",
       "      <td>19.264295</td>\n",
       "      <td>...</td>\n",
       "      <td>79.522429</td>\n",
       "      <td>NaN</td>\n",
       "      <td>4.0</td>\n",
       "      <td>6.0</td>\n",
       "      <td>5.0</td>\n",
       "      <td>1.0</td>\n",
       "      <td>30.572603</td>\n",
       "      <td>EMERGENCY</td>\n",
       "      <td>BLACK</td>\n",
       "      <td>TSICU</td>\n",
       "    </tr>\n",
       "  </tbody>\n",
       "</table>\n",
       "<p>5 rows × 22 columns</p>\n",
       "</div>"
      ],
      "text/plain": [
       "   HADM_ID  CHART_TIME_STEP_HR  Diastolic_blood_pressure  \\\n",
       "0    10482                23.5                 63.400020   \n",
       "1    10486                23.5                 60.764163   \n",
       "2    10490                23.5                 61.239206   \n",
       "3    10497                23.5                 62.293316   \n",
       "4    10506                23.5                 62.483374   \n",
       "\n",
       "   Fraction_inspired_oxygen     Glucose  Heart_Rate  Mean_blood_pressure  \\\n",
       "0                 57.644481  151.892624   89.584858            81.042940   \n",
       "1                 54.727844  147.936593   82.852180            76.698210   \n",
       "2                 55.676815  138.981222   86.230247            78.899087   \n",
       "3                 54.544267  134.395503   81.485003            80.453078   \n",
       "4                 54.413401  150.152022   84.844375            76.908570   \n",
       "\n",
       "   Oxygen_saturation        pH  Respiratory_rate  ...     Weight  Height  \\\n",
       "0          96.699294  7.356923         19.273598  ...  77.349404  137.08   \n",
       "1          97.143030  7.356016         18.410208  ...  86.714986  175.13   \n",
       "2          97.129945  7.368315         18.394566  ...  83.757621  175.13   \n",
       "3          96.233018  7.376927         18.524180  ...  79.614192     NaN   \n",
       "4          97.461497  7.350793         19.264295  ...  79.522429     NaN   \n",
       "\n",
       "   GCS_Eye  GCS_motor  GCS_verbal  GENDER        AGE  ADMISSION_TYPE  \\\n",
       "0      3.0        5.0         1.0     1.0  55.547945       EMERGENCY   \n",
       "1      4.0        4.0         5.0     1.0  58.616438       EMERGENCY   \n",
       "2      4.0        6.0         4.0     1.0  71.361644        ELECTIVE   \n",
       "3      3.0        4.0         3.0     0.0  81.482192        ELECTIVE   \n",
       "4      4.0        6.0         5.0     1.0  30.572603       EMERGENCY   \n",
       "\n",
       "   ETHNICITY FIRST_CAREUNIT  \n",
       "0      WHITE           MICU  \n",
       "1      WHITE            CCU  \n",
       "2      OTHER           CSRU  \n",
       "3      WHITE           CSRU  \n",
       "4      BLACK          TSICU  \n",
       "\n",
       "[5 rows x 22 columns]"
      ]
     },
     "execution_count": 102,
     "metadata": {},
     "output_type": "execute_result"
    }
   ],
   "source": [
    "dataset_for_test= pd.merge(dataset_for_test,columns_toAdd_test, on='HADM_ID')\n",
    "dataset_for_test.head()"
   ]
  },
  {
   "cell_type": "code",
   "execution_count": 103,
   "id": "2ef98940",
   "metadata": {},
   "outputs": [
    {
     "data": {
      "text/plain": [
       "HADM_ID                     0.000000\n",
       "CHART_TIME_STEP_HR          0.000000\n",
       "Diastolic_blood_pressure    0.000000\n",
       "Fraction_inspired_oxygen    0.003981\n",
       "Glucose                     0.000121\n",
       "Heart_Rate                  0.000000\n",
       "Mean_blood_pressure         0.000000\n",
       "Oxygen_saturation           0.000000\n",
       "pH                          0.001086\n",
       "Respiratory_rate            0.000000\n",
       "Systolic_blood_pressure     0.000000\n",
       "Temperature                 0.000000\n",
       "Weight                      0.012426\n",
       "Height                      0.805405\n",
       "GCS_Eye                     0.000241\n",
       "GCS_motor                   0.000362\n",
       "GCS_verbal                  0.000603\n",
       "GENDER                      0.000000\n",
       "AGE                         0.000000\n",
       "ADMISSION_TYPE              0.000000\n",
       "ETHNICITY                   0.000000\n",
       "FIRST_CAREUNIT              0.000000\n",
       "dtype: float64"
      ]
     },
     "execution_count": 103,
     "metadata": {},
     "output_type": "execute_result"
    }
   ],
   "source": [
    "n_obs_tst = dataset_for_test.shape[0]\n",
    "dataset_for_test.isna().sum()/n_obs_tst"
   ]
  },
  {
   "cell_type": "markdown",
   "id": "9d792b55",
   "metadata": {},
   "source": [
    "Notice that the level of missingness of the *Height* variable is almost 80\\%, so it is sensible to drop that variable."
   ]
  },
  {
   "cell_type": "code",
   "execution_count": 104,
   "id": "4a0f6ecc",
   "metadata": {},
   "outputs": [],
   "source": [
    "dataset_for_test.drop(columns=['Height', 'CHART_TIME_STEP_HR'], inplace=True)\n"
   ]
  },
  {
   "cell_type": "code",
   "execution_count": 105,
   "id": "d32f45e0",
   "metadata": {},
   "outputs": [
    {
     "data": {
      "text/html": [
       "<div>\n",
       "<style scoped>\n",
       "    .dataframe tbody tr th:only-of-type {\n",
       "        vertical-align: middle;\n",
       "    }\n",
       "\n",
       "    .dataframe tbody tr th {\n",
       "        vertical-align: top;\n",
       "    }\n",
       "\n",
       "    .dataframe thead th {\n",
       "        text-align: right;\n",
       "    }\n",
       "</style>\n",
       "<table border=\"1\" class=\"dataframe\">\n",
       "  <thead>\n",
       "    <tr style=\"text-align: right;\">\n",
       "      <th></th>\n",
       "      <th>HADM_ID</th>\n",
       "      <th>Diastolic_blood_pressure</th>\n",
       "      <th>Fraction_inspired_oxygen</th>\n",
       "      <th>Glucose</th>\n",
       "      <th>Heart_Rate</th>\n",
       "      <th>Mean_blood_pressure</th>\n",
       "      <th>Oxygen_saturation</th>\n",
       "      <th>pH</th>\n",
       "      <th>Respiratory_rate</th>\n",
       "      <th>Systolic_blood_pressure</th>\n",
       "      <th>Temperature</th>\n",
       "      <th>Weight</th>\n",
       "      <th>GCS_Eye</th>\n",
       "      <th>GCS_motor</th>\n",
       "      <th>GCS_verbal</th>\n",
       "      <th>GENDER</th>\n",
       "      <th>AGE</th>\n",
       "      <th>ADMISSION_TYPE</th>\n",
       "      <th>ETHNICITY</th>\n",
       "      <th>FIRST_CAREUNIT</th>\n",
       "    </tr>\n",
       "  </thead>\n",
       "  <tbody>\n",
       "    <tr>\n",
       "      <th>0</th>\n",
       "      <td>10482</td>\n",
       "      <td>63.400020</td>\n",
       "      <td>57.644481</td>\n",
       "      <td>151.892624</td>\n",
       "      <td>89.584858</td>\n",
       "      <td>81.042940</td>\n",
       "      <td>96.699294</td>\n",
       "      <td>7.356923</td>\n",
       "      <td>19.273598</td>\n",
       "      <td>118.932444</td>\n",
       "      <td>37.188440</td>\n",
       "      <td>77.349404</td>\n",
       "      <td>3.0</td>\n",
       "      <td>5.0</td>\n",
       "      <td>1.0</td>\n",
       "      <td>1.0</td>\n",
       "      <td>55.547945</td>\n",
       "      <td>EMERGENCY</td>\n",
       "      <td>WHITE</td>\n",
       "      <td>MICU</td>\n",
       "    </tr>\n",
       "    <tr>\n",
       "      <th>1</th>\n",
       "      <td>10486</td>\n",
       "      <td>60.764163</td>\n",
       "      <td>54.727844</td>\n",
       "      <td>147.936593</td>\n",
       "      <td>82.852180</td>\n",
       "      <td>76.698210</td>\n",
       "      <td>97.143030</td>\n",
       "      <td>7.356016</td>\n",
       "      <td>18.410208</td>\n",
       "      <td>119.480574</td>\n",
       "      <td>36.925189</td>\n",
       "      <td>86.714986</td>\n",
       "      <td>4.0</td>\n",
       "      <td>4.0</td>\n",
       "      <td>5.0</td>\n",
       "      <td>1.0</td>\n",
       "      <td>58.616438</td>\n",
       "      <td>EMERGENCY</td>\n",
       "      <td>WHITE</td>\n",
       "      <td>CCU</td>\n",
       "    </tr>\n",
       "    <tr>\n",
       "      <th>2</th>\n",
       "      <td>10490</td>\n",
       "      <td>61.239206</td>\n",
       "      <td>55.676815</td>\n",
       "      <td>138.981222</td>\n",
       "      <td>86.230247</td>\n",
       "      <td>78.899087</td>\n",
       "      <td>97.129945</td>\n",
       "      <td>7.368315</td>\n",
       "      <td>18.394566</td>\n",
       "      <td>119.769236</td>\n",
       "      <td>37.049846</td>\n",
       "      <td>83.757621</td>\n",
       "      <td>4.0</td>\n",
       "      <td>6.0</td>\n",
       "      <td>4.0</td>\n",
       "      <td>1.0</td>\n",
       "      <td>71.361644</td>\n",
       "      <td>ELECTIVE</td>\n",
       "      <td>OTHER</td>\n",
       "      <td>CSRU</td>\n",
       "    </tr>\n",
       "    <tr>\n",
       "      <th>3</th>\n",
       "      <td>10497</td>\n",
       "      <td>62.293316</td>\n",
       "      <td>54.544267</td>\n",
       "      <td>134.395503</td>\n",
       "      <td>81.485003</td>\n",
       "      <td>80.453078</td>\n",
       "      <td>96.233018</td>\n",
       "      <td>7.376927</td>\n",
       "      <td>18.524180</td>\n",
       "      <td>122.134825</td>\n",
       "      <td>36.948027</td>\n",
       "      <td>79.614192</td>\n",
       "      <td>3.0</td>\n",
       "      <td>4.0</td>\n",
       "      <td>3.0</td>\n",
       "      <td>0.0</td>\n",
       "      <td>81.482192</td>\n",
       "      <td>ELECTIVE</td>\n",
       "      <td>WHITE</td>\n",
       "      <td>CSRU</td>\n",
       "    </tr>\n",
       "    <tr>\n",
       "      <th>4</th>\n",
       "      <td>10506</td>\n",
       "      <td>62.483374</td>\n",
       "      <td>54.413401</td>\n",
       "      <td>150.152022</td>\n",
       "      <td>84.844375</td>\n",
       "      <td>76.908570</td>\n",
       "      <td>97.461497</td>\n",
       "      <td>7.350793</td>\n",
       "      <td>19.264295</td>\n",
       "      <td>123.815875</td>\n",
       "      <td>36.916096</td>\n",
       "      <td>79.522429</td>\n",
       "      <td>4.0</td>\n",
       "      <td>6.0</td>\n",
       "      <td>5.0</td>\n",
       "      <td>1.0</td>\n",
       "      <td>30.572603</td>\n",
       "      <td>EMERGENCY</td>\n",
       "      <td>BLACK</td>\n",
       "      <td>TSICU</td>\n",
       "    </tr>\n",
       "  </tbody>\n",
       "</table>\n",
       "</div>"
      ],
      "text/plain": [
       "   HADM_ID  Diastolic_blood_pressure  Fraction_inspired_oxygen     Glucose  \\\n",
       "0    10482                 63.400020                 57.644481  151.892624   \n",
       "1    10486                 60.764163                 54.727844  147.936593   \n",
       "2    10490                 61.239206                 55.676815  138.981222   \n",
       "3    10497                 62.293316                 54.544267  134.395503   \n",
       "4    10506                 62.483374                 54.413401  150.152022   \n",
       "\n",
       "   Heart_Rate  Mean_blood_pressure  Oxygen_saturation        pH  \\\n",
       "0   89.584858            81.042940          96.699294  7.356923   \n",
       "1   82.852180            76.698210          97.143030  7.356016   \n",
       "2   86.230247            78.899087          97.129945  7.368315   \n",
       "3   81.485003            80.453078          96.233018  7.376927   \n",
       "4   84.844375            76.908570          97.461497  7.350793   \n",
       "\n",
       "   Respiratory_rate  Systolic_blood_pressure  Temperature     Weight  GCS_Eye  \\\n",
       "0         19.273598               118.932444    37.188440  77.349404      3.0   \n",
       "1         18.410208               119.480574    36.925189  86.714986      4.0   \n",
       "2         18.394566               119.769236    37.049846  83.757621      4.0   \n",
       "3         18.524180               122.134825    36.948027  79.614192      3.0   \n",
       "4         19.264295               123.815875    36.916096  79.522429      4.0   \n",
       "\n",
       "   GCS_motor  GCS_verbal  GENDER        AGE ADMISSION_TYPE ETHNICITY  \\\n",
       "0        5.0         1.0     1.0  55.547945      EMERGENCY     WHITE   \n",
       "1        4.0         5.0     1.0  58.616438      EMERGENCY     WHITE   \n",
       "2        6.0         4.0     1.0  71.361644       ELECTIVE     OTHER   \n",
       "3        4.0         3.0     0.0  81.482192       ELECTIVE     WHITE   \n",
       "4        6.0         5.0     1.0  30.572603      EMERGENCY     BLACK   \n",
       "\n",
       "  FIRST_CAREUNIT  \n",
       "0           MICU  \n",
       "1            CCU  \n",
       "2           CSRU  \n",
       "3           CSRU  \n",
       "4          TSICU  "
      ]
     },
     "execution_count": 105,
     "metadata": {},
     "output_type": "execute_result"
    }
   ],
   "source": [
    "dataset_for_test.head()"
   ]
  },
  {
   "cell_type": "code",
   "execution_count": 106,
   "id": "f552e145",
   "metadata": {},
   "outputs": [
    {
     "data": {
      "text/html": [
       "<div>\n",
       "<style scoped>\n",
       "    .dataframe tbody tr th:only-of-type {\n",
       "        vertical-align: middle;\n",
       "    }\n",
       "\n",
       "    .dataframe tbody tr th {\n",
       "        vertical-align: top;\n",
       "    }\n",
       "\n",
       "    .dataframe thead th {\n",
       "        text-align: right;\n",
       "    }\n",
       "</style>\n",
       "<table border=\"1\" class=\"dataframe\">\n",
       "  <thead>\n",
       "    <tr style=\"text-align: right;\">\n",
       "      <th></th>\n",
       "      <th>HADM_ID</th>\n",
       "      <th>GCS_Eye</th>\n",
       "      <th>GCS_motor</th>\n",
       "      <th>GCS_verbal</th>\n",
       "      <th>GENDER</th>\n",
       "      <th>AGE</th>\n",
       "      <th>IN_HOSPITAL_DEATH</th>\n",
       "      <th>Diastolic_blood_pressure</th>\n",
       "      <th>Fraction_inspired_oxygen</th>\n",
       "      <th>Glucose</th>\n",
       "      <th>...</th>\n",
       "      <th>Mean_blood_pressure</th>\n",
       "      <th>Oxygen_saturation</th>\n",
       "      <th>pH</th>\n",
       "      <th>Respiratory_rate</th>\n",
       "      <th>Systolic_blood_pressure</th>\n",
       "      <th>Temperature</th>\n",
       "      <th>Weight</th>\n",
       "      <th>ADMISSION_TYPE</th>\n",
       "      <th>ETHNICITY</th>\n",
       "      <th>FIRST_CAREUNIT</th>\n",
       "    </tr>\n",
       "  </thead>\n",
       "  <tbody>\n",
       "    <tr>\n",
       "      <th>0</th>\n",
       "      <td>10467</td>\n",
       "      <td>4.0</td>\n",
       "      <td>6.0</td>\n",
       "      <td>5.0</td>\n",
       "      <td>0.0</td>\n",
       "      <td>35.498630</td>\n",
       "      <td>0.0</td>\n",
       "      <td>56.884466</td>\n",
       "      <td>54.097605</td>\n",
       "      <td>143.966146</td>\n",
       "      <td>...</td>\n",
       "      <td>73.251399</td>\n",
       "      <td>97.638652</td>\n",
       "      <td>7.379590</td>\n",
       "      <td>17.580877</td>\n",
       "      <td>110.294635</td>\n",
       "      <td>37.184161</td>\n",
       "      <td>77.320851</td>\n",
       "      <td>EMERGENCY</td>\n",
       "      <td>WHITE</td>\n",
       "      <td>MICU</td>\n",
       "    </tr>\n",
       "    <tr>\n",
       "      <th>1</th>\n",
       "      <td>10469</td>\n",
       "      <td>4.0</td>\n",
       "      <td>6.0</td>\n",
       "      <td>5.0</td>\n",
       "      <td>1.0</td>\n",
       "      <td>59.950685</td>\n",
       "      <td>0.0</td>\n",
       "      <td>58.393333</td>\n",
       "      <td>55.143953</td>\n",
       "      <td>138.432298</td>\n",
       "      <td>...</td>\n",
       "      <td>75.809291</td>\n",
       "      <td>96.834015</td>\n",
       "      <td>7.369573</td>\n",
       "      <td>18.480680</td>\n",
       "      <td>122.355989</td>\n",
       "      <td>36.750291</td>\n",
       "      <td>83.337021</td>\n",
       "      <td>EMERGENCY</td>\n",
       "      <td>WHITE</td>\n",
       "      <td>MICU</td>\n",
       "    </tr>\n",
       "    <tr>\n",
       "      <th>2</th>\n",
       "      <td>10472</td>\n",
       "      <td>4.0</td>\n",
       "      <td>6.0</td>\n",
       "      <td>5.0</td>\n",
       "      <td>0.0</td>\n",
       "      <td>48.947945</td>\n",
       "      <td>0.0</td>\n",
       "      <td>60.269956</td>\n",
       "      <td>55.022174</td>\n",
       "      <td>138.737269</td>\n",
       "      <td>...</td>\n",
       "      <td>82.698045</td>\n",
       "      <td>96.967526</td>\n",
       "      <td>7.322315</td>\n",
       "      <td>19.075493</td>\n",
       "      <td>123.111122</td>\n",
       "      <td>36.987771</td>\n",
       "      <td>81.266352</td>\n",
       "      <td>EMERGENCY</td>\n",
       "      <td>BLACK</td>\n",
       "      <td>MICU</td>\n",
       "    </tr>\n",
       "    <tr>\n",
       "      <th>3</th>\n",
       "      <td>10475</td>\n",
       "      <td>3.0</td>\n",
       "      <td>4.0</td>\n",
       "      <td>3.0</td>\n",
       "      <td>1.0</td>\n",
       "      <td>60.835616</td>\n",
       "      <td>0.0</td>\n",
       "      <td>60.813069</td>\n",
       "      <td>53.946962</td>\n",
       "      <td>132.399276</td>\n",
       "      <td>...</td>\n",
       "      <td>74.618466</td>\n",
       "      <td>97.752003</td>\n",
       "      <td>7.352379</td>\n",
       "      <td>17.910770</td>\n",
       "      <td>116.905367</td>\n",
       "      <td>36.966870</td>\n",
       "      <td>83.327855</td>\n",
       "      <td>EMERGENCY</td>\n",
       "      <td>WHITE</td>\n",
       "      <td>CSRU</td>\n",
       "    </tr>\n",
       "    <tr>\n",
       "      <th>4</th>\n",
       "      <td>10476</td>\n",
       "      <td>4.0</td>\n",
       "      <td>6.0</td>\n",
       "      <td>5.0</td>\n",
       "      <td>0.0</td>\n",
       "      <td>54.556164</td>\n",
       "      <td>0.0</td>\n",
       "      <td>60.461719</td>\n",
       "      <td>55.209211</td>\n",
       "      <td>135.470892</td>\n",
       "      <td>...</td>\n",
       "      <td>75.785511</td>\n",
       "      <td>97.052243</td>\n",
       "      <td>7.338809</td>\n",
       "      <td>19.035773</td>\n",
       "      <td>116.705165</td>\n",
       "      <td>36.908203</td>\n",
       "      <td>79.879893</td>\n",
       "      <td>ELECTIVE</td>\n",
       "      <td>WHITE</td>\n",
       "      <td>SICU</td>\n",
       "    </tr>\n",
       "  </tbody>\n",
       "</table>\n",
       "<p>5 rows × 21 columns</p>\n",
       "</div>"
      ],
      "text/plain": [
       "   HADM_ID  GCS_Eye  GCS_motor  GCS_verbal  GENDER        AGE  \\\n",
       "0    10467      4.0        6.0         5.0     0.0  35.498630   \n",
       "1    10469      4.0        6.0         5.0     1.0  59.950685   \n",
       "2    10472      4.0        6.0         5.0     0.0  48.947945   \n",
       "3    10475      3.0        4.0         3.0     1.0  60.835616   \n",
       "4    10476      4.0        6.0         5.0     0.0  54.556164   \n",
       "\n",
       "   IN_HOSPITAL_DEATH  Diastolic_blood_pressure  Fraction_inspired_oxygen  \\\n",
       "0                0.0                 56.884466                 54.097605   \n",
       "1                0.0                 58.393333                 55.143953   \n",
       "2                0.0                 60.269956                 55.022174   \n",
       "3                0.0                 60.813069                 53.946962   \n",
       "4                0.0                 60.461719                 55.209211   \n",
       "\n",
       "      Glucose  ...  Mean_blood_pressure  Oxygen_saturation        pH  \\\n",
       "0  143.966146  ...            73.251399          97.638652  7.379590   \n",
       "1  138.432298  ...            75.809291          96.834015  7.369573   \n",
       "2  138.737269  ...            82.698045          96.967526  7.322315   \n",
       "3  132.399276  ...            74.618466          97.752003  7.352379   \n",
       "4  135.470892  ...            75.785511          97.052243  7.338809   \n",
       "\n",
       "   Respiratory_rate  Systolic_blood_pressure  Temperature     Weight  \\\n",
       "0         17.580877               110.294635    37.184161  77.320851   \n",
       "1         18.480680               122.355989    36.750291  83.337021   \n",
       "2         19.075493               123.111122    36.987771  81.266352   \n",
       "3         17.910770               116.905367    36.966870  83.327855   \n",
       "4         19.035773               116.705165    36.908203  79.879893   \n",
       "\n",
       "   ADMISSION_TYPE ETHNICITY FIRST_CAREUNIT  \n",
       "0       EMERGENCY     WHITE           MICU  \n",
       "1       EMERGENCY     WHITE           MICU  \n",
       "2       EMERGENCY     BLACK           MICU  \n",
       "3       EMERGENCY     WHITE           CSRU  \n",
       "4        ELECTIVE     WHITE           SICU  \n",
       "\n",
       "[5 rows x 21 columns]"
      ]
     },
     "execution_count": 106,
     "metadata": {},
     "output_type": "execute_result"
    }
   ],
   "source": [
    "dataset_for_train.head()"
   ]
  },
  {
   "cell_type": "code",
   "execution_count": 107,
   "id": "2f623a11",
   "metadata": {},
   "outputs": [
    {
     "data": {
      "text/plain": [
       "(8289, 20)"
      ]
     },
     "execution_count": 107,
     "metadata": {},
     "output_type": "execute_result"
    }
   ],
   "source": [
    "dataset_for_test.shape"
   ]
  },
  {
   "cell_type": "code",
   "execution_count": 108,
   "id": "c88dbf0a",
   "metadata": {},
   "outputs": [
    {
     "data": {
      "text/plain": [
       "(19342, 21)"
      ]
     },
     "execution_count": 108,
     "metadata": {},
     "output_type": "execute_result"
    }
   ],
   "source": [
    "dataset_for_train.shape"
   ]
  },
  {
   "cell_type": "code",
   "execution_count": 109,
   "id": "6ffc63ac",
   "metadata": {},
   "outputs": [],
   "source": [
    "X_train_new = dataset_for_train.copy()\n",
    "X_train_new.drop(columns = ['IN_HOSPITAL_DEATH', 'HADM_ID'], inplace = True)\n",
    "\n",
    "y_train_new = dataset_for_train.iloc[:, 6] "
   ]
  },
  {
   "cell_type": "code",
   "execution_count": 110,
   "id": "43cc8e8c",
   "metadata": {},
   "outputs": [
    {
     "data": {
      "text/plain": [
       "(19342, 19)"
      ]
     },
     "execution_count": 110,
     "metadata": {},
     "output_type": "execute_result"
    }
   ],
   "source": [
    "X_train_new.shape"
   ]
  },
  {
   "cell_type": "code",
   "execution_count": 111,
   "id": "cb209a07",
   "metadata": {},
   "outputs": [
    {
     "data": {
      "text/plain": [
       "(19342,)"
      ]
     },
     "execution_count": 111,
     "metadata": {},
     "output_type": "execute_result"
    }
   ],
   "source": [
    "y_train_new.shape"
   ]
  },
  {
   "cell_type": "code",
   "execution_count": 112,
   "id": "78dda635",
   "metadata": {},
   "outputs": [],
   "source": [
    "X_test_new = dataset_for_test.copy()\n",
    "X_test_new.drop(columns = ['HADM_ID'], inplace = True)\n"
   ]
  },
  {
   "cell_type": "code",
   "execution_count": 113,
   "id": "094d43cc",
   "metadata": {},
   "outputs": [
    {
     "data": {
      "text/html": [
       "<div>\n",
       "<style scoped>\n",
       "    .dataframe tbody tr th:only-of-type {\n",
       "        vertical-align: middle;\n",
       "    }\n",
       "\n",
       "    .dataframe tbody tr th {\n",
       "        vertical-align: top;\n",
       "    }\n",
       "\n",
       "    .dataframe thead th {\n",
       "        text-align: right;\n",
       "    }\n",
       "</style>\n",
       "<table border=\"1\" class=\"dataframe\">\n",
       "  <thead>\n",
       "    <tr style=\"text-align: right;\">\n",
       "      <th></th>\n",
       "      <th>Diastolic_blood_pressure</th>\n",
       "      <th>Fraction_inspired_oxygen</th>\n",
       "      <th>Glucose</th>\n",
       "      <th>Heart_Rate</th>\n",
       "      <th>Mean_blood_pressure</th>\n",
       "      <th>Oxygen_saturation</th>\n",
       "      <th>pH</th>\n",
       "      <th>Respiratory_rate</th>\n",
       "      <th>Systolic_blood_pressure</th>\n",
       "      <th>Temperature</th>\n",
       "      <th>Weight</th>\n",
       "      <th>GCS_Eye</th>\n",
       "      <th>GCS_motor</th>\n",
       "      <th>GCS_verbal</th>\n",
       "      <th>GENDER</th>\n",
       "      <th>AGE</th>\n",
       "      <th>ADMISSION_TYPE</th>\n",
       "      <th>ETHNICITY</th>\n",
       "      <th>FIRST_CAREUNIT</th>\n",
       "    </tr>\n",
       "  </thead>\n",
       "  <tbody>\n",
       "    <tr>\n",
       "      <th>0</th>\n",
       "      <td>63.400020</td>\n",
       "      <td>57.644481</td>\n",
       "      <td>151.892624</td>\n",
       "      <td>89.584858</td>\n",
       "      <td>81.042940</td>\n",
       "      <td>96.699294</td>\n",
       "      <td>7.356923</td>\n",
       "      <td>19.273598</td>\n",
       "      <td>118.932444</td>\n",
       "      <td>37.188440</td>\n",
       "      <td>77.349404</td>\n",
       "      <td>3.0</td>\n",
       "      <td>5.0</td>\n",
       "      <td>1.0</td>\n",
       "      <td>1.0</td>\n",
       "      <td>55.547945</td>\n",
       "      <td>EMERGENCY</td>\n",
       "      <td>WHITE</td>\n",
       "      <td>MICU</td>\n",
       "    </tr>\n",
       "    <tr>\n",
       "      <th>1</th>\n",
       "      <td>60.764163</td>\n",
       "      <td>54.727844</td>\n",
       "      <td>147.936593</td>\n",
       "      <td>82.852180</td>\n",
       "      <td>76.698210</td>\n",
       "      <td>97.143030</td>\n",
       "      <td>7.356016</td>\n",
       "      <td>18.410208</td>\n",
       "      <td>119.480574</td>\n",
       "      <td>36.925189</td>\n",
       "      <td>86.714986</td>\n",
       "      <td>4.0</td>\n",
       "      <td>4.0</td>\n",
       "      <td>5.0</td>\n",
       "      <td>1.0</td>\n",
       "      <td>58.616438</td>\n",
       "      <td>EMERGENCY</td>\n",
       "      <td>WHITE</td>\n",
       "      <td>CCU</td>\n",
       "    </tr>\n",
       "    <tr>\n",
       "      <th>2</th>\n",
       "      <td>61.239206</td>\n",
       "      <td>55.676815</td>\n",
       "      <td>138.981222</td>\n",
       "      <td>86.230247</td>\n",
       "      <td>78.899087</td>\n",
       "      <td>97.129945</td>\n",
       "      <td>7.368315</td>\n",
       "      <td>18.394566</td>\n",
       "      <td>119.769236</td>\n",
       "      <td>37.049846</td>\n",
       "      <td>83.757621</td>\n",
       "      <td>4.0</td>\n",
       "      <td>6.0</td>\n",
       "      <td>4.0</td>\n",
       "      <td>1.0</td>\n",
       "      <td>71.361644</td>\n",
       "      <td>ELECTIVE</td>\n",
       "      <td>OTHER</td>\n",
       "      <td>CSRU</td>\n",
       "    </tr>\n",
       "    <tr>\n",
       "      <th>3</th>\n",
       "      <td>62.293316</td>\n",
       "      <td>54.544267</td>\n",
       "      <td>134.395503</td>\n",
       "      <td>81.485003</td>\n",
       "      <td>80.453078</td>\n",
       "      <td>96.233018</td>\n",
       "      <td>7.376927</td>\n",
       "      <td>18.524180</td>\n",
       "      <td>122.134825</td>\n",
       "      <td>36.948027</td>\n",
       "      <td>79.614192</td>\n",
       "      <td>3.0</td>\n",
       "      <td>4.0</td>\n",
       "      <td>3.0</td>\n",
       "      <td>0.0</td>\n",
       "      <td>81.482192</td>\n",
       "      <td>ELECTIVE</td>\n",
       "      <td>WHITE</td>\n",
       "      <td>CSRU</td>\n",
       "    </tr>\n",
       "    <tr>\n",
       "      <th>4</th>\n",
       "      <td>62.483374</td>\n",
       "      <td>54.413401</td>\n",
       "      <td>150.152022</td>\n",
       "      <td>84.844375</td>\n",
       "      <td>76.908570</td>\n",
       "      <td>97.461497</td>\n",
       "      <td>7.350793</td>\n",
       "      <td>19.264295</td>\n",
       "      <td>123.815875</td>\n",
       "      <td>36.916096</td>\n",
       "      <td>79.522429</td>\n",
       "      <td>4.0</td>\n",
       "      <td>6.0</td>\n",
       "      <td>5.0</td>\n",
       "      <td>1.0</td>\n",
       "      <td>30.572603</td>\n",
       "      <td>EMERGENCY</td>\n",
       "      <td>BLACK</td>\n",
       "      <td>TSICU</td>\n",
       "    </tr>\n",
       "  </tbody>\n",
       "</table>\n",
       "</div>"
      ],
      "text/plain": [
       "   Diastolic_blood_pressure  Fraction_inspired_oxygen     Glucose  Heart_Rate  \\\n",
       "0                 63.400020                 57.644481  151.892624   89.584858   \n",
       "1                 60.764163                 54.727844  147.936593   82.852180   \n",
       "2                 61.239206                 55.676815  138.981222   86.230247   \n",
       "3                 62.293316                 54.544267  134.395503   81.485003   \n",
       "4                 62.483374                 54.413401  150.152022   84.844375   \n",
       "\n",
       "   Mean_blood_pressure  Oxygen_saturation        pH  Respiratory_rate  \\\n",
       "0            81.042940          96.699294  7.356923         19.273598   \n",
       "1            76.698210          97.143030  7.356016         18.410208   \n",
       "2            78.899087          97.129945  7.368315         18.394566   \n",
       "3            80.453078          96.233018  7.376927         18.524180   \n",
       "4            76.908570          97.461497  7.350793         19.264295   \n",
       "\n",
       "   Systolic_blood_pressure  Temperature     Weight  GCS_Eye  GCS_motor  \\\n",
       "0               118.932444    37.188440  77.349404      3.0        5.0   \n",
       "1               119.480574    36.925189  86.714986      4.0        4.0   \n",
       "2               119.769236    37.049846  83.757621      4.0        6.0   \n",
       "3               122.134825    36.948027  79.614192      3.0        4.0   \n",
       "4               123.815875    36.916096  79.522429      4.0        6.0   \n",
       "\n",
       "   GCS_verbal  GENDER        AGE ADMISSION_TYPE ETHNICITY FIRST_CAREUNIT  \n",
       "0         1.0     1.0  55.547945      EMERGENCY     WHITE           MICU  \n",
       "1         5.0     1.0  58.616438      EMERGENCY     WHITE            CCU  \n",
       "2         4.0     1.0  71.361644       ELECTIVE     OTHER           CSRU  \n",
       "3         3.0     0.0  81.482192       ELECTIVE     WHITE           CSRU  \n",
       "4         5.0     1.0  30.572603      EMERGENCY     BLACK          TSICU  "
      ]
     },
     "execution_count": 113,
     "metadata": {},
     "output_type": "execute_result"
    }
   ],
   "source": [
    "X_test_new.head()"
   ]
  },
  {
   "cell_type": "markdown",
   "id": "d0d21bbf",
   "metadata": {},
   "source": [
    "Now, our dataset is ready to go for scaling part. Before scaling the data we convert the categorical variable to float. "
   ]
  },
  {
   "cell_type": "code",
   "execution_count": 114,
   "id": "0b3502b2",
   "metadata": {},
   "outputs": [],
   "source": [
    "\n",
    "ct = ColumnTransformer(transformers=[('encoder', OneHotEncoder(), [16,17,18])], remainder='passthrough')\n",
    "X_train_new = np.array(ct.fit_transform(X_train_new))\n",
    "ct_test = ColumnTransformer(transformers=[('encoder', OneHotEncoder(), [16,17,18])], remainder='passthrough')\n",
    "X_test_new = np.array(ct_test.fit_transform(X_test_new))\n"
   ]
  },
  {
   "cell_type": "markdown",
   "id": "0c36dfe0",
   "metadata": {},
   "source": [
    "To deal with missing values, we used Simple mean Imputer"
   ]
  },
  {
   "cell_type": "code",
   "execution_count": 115,
   "id": "3771c682",
   "metadata": {},
   "outputs": [],
   "source": [
    "\n",
    "imputer_trn = SimpleImputer(missing_values=np.nan, strategy='mean')\n",
    "imputer_trn.fit(X_train_new[:])\n",
    "X_train_new[:] = imputer_trn.transform(X_train_new[:])\n",
    "\n",
    "\n",
    "\n",
    "imputer_tst = SimpleImputer(missing_values=np.nan, strategy='mean')\n",
    "imputer_tst.fit(X_test_new[:])\n",
    "X_test_new[:] = imputer_tst.transform(X_test_new[:])"
   ]
  },
  {
   "cell_type": "markdown",
   "id": "ffb23156",
   "metadata": {},
   "source": [
    "Now, we will use standard scaler to scale the data"
   ]
  },
  {
   "cell_type": "code",
   "execution_count": 116,
   "id": "3f2034c4",
   "metadata": {},
   "outputs": [],
   "source": [
    "from sklearn.preprocessing import StandardScaler\n",
    "scaler = StandardScaler().fit(X_train_new)\n",
    "X_train_new = scaler.transform(X_train_new)\n",
    "\n",
    "\n",
    "from sklearn.preprocessing import StandardScaler\n",
    "scaler_tst = StandardScaler().fit(X_test_new)\n",
    "X_test_new = scaler_tst.transform(X_test_new)"
   ]
  },
  {
   "cell_type": "code",
   "execution_count": 117,
   "id": "243235b5",
   "metadata": {
    "scrolled": true
   },
   "outputs": [
    {
     "data": {
      "text/plain": [
       "(19342, 29)"
      ]
     },
     "execution_count": 117,
     "metadata": {},
     "output_type": "execute_result"
    }
   ],
   "source": [
    "X_train_new.shape"
   ]
  },
  {
   "cell_type": "code",
   "execution_count": 118,
   "id": "7dc20eb1",
   "metadata": {},
   "outputs": [
    {
     "data": {
      "text/plain": [
       "(8289, 29)"
      ]
     },
     "execution_count": 118,
     "metadata": {},
     "output_type": "execute_result"
    }
   ],
   "source": [
    "X_test_new.shape"
   ]
  },
  {
   "cell_type": "code",
   "execution_count": 119,
   "id": "377faa5a",
   "metadata": {},
   "outputs": [
    {
     "data": {
      "text/plain": [
       "(19342,)"
      ]
     },
     "execution_count": 119,
     "metadata": {},
     "output_type": "execute_result"
    }
   ],
   "source": [
    "y_train_new.shape"
   ]
  },
  {
   "cell_type": "code",
   "execution_count": 120,
   "id": "16939eea",
   "metadata": {},
   "outputs": [],
   "source": [
    "y_tst_rf =rf_Grid.predict_proba(X_test_new)"
   ]
  },
  {
   "cell_type": "code",
   "execution_count": 121,
   "id": "3382779e",
   "metadata": {
    "scrolled": true
   },
   "outputs": [
    {
     "data": {
      "text/html": [
       "<div>\n",
       "<style scoped>\n",
       "    .dataframe tbody tr th:only-of-type {\n",
       "        vertical-align: middle;\n",
       "    }\n",
       "\n",
       "    .dataframe tbody tr th {\n",
       "        vertical-align: top;\n",
       "    }\n",
       "\n",
       "    .dataframe thead th {\n",
       "        text-align: right;\n",
       "    }\n",
       "</style>\n",
       "<table border=\"1\" class=\"dataframe\">\n",
       "  <thead>\n",
       "    <tr style=\"text-align: right;\">\n",
       "      <th></th>\n",
       "      <th>HADM_ID</th>\n",
       "      <th>Prediction</th>\n",
       "    </tr>\n",
       "  </thead>\n",
       "  <tbody>\n",
       "    <tr>\n",
       "      <th>0</th>\n",
       "      <td>88439</td>\n",
       "      <td>0</td>\n",
       "    </tr>\n",
       "    <tr>\n",
       "      <th>1</th>\n",
       "      <td>85430</td>\n",
       "      <td>0</td>\n",
       "    </tr>\n",
       "    <tr>\n",
       "      <th>2</th>\n",
       "      <td>33620</td>\n",
       "      <td>0</td>\n",
       "    </tr>\n",
       "    <tr>\n",
       "      <th>3</th>\n",
       "      <td>108726</td>\n",
       "      <td>0</td>\n",
       "    </tr>\n",
       "    <tr>\n",
       "      <th>4</th>\n",
       "      <td>71197</td>\n",
       "      <td>0</td>\n",
       "    </tr>\n",
       "  </tbody>\n",
       "</table>\n",
       "</div>"
      ],
      "text/plain": [
       "   HADM_ID  Prediction\n",
       "0    88439           0\n",
       "1    85430           0\n",
       "2    33620           0\n",
       "3   108726           0\n",
       "4    71197           0"
      ]
     },
     "execution_count": 121,
     "metadata": {},
     "output_type": "execute_result"
    }
   ],
   "source": [
    "threshold = 0.3\n",
    "\n",
    "\n",
    "predicted = (y_tst_rf [:,1] >= threshold).astype('int')\n",
    "dset_sol_rff = pd.DataFrame({\"HADM_ID\": test_2.HADM_ID, \"Prediction\" : predicted})\n",
    "dset_sol_rff.head()"
   ]
  },
  {
   "cell_type": "markdown",
   "id": "743e6dfd",
   "metadata": {},
   "source": [
    "Lets make test data prepared for time-series(Deep learning model)"
   ]
  },
  {
   "cell_type": "code",
   "execution_count": 122,
   "id": "c1ed6c97",
   "metadata": {},
   "outputs": [],
   "source": [
    "X_test_ts = test_dataset.copy()\n",
    "X_test_ts.drop(columns = ['HADM_ID', 'CHART_TIME_STEP_HR'], inplace = True)\n",
    "\n"
   ]
  },
  {
   "cell_type": "code",
   "execution_count": 123,
   "id": "d516f767",
   "metadata": {
    "scrolled": false
   },
   "outputs": [
    {
     "data": {
      "text/html": [
       "<div>\n",
       "<style scoped>\n",
       "    .dataframe tbody tr th:only-of-type {\n",
       "        vertical-align: middle;\n",
       "    }\n",
       "\n",
       "    .dataframe tbody tr th {\n",
       "        vertical-align: top;\n",
       "    }\n",
       "\n",
       "    .dataframe thead th {\n",
       "        text-align: right;\n",
       "    }\n",
       "</style>\n",
       "<table border=\"1\" class=\"dataframe\">\n",
       "  <thead>\n",
       "    <tr style=\"text-align: right;\">\n",
       "      <th></th>\n",
       "      <th>Diastolic_blood_pressure</th>\n",
       "      <th>Fraction_inspired_oxygen</th>\n",
       "      <th>Glucose</th>\n",
       "      <th>Heart_Rate</th>\n",
       "      <th>Mean_blood_pressure</th>\n",
       "      <th>Oxygen_saturation</th>\n",
       "      <th>pH</th>\n",
       "      <th>Respiratory_rate</th>\n",
       "      <th>Systolic_blood_pressure</th>\n",
       "      <th>Temperature</th>\n",
       "      <th>Weight</th>\n",
       "      <th>Height</th>\n",
       "      <th>GCS_Eye</th>\n",
       "      <th>GCS_motor</th>\n",
       "      <th>GCS_verbal</th>\n",
       "      <th>ADMISSION_TYPE</th>\n",
       "      <th>ETHNICITY</th>\n",
       "      <th>GENDER</th>\n",
       "      <th>FIRST_CAREUNIT</th>\n",
       "      <th>AGE</th>\n",
       "    </tr>\n",
       "  </thead>\n",
       "  <tbody>\n",
       "    <tr>\n",
       "      <th>0</th>\n",
       "      <td>NaN</td>\n",
       "      <td>NaN</td>\n",
       "      <td>177.283750</td>\n",
       "      <td>NaN</td>\n",
       "      <td>NaN</td>\n",
       "      <td>NaN</td>\n",
       "      <td>7.249081</td>\n",
       "      <td>13.480925</td>\n",
       "      <td>NaN</td>\n",
       "      <td>37.298800</td>\n",
       "      <td>49.765461</td>\n",
       "      <td>137.08</td>\n",
       "      <td>3.0</td>\n",
       "      <td>5.0</td>\n",
       "      <td>1.0</td>\n",
       "      <td>EMERGENCY</td>\n",
       "      <td>WHITE</td>\n",
       "      <td>1</td>\n",
       "      <td>MICU</td>\n",
       "      <td>55.547945</td>\n",
       "    </tr>\n",
       "    <tr>\n",
       "      <th>1</th>\n",
       "      <td>74.134059</td>\n",
       "      <td>NaN</td>\n",
       "      <td>116.124146</td>\n",
       "      <td>97.910453</td>\n",
       "      <td>77.959258</td>\n",
       "      <td>94.637154</td>\n",
       "      <td>7.364961</td>\n",
       "      <td>13.876098</td>\n",
       "      <td>NaN</td>\n",
       "      <td>NaN</td>\n",
       "      <td>NaN</td>\n",
       "      <td>137.08</td>\n",
       "      <td>3.0</td>\n",
       "      <td>5.0</td>\n",
       "      <td>1.0</td>\n",
       "      <td>EMERGENCY</td>\n",
       "      <td>WHITE</td>\n",
       "      <td>1</td>\n",
       "      <td>MICU</td>\n",
       "      <td>55.547945</td>\n",
       "    </tr>\n",
       "    <tr>\n",
       "      <th>2</th>\n",
       "      <td>61.200316</td>\n",
       "      <td>NaN</td>\n",
       "      <td>205.903217</td>\n",
       "      <td>NaN</td>\n",
       "      <td>NaN</td>\n",
       "      <td>97.637158</td>\n",
       "      <td>NaN</td>\n",
       "      <td>18.619447</td>\n",
       "      <td>NaN</td>\n",
       "      <td>NaN</td>\n",
       "      <td>NaN</td>\n",
       "      <td>137.08</td>\n",
       "      <td>3.0</td>\n",
       "      <td>5.0</td>\n",
       "      <td>1.0</td>\n",
       "      <td>EMERGENCY</td>\n",
       "      <td>WHITE</td>\n",
       "      <td>1</td>\n",
       "      <td>MICU</td>\n",
       "      <td>55.547945</td>\n",
       "    </tr>\n",
       "    <tr>\n",
       "      <th>3</th>\n",
       "      <td>NaN</td>\n",
       "      <td>NaN</td>\n",
       "      <td>93.615694</td>\n",
       "      <td>79.903595</td>\n",
       "      <td>78.008654</td>\n",
       "      <td>100.174864</td>\n",
       "      <td>NaN</td>\n",
       "      <td>20.437194</td>\n",
       "      <td>NaN</td>\n",
       "      <td>36.156025</td>\n",
       "      <td>NaN</td>\n",
       "      <td>137.08</td>\n",
       "      <td>3.0</td>\n",
       "      <td>5.0</td>\n",
       "      <td>1.0</td>\n",
       "      <td>EMERGENCY</td>\n",
       "      <td>WHITE</td>\n",
       "      <td>1</td>\n",
       "      <td>MICU</td>\n",
       "      <td>55.547945</td>\n",
       "    </tr>\n",
       "    <tr>\n",
       "      <th>4</th>\n",
       "      <td>NaN</td>\n",
       "      <td>59.905487</td>\n",
       "      <td>177.625044</td>\n",
       "      <td>87.614991</td>\n",
       "      <td>82.082165</td>\n",
       "      <td>100.096492</td>\n",
       "      <td>NaN</td>\n",
       "      <td>19.957419</td>\n",
       "      <td>NaN</td>\n",
       "      <td>36.545745</td>\n",
       "      <td>NaN</td>\n",
       "      <td>137.08</td>\n",
       "      <td>3.0</td>\n",
       "      <td>5.0</td>\n",
       "      <td>1.0</td>\n",
       "      <td>EMERGENCY</td>\n",
       "      <td>WHITE</td>\n",
       "      <td>1</td>\n",
       "      <td>MICU</td>\n",
       "      <td>55.547945</td>\n",
       "    </tr>\n",
       "  </tbody>\n",
       "</table>\n",
       "</div>"
      ],
      "text/plain": [
       "   Diastolic_blood_pressure  Fraction_inspired_oxygen     Glucose  Heart_Rate  \\\n",
       "0                       NaN                       NaN  177.283750         NaN   \n",
       "1                 74.134059                       NaN  116.124146   97.910453   \n",
       "2                 61.200316                       NaN  205.903217         NaN   \n",
       "3                       NaN                       NaN   93.615694   79.903595   \n",
       "4                       NaN                 59.905487  177.625044   87.614991   \n",
       "\n",
       "   Mean_blood_pressure  Oxygen_saturation        pH  Respiratory_rate  \\\n",
       "0                  NaN                NaN  7.249081         13.480925   \n",
       "1            77.959258          94.637154  7.364961         13.876098   \n",
       "2                  NaN          97.637158       NaN         18.619447   \n",
       "3            78.008654         100.174864       NaN         20.437194   \n",
       "4            82.082165         100.096492       NaN         19.957419   \n",
       "\n",
       "   Systolic_blood_pressure  Temperature     Weight  Height  GCS_Eye  \\\n",
       "0                      NaN    37.298800  49.765461  137.08      3.0   \n",
       "1                      NaN          NaN        NaN  137.08      3.0   \n",
       "2                      NaN          NaN        NaN  137.08      3.0   \n",
       "3                      NaN    36.156025        NaN  137.08      3.0   \n",
       "4                      NaN    36.545745        NaN  137.08      3.0   \n",
       "\n",
       "   GCS_motor  GCS_verbal ADMISSION_TYPE ETHNICITY  GENDER FIRST_CAREUNIT  \\\n",
       "0        5.0         1.0      EMERGENCY     WHITE       1           MICU   \n",
       "1        5.0         1.0      EMERGENCY     WHITE       1           MICU   \n",
       "2        5.0         1.0      EMERGENCY     WHITE       1           MICU   \n",
       "3        5.0         1.0      EMERGENCY     WHITE       1           MICU   \n",
       "4        5.0         1.0      EMERGENCY     WHITE       1           MICU   \n",
       "\n",
       "         AGE  \n",
       "0  55.547945  \n",
       "1  55.547945  \n",
       "2  55.547945  \n",
       "3  55.547945  \n",
       "4  55.547945  "
      ]
     },
     "execution_count": 123,
     "metadata": {},
     "output_type": "execute_result"
    }
   ],
   "source": [
    "X_test_ts.head()"
   ]
  },
  {
   "cell_type": "code",
   "execution_count": 124,
   "id": "c3dfd822",
   "metadata": {},
   "outputs": [
    {
     "data": {
      "text/plain": [
       "Diastolic_blood_pressure    0.262059\n",
       "Fraction_inspired_oxygen    0.880989\n",
       "Glucose                     0.788922\n",
       "Heart_Rate                  0.242402\n",
       "Mean_blood_pressure         0.252134\n",
       "Oxygen_saturation           0.277200\n",
       "pH                          0.854322\n",
       "Respiratory_rate            0.246677\n",
       "Systolic_blood_pressure     0.252993\n",
       "Temperature                 0.727797\n",
       "Weight                      0.905600\n",
       "Height                      0.805405\n",
       "GCS_Eye                     0.000241\n",
       "GCS_motor                   0.000362\n",
       "GCS_verbal                  0.000603\n",
       "ADMISSION_TYPE              0.000000\n",
       "ETHNICITY                   0.000000\n",
       "GENDER                      0.000000\n",
       "FIRST_CAREUNIT              0.000000\n",
       "AGE                         0.000000\n",
       "dtype: float64"
      ]
     },
     "execution_count": 124,
     "metadata": {},
     "output_type": "execute_result"
    }
   ],
   "source": [
    "n_obs_X = X_test_ts.shape[0]\n",
    "X_test_ts.isna().sum()/n_obs_X"
   ]
  },
  {
   "cell_type": "code",
   "execution_count": 125,
   "id": "6dfc1e1b",
   "metadata": {
    "scrolled": true
   },
   "outputs": [
    {
     "data": {
      "text/html": [
       "<div>\n",
       "<style scoped>\n",
       "    .dataframe tbody tr th:only-of-type {\n",
       "        vertical-align: middle;\n",
       "    }\n",
       "\n",
       "    .dataframe tbody tr th {\n",
       "        vertical-align: top;\n",
       "    }\n",
       "\n",
       "    .dataframe thead th {\n",
       "        text-align: right;\n",
       "    }\n",
       "</style>\n",
       "<table border=\"1\" class=\"dataframe\">\n",
       "  <thead>\n",
       "    <tr style=\"text-align: right;\">\n",
       "      <th></th>\n",
       "      <th>Diastolic_blood_pressure</th>\n",
       "      <th>Heart_Rate</th>\n",
       "      <th>Mean_blood_pressure</th>\n",
       "      <th>Oxygen_saturation</th>\n",
       "      <th>Respiratory_rate</th>\n",
       "      <th>Systolic_blood_pressure</th>\n",
       "      <th>GCS_Eye</th>\n",
       "      <th>GCS_motor</th>\n",
       "      <th>GCS_verbal</th>\n",
       "      <th>ADMISSION_TYPE</th>\n",
       "      <th>ETHNICITY</th>\n",
       "      <th>GENDER</th>\n",
       "      <th>FIRST_CAREUNIT</th>\n",
       "      <th>AGE</th>\n",
       "    </tr>\n",
       "  </thead>\n",
       "  <tbody>\n",
       "    <tr>\n",
       "      <th>0</th>\n",
       "      <td>NaN</td>\n",
       "      <td>NaN</td>\n",
       "      <td>NaN</td>\n",
       "      <td>NaN</td>\n",
       "      <td>13.480925</td>\n",
       "      <td>NaN</td>\n",
       "      <td>3.0</td>\n",
       "      <td>5.0</td>\n",
       "      <td>1.0</td>\n",
       "      <td>EMERGENCY</td>\n",
       "      <td>WHITE</td>\n",
       "      <td>1</td>\n",
       "      <td>MICU</td>\n",
       "      <td>55.547945</td>\n",
       "    </tr>\n",
       "    <tr>\n",
       "      <th>1</th>\n",
       "      <td>74.134059</td>\n",
       "      <td>97.910453</td>\n",
       "      <td>77.959258</td>\n",
       "      <td>94.637154</td>\n",
       "      <td>13.876098</td>\n",
       "      <td>NaN</td>\n",
       "      <td>3.0</td>\n",
       "      <td>5.0</td>\n",
       "      <td>1.0</td>\n",
       "      <td>EMERGENCY</td>\n",
       "      <td>WHITE</td>\n",
       "      <td>1</td>\n",
       "      <td>MICU</td>\n",
       "      <td>55.547945</td>\n",
       "    </tr>\n",
       "    <tr>\n",
       "      <th>2</th>\n",
       "      <td>61.200316</td>\n",
       "      <td>NaN</td>\n",
       "      <td>NaN</td>\n",
       "      <td>97.637158</td>\n",
       "      <td>18.619447</td>\n",
       "      <td>NaN</td>\n",
       "      <td>3.0</td>\n",
       "      <td>5.0</td>\n",
       "      <td>1.0</td>\n",
       "      <td>EMERGENCY</td>\n",
       "      <td>WHITE</td>\n",
       "      <td>1</td>\n",
       "      <td>MICU</td>\n",
       "      <td>55.547945</td>\n",
       "    </tr>\n",
       "    <tr>\n",
       "      <th>3</th>\n",
       "      <td>NaN</td>\n",
       "      <td>79.903595</td>\n",
       "      <td>78.008654</td>\n",
       "      <td>100.174864</td>\n",
       "      <td>20.437194</td>\n",
       "      <td>NaN</td>\n",
       "      <td>3.0</td>\n",
       "      <td>5.0</td>\n",
       "      <td>1.0</td>\n",
       "      <td>EMERGENCY</td>\n",
       "      <td>WHITE</td>\n",
       "      <td>1</td>\n",
       "      <td>MICU</td>\n",
       "      <td>55.547945</td>\n",
       "    </tr>\n",
       "    <tr>\n",
       "      <th>4</th>\n",
       "      <td>NaN</td>\n",
       "      <td>87.614991</td>\n",
       "      <td>82.082165</td>\n",
       "      <td>100.096492</td>\n",
       "      <td>19.957419</td>\n",
       "      <td>NaN</td>\n",
       "      <td>3.0</td>\n",
       "      <td>5.0</td>\n",
       "      <td>1.0</td>\n",
       "      <td>EMERGENCY</td>\n",
       "      <td>WHITE</td>\n",
       "      <td>1</td>\n",
       "      <td>MICU</td>\n",
       "      <td>55.547945</td>\n",
       "    </tr>\n",
       "  </tbody>\n",
       "</table>\n",
       "</div>"
      ],
      "text/plain": [
       "   Diastolic_blood_pressure  Heart_Rate  Mean_blood_pressure  \\\n",
       "0                       NaN         NaN                  NaN   \n",
       "1                 74.134059   97.910453            77.959258   \n",
       "2                 61.200316         NaN                  NaN   \n",
       "3                       NaN   79.903595            78.008654   \n",
       "4                       NaN   87.614991            82.082165   \n",
       "\n",
       "   Oxygen_saturation  Respiratory_rate  Systolic_blood_pressure  GCS_Eye  \\\n",
       "0                NaN         13.480925                      NaN      3.0   \n",
       "1          94.637154         13.876098                      NaN      3.0   \n",
       "2          97.637158         18.619447                      NaN      3.0   \n",
       "3         100.174864         20.437194                      NaN      3.0   \n",
       "4         100.096492         19.957419                      NaN      3.0   \n",
       "\n",
       "   GCS_motor  GCS_verbal ADMISSION_TYPE ETHNICITY  GENDER FIRST_CAREUNIT  \\\n",
       "0        5.0         1.0      EMERGENCY     WHITE       1           MICU   \n",
       "1        5.0         1.0      EMERGENCY     WHITE       1           MICU   \n",
       "2        5.0         1.0      EMERGENCY     WHITE       1           MICU   \n",
       "3        5.0         1.0      EMERGENCY     WHITE       1           MICU   \n",
       "4        5.0         1.0      EMERGENCY     WHITE       1           MICU   \n",
       "\n",
       "         AGE  \n",
       "0  55.547945  \n",
       "1  55.547945  \n",
       "2  55.547945  \n",
       "3  55.547945  \n",
       "4  55.547945  "
      ]
     },
     "execution_count": 125,
     "metadata": {},
     "output_type": "execute_result"
    }
   ],
   "source": [
    "X_test_ts.drop(columns=['Height', 'Fraction_inspired_oxygen', 'Glucose', 'pH', 'Weight', 'Temperature'], inplace=True)\n",
    "X_test_ts.head()"
   ]
  },
  {
   "cell_type": "code",
   "execution_count": 126,
   "id": "fbfc0873",
   "metadata": {},
   "outputs": [
    {
     "data": {
      "text/plain": [
       "(397872, 14)"
      ]
     },
     "execution_count": 126,
     "metadata": {},
     "output_type": "execute_result"
    }
   ],
   "source": [
    "X_test_ts.shape"
   ]
  },
  {
   "cell_type": "code",
   "execution_count": 127,
   "id": "20ef64be",
   "metadata": {},
   "outputs": [],
   "source": [
    "ct_test = ColumnTransformer(transformers=[('encoder', OneHotEncoder(), [9,10,12])], remainder='passthrough')\n",
    "X_test_ts = np.array(ct_test.fit_transform(X_test_ts))\n",
    "\n",
    "\n"
   ]
  },
  {
   "cell_type": "code",
   "execution_count": 128,
   "id": "894a2fd1",
   "metadata": {},
   "outputs": [],
   "source": [
    "imputer_tst = SimpleImputer(missing_values=np.nan, strategy='mean')\n",
    "imputer_tst.fit(X_test_ts[:])\n",
    "X_test_ts[:] = imputer_tst.transform(X_test_ts[:])\n",
    "\n",
    "\n",
    "from sklearn.preprocessing import StandardScaler\n",
    "scaler_tst = StandardScaler().fit(X_test_ts)\n",
    "X_test_ts = scaler_tst.transform(X_test_ts)"
   ]
  },
  {
   "cell_type": "code",
   "execution_count": 129,
   "id": "e1dc39d0",
   "metadata": {},
   "outputs": [
    {
     "data": {
      "text/plain": [
       "(397872, 24)"
      ]
     },
     "execution_count": 129,
     "metadata": {},
     "output_type": "execute_result"
    }
   ],
   "source": [
    "X_test_ts.shape"
   ]
  },
  {
   "cell_type": "code",
   "execution_count": 130,
   "id": "5181ca17",
   "metadata": {},
   "outputs": [],
   "source": [
    "X_test_ts = X_test_ts.reshape(8289,48,24)"
   ]
  },
  {
   "cell_type": "code",
   "execution_count": 131,
   "id": "49204c53",
   "metadata": {},
   "outputs": [
    {
     "data": {
      "text/plain": [
       "(15473, 48, 24)"
      ]
     },
     "execution_count": 131,
     "metadata": {},
     "output_type": "execute_result"
    }
   ],
   "source": [
    "X_train.shape"
   ]
  },
  {
   "cell_type": "code",
   "execution_count": 132,
   "id": "c5e6931a",
   "metadata": {},
   "outputs": [
    {
     "data": {
      "text/plain": [
       "(8289, 48, 24)"
      ]
     },
     "execution_count": 132,
     "metadata": {},
     "output_type": "execute_result"
    }
   ],
   "source": [
    "X_test_ts.shape"
   ]
  },
  {
   "cell_type": "code",
   "execution_count": 133,
   "id": "6b5ae146",
   "metadata": {},
   "outputs": [
    {
     "data": {
      "text/plain": [
       "(15473,)"
      ]
     },
     "execution_count": 133,
     "metadata": {},
     "output_type": "execute_result"
    }
   ],
   "source": [
    "y_train.shape"
   ]
  },
  {
   "cell_type": "code",
   "execution_count": 134,
   "id": "c186f7ef",
   "metadata": {},
   "outputs": [
    {
     "name": "stdout",
     "output_type": "stream",
     "text": [
      "Epoch 1/10\n",
      "484/484 [==============================] - 32s 66ms/step - loss: 0.1604\n",
      "Epoch 2/10\n",
      "484/484 [==============================] - 32s 66ms/step - loss: 0.1494\n",
      "Epoch 3/10\n",
      "484/484 [==============================] - 35s 71ms/step - loss: 0.1406\n",
      "Epoch 4/10\n",
      "484/484 [==============================] - 35s 73ms/step - loss: 0.1322\n",
      "Epoch 5/10\n",
      "484/484 [==============================] - 39s 80ms/step - loss: 0.1214\n",
      "Epoch 6/10\n",
      "484/484 [==============================] - 38s 78ms/step - loss: 0.1098\n",
      "Epoch 7/10\n",
      "484/484 [==============================] - 37s 77ms/step - loss: 0.1011\n",
      "Epoch 8/10\n",
      "484/484 [==============================] - 38s 78ms/step - loss: 0.0826\n",
      "Epoch 9/10\n",
      "484/484 [==============================] - 37s 77ms/step - loss: 0.0789\n",
      "Epoch 10/10\n",
      "484/484 [==============================] - 37s 77ms/step - loss: 0.0631\n"
     ]
    }
   ],
   "source": [
    "model_1.compile(loss='binary_crossentropy', optimizer='adam')\n",
    "\n",
    "history = model_1.fit(X_train, y_train, epochs=10, verbose=1)"
   ]
  },
  {
   "cell_type": "code",
   "execution_count": 135,
   "id": "604e09fc",
   "metadata": {},
   "outputs": [
    {
     "name": "stdout",
     "output_type": "stream",
     "text": [
      "Epoch 1/10\n",
      "484/484 [==============================] - 1s 3ms/step - loss: 0.1989\n",
      "Epoch 2/10\n",
      "484/484 [==============================] - 1s 3ms/step - loss: 0.1968\n",
      "Epoch 3/10\n",
      "484/484 [==============================] - 1s 3ms/step - loss: 0.1960\n",
      "Epoch 4/10\n",
      "484/484 [==============================] - 1s 3ms/step - loss: 0.1945\n",
      "Epoch 5/10\n",
      "484/484 [==============================] - 1s 3ms/step - loss: 0.1923\n",
      "Epoch 6/10\n",
      "484/484 [==============================] - 1s 3ms/step - loss: 0.1908\n",
      "Epoch 7/10\n",
      "484/484 [==============================] - 1s 3ms/step - loss: 0.1904\n",
      "Epoch 8/10\n",
      "484/484 [==============================] - 1s 3ms/step - loss: 0.1900\n",
      "Epoch 9/10\n",
      "484/484 [==============================] - 1s 3ms/step - loss: 0.1880\n",
      "Epoch 10/10\n",
      "484/484 [==============================] - 1s 3ms/step - loss: 0.1858\n"
     ]
    }
   ],
   "source": [
    "model_2.compile(loss='binary_crossentropy', optimizer='adam')\n",
    "\n",
    "history = model_2.fit(X_train, y_train, epochs=10, verbose=1)"
   ]
  },
  {
   "cell_type": "code",
   "execution_count": 136,
   "id": "7f0a67e3",
   "metadata": {},
   "outputs": [
    {
     "name": "stdout",
     "output_type": "stream",
     "text": [
      "Epoch 1/10\n",
      "484/484 [==============================] - 11s 22ms/step - loss: 0.1725\n",
      "Epoch 2/10\n",
      "484/484 [==============================] - 11s 22ms/step - loss: 0.1673\n",
      "Epoch 3/10\n",
      "484/484 [==============================] - 11s 22ms/step - loss: 0.1653\n",
      "Epoch 4/10\n",
      "484/484 [==============================] - 11s 22ms/step - loss: 0.1604\n",
      "Epoch 5/10\n",
      "484/484 [==============================] - 11s 22ms/step - loss: 0.1568\n",
      "Epoch 6/10\n",
      "484/484 [==============================] - 11s 22ms/step - loss: 0.1542\n",
      "Epoch 7/10\n",
      "484/484 [==============================] - 11s 22ms/step - loss: 0.1499\n",
      "Epoch 8/10\n",
      "484/484 [==============================] - 11s 22ms/step - loss: 0.1443\n",
      "Epoch 9/10\n",
      "484/484 [==============================] - 11s 22ms/step - loss: 0.1404\n",
      "Epoch 10/10\n",
      "484/484 [==============================] - 11s 22ms/step - loss: 0.1336\n"
     ]
    }
   ],
   "source": [
    "model_3.compile(loss='binary_crossentropy', optimizer='adam')\n",
    "\n",
    "history = model_3.fit(X_train, y_train, epochs=10, verbose=1)"
   ]
  },
  {
   "cell_type": "code",
   "execution_count": 137,
   "id": "a0ac8180",
   "metadata": {},
   "outputs": [
    {
     "data": {
      "text/plain": [
       "Text(0, 0.5, \"['loss']\")"
      ]
     },
     "execution_count": 137,
     "metadata": {},
     "output_type": "execute_result"
    },
    {
     "data": {
      "image/png": "[encoded data removed]",
      "text/plain": [
       "<Figure size 432x288 with 1 Axes>"
      ]
     },
     "metadata": {
      "needs_background": "light"
     },
     "output_type": "display_data"
    }
   ],
   "source": [
    "plt.plot(range(len(model_1.history.history['loss'])), model_1.history.history['loss'])\n",
    "plt.xlabel(['Epoch'])\n",
    "plt.ylabel(['loss'])"
   ]
  },
  {
   "cell_type": "code",
   "execution_count": 138,
   "id": "5e7c8dc8",
   "metadata": {},
   "outputs": [
    {
     "name": "stdout",
     "output_type": "stream",
     "text": [
      "484/484 [==============================] - 16s 33ms/step - loss: 0.0495\n"
     ]
    },
    {
     "data": {
      "text/plain": [
       "0.04953577741980553"
      ]
     },
     "execution_count": 138,
     "metadata": {},
     "output_type": "execute_result"
    }
   ],
   "source": [
    "model_1.evaluate(X_train, y_train)"
   ]
  },
  {
   "cell_type": "code",
   "execution_count": 139,
   "id": "5294184f",
   "metadata": {},
   "outputs": [
    {
     "data": {
      "text/plain": [
       "array([[6.6692144e-02],\n",
       "       [7.2837949e-02],\n",
       "       [6.5295018e-07],\n",
       "       ...,\n",
       "       [1.1967284e-05],\n",
       "       [1.4396901e-05],\n",
       "       [2.0941396e-05]], dtype=float32)"
      ]
     },
     "execution_count": 139,
     "metadata": {},
     "output_type": "execute_result"
    }
   ],
   "source": [
    "predictions_1=model_1.predict(X_test_ts)\n",
    "predictions_1"
   ]
  },
  {
   "cell_type": "code",
   "execution_count": 140,
   "id": "510457ad",
   "metadata": {},
   "outputs": [
    {
     "name": "stdout",
     "output_type": "stream",
     "text": [
      "Outputs shape\n",
      "(8289, 1)\n",
      "(8289,)\n"
     ]
    }
   ],
   "source": [
    "threshold = 0.2\n",
    "\n",
    "print('Outputs shape')    \n",
    "print(predictions_1.shape) # prints (n,1) but  need (n,)\n",
    "predictions_1=np.transpose(predictions_1)[0]  # transformation to get (n,)\n",
    "print(predictions_1.shape)  # now the shape is (n,)\n",
    "# Applying transformation to get binary values predictions with  thresold\n",
    "predictions_1 = list(map(lambda x: 0 if x<threshold else 1, predictions_1))"
   ]
  },
  {
   "cell_type": "code",
   "execution_count": 141,
   "id": "0630b4b0",
   "metadata": {},
   "outputs": [
    {
     "data": {
      "text/html": [
       "<div>\n",
       "<style scoped>\n",
       "    .dataframe tbody tr th:only-of-type {\n",
       "        vertical-align: middle;\n",
       "    }\n",
       "\n",
       "    .dataframe tbody tr th {\n",
       "        vertical-align: top;\n",
       "    }\n",
       "\n",
       "    .dataframe thead th {\n",
       "        text-align: right;\n",
       "    }\n",
       "</style>\n",
       "<table border=\"1\" class=\"dataframe\">\n",
       "  <thead>\n",
       "    <tr style=\"text-align: right;\">\n",
       "      <th></th>\n",
       "      <th>HADM_ID</th>\n",
       "      <th>Prediction</th>\n",
       "    </tr>\n",
       "  </thead>\n",
       "  <tbody>\n",
       "    <tr>\n",
       "      <th>0</th>\n",
       "      <td>88439</td>\n",
       "      <td>0</td>\n",
       "    </tr>\n",
       "    <tr>\n",
       "      <th>1</th>\n",
       "      <td>85430</td>\n",
       "      <td>0</td>\n",
       "    </tr>\n",
       "    <tr>\n",
       "      <th>2</th>\n",
       "      <td>33620</td>\n",
       "      <td>0</td>\n",
       "    </tr>\n",
       "    <tr>\n",
       "      <th>3</th>\n",
       "      <td>108726</td>\n",
       "      <td>0</td>\n",
       "    </tr>\n",
       "    <tr>\n",
       "      <th>4</th>\n",
       "      <td>71197</td>\n",
       "      <td>0</td>\n",
       "    </tr>\n",
       "  </tbody>\n",
       "</table>\n",
       "</div>"
      ],
      "text/plain": [
       "   HADM_ID  Prediction\n",
       "0    88439           0\n",
       "1    85430           0\n",
       "2    33620           0\n",
       "3   108726           0\n",
       "4    71197           0"
      ]
     },
     "execution_count": 141,
     "metadata": {},
     "output_type": "execute_result"
    }
   ],
   "source": [
    "dset_sol_lr_1 = pd.DataFrame({\"HADM_ID\": test_2.HADM_ID, \"Prediction\" : predictions_1})\n",
    "dset_sol_lr_1.head()"
   ]
  },
  {
   "cell_type": "code",
   "execution_count": null,
   "id": "895196cd",
   "metadata": {},
   "outputs": [],
   "source": []
  },
  {
   "cell_type": "code",
   "execution_count": 142,
   "id": "1fefe228",
   "metadata": {},
   "outputs": [
    {
     "data": {
      "text/plain": [
       "Text(0, 0.5, \"['loss']\")"
      ]
     },
     "execution_count": 142,
     "metadata": {},
     "output_type": "execute_result"
    },
    {
     "data": {
      "image/png": "[encoded data removed]",
      "text/plain": [
       "<Figure size 432x288 with 1 Axes>"
      ]
     },
     "metadata": {
      "needs_background": "light"
     },
     "output_type": "display_data"
    }
   ],
   "source": [
    "plt.plot(range(len(model_2.history.history['loss'])), model_2.history.history['loss'])\n",
    "plt.xlabel(['Epoch'])\n",
    "plt.ylabel(['loss'])"
   ]
  },
  {
   "cell_type": "code",
   "execution_count": 143,
   "id": "b1ceb2a0",
   "metadata": {},
   "outputs": [
    {
     "name": "stdout",
     "output_type": "stream",
     "text": [
      "484/484 [==============================] - 1s 1ms/step - loss: 0.1865\n"
     ]
    },
    {
     "data": {
      "text/plain": [
       "0.1864832043647766"
      ]
     },
     "execution_count": 143,
     "metadata": {},
     "output_type": "execute_result"
    }
   ],
   "source": [
    "model_2.evaluate(X_train, y_train)"
   ]
  },
  {
   "cell_type": "code",
   "execution_count": 144,
   "id": "891dc3e7",
   "metadata": {},
   "outputs": [
    {
     "data": {
      "text/plain": [
       "array([[7.88062811e-04],\n",
       "       [1.52394176e-03],\n",
       "       [2.24070318e-05],\n",
       "       ...,\n",
       "       [1.22413927e-04],\n",
       "       [4.26918268e-04],\n",
       "       [1.08161556e-04]], dtype=float32)"
      ]
     },
     "execution_count": 144,
     "metadata": {},
     "output_type": "execute_result"
    }
   ],
   "source": [
    "predictions_2=model_2.predict(X_test_ts)\n",
    "predictions_2"
   ]
  },
  {
   "cell_type": "code",
   "execution_count": 145,
   "id": "146fb96a",
   "metadata": {},
   "outputs": [
    {
     "name": "stdout",
     "output_type": "stream",
     "text": [
      "Outputs shape\n",
      "(8289, 1)\n",
      "(8289,)\n"
     ]
    }
   ],
   "source": [
    "threshold = 0.2\n",
    "\n",
    "print('Outputs shape')    \n",
    "print(predictions_2.shape) # prints (n,1) but  need (n,)\n",
    "predictions_2=np.transpose(predictions_2)[0]  # transformation to get (n,)\n",
    "print(predictions_2.shape)  # now the shape is (n,)\n",
    "# Applying transformation to get binary values predictions with  thresold\n",
    "predictions_2 = list(map(lambda x: 0 if x<threshold else 1, predictions_2))"
   ]
  },
  {
   "cell_type": "code",
   "execution_count": 146,
   "id": "a0270c5d",
   "metadata": {},
   "outputs": [
    {
     "data": {
      "text/html": [
       "<div>\n",
       "<style scoped>\n",
       "    .dataframe tbody tr th:only-of-type {\n",
       "        vertical-align: middle;\n",
       "    }\n",
       "\n",
       "    .dataframe tbody tr th {\n",
       "        vertical-align: top;\n",
       "    }\n",
       "\n",
       "    .dataframe thead th {\n",
       "        text-align: right;\n",
       "    }\n",
       "</style>\n",
       "<table border=\"1\" class=\"dataframe\">\n",
       "  <thead>\n",
       "    <tr style=\"text-align: right;\">\n",
       "      <th></th>\n",
       "      <th>HADM_ID</th>\n",
       "      <th>Prediction</th>\n",
       "    </tr>\n",
       "  </thead>\n",
       "  <tbody>\n",
       "    <tr>\n",
       "      <th>0</th>\n",
       "      <td>88439</td>\n",
       "      <td>0</td>\n",
       "    </tr>\n",
       "    <tr>\n",
       "      <th>1</th>\n",
       "      <td>85430</td>\n",
       "      <td>0</td>\n",
       "    </tr>\n",
       "    <tr>\n",
       "      <th>2</th>\n",
       "      <td>33620</td>\n",
       "      <td>0</td>\n",
       "    </tr>\n",
       "    <tr>\n",
       "      <th>3</th>\n",
       "      <td>108726</td>\n",
       "      <td>0</td>\n",
       "    </tr>\n",
       "    <tr>\n",
       "      <th>4</th>\n",
       "      <td>71197</td>\n",
       "      <td>0</td>\n",
       "    </tr>\n",
       "  </tbody>\n",
       "</table>\n",
       "</div>"
      ],
      "text/plain": [
       "   HADM_ID  Prediction\n",
       "0    88439           0\n",
       "1    85430           0\n",
       "2    33620           0\n",
       "3   108726           0\n",
       "4    71197           0"
      ]
     },
     "execution_count": 146,
     "metadata": {},
     "output_type": "execute_result"
    }
   ],
   "source": [
    "dset_sol_lr_2 = pd.DataFrame({\"HADM_ID\": test_2.HADM_ID, \"Prediction\" : predictions_2})\n",
    "dset_sol_lr_2.head()"
   ]
  },
  {
   "cell_type": "code",
   "execution_count": null,
   "id": "9cae497d",
   "metadata": {},
   "outputs": [],
   "source": []
  },
  {
   "cell_type": "code",
   "execution_count": 147,
   "id": "155f1a50",
   "metadata": {},
   "outputs": [
    {
     "data": {
      "text/plain": [
       "Text(0, 0.5, \"['loss']\")"
      ]
     },
     "execution_count": 147,
     "metadata": {},
     "output_type": "execute_result"
    },
    {
     "data": {
      "image/png": "[encoded data removed]",
      "text/plain": [
       "<Figure size 432x288 with 1 Axes>"
      ]
     },
     "metadata": {
      "needs_background": "light"
     },
     "output_type": "display_data"
    }
   ],
   "source": [
    "plt.plot(range(len(model_3.history.history['loss'])), model_3.history.history['loss'])\n",
    "plt.xlabel(['Epoch'])\n",
    "plt.ylabel(['loss'])"
   ]
  },
  {
   "cell_type": "code",
   "execution_count": 148,
   "id": "39c86c97",
   "metadata": {},
   "outputs": [
    {
     "name": "stdout",
     "output_type": "stream",
     "text": [
      "484/484 [==============================] - 2s 5ms/step - loss: 0.1198\n"
     ]
    },
    {
     "data": {
      "text/plain": [
       "0.11984003335237503"
      ]
     },
     "execution_count": 148,
     "metadata": {},
     "output_type": "execute_result"
    }
   ],
   "source": [
    "model_3.evaluate(X_train, y_train)"
   ]
  },
  {
   "cell_type": "code",
   "execution_count": 149,
   "id": "1827cb48",
   "metadata": {},
   "outputs": [
    {
     "data": {
      "text/plain": [
       "array([[3.4891129e-02],\n",
       "       [9.0893626e-02],\n",
       "       [2.0131469e-04],\n",
       "       ...,\n",
       "       [8.1470243e-05],\n",
       "       [4.3609738e-04],\n",
       "       [4.0769577e-04]], dtype=float32)"
      ]
     },
     "execution_count": 149,
     "metadata": {},
     "output_type": "execute_result"
    }
   ],
   "source": [
    "predictions_3=model_3.predict(X_test_ts)\n",
    "predictions_3"
   ]
  },
  {
   "cell_type": "code",
   "execution_count": 150,
   "id": "eb0d6ad4",
   "metadata": {},
   "outputs": [
    {
     "name": "stdout",
     "output_type": "stream",
     "text": [
      "Outputs shape\n",
      "(8289, 1)\n",
      "(8289,)\n"
     ]
    }
   ],
   "source": [
    "threshold = 0.2\n",
    "\n",
    "print('Outputs shape')    \n",
    "print(predictions_3.shape) # prints (n,1) but  need (n,)\n",
    "predictions_3=np.transpose(predictions_3)[0]  # transformation to get (n,)\n",
    "print(predictions_3.shape)  # now the shape is (n,)\n",
    "# Applying transformation to get binary values predictions with thresold\n",
    "predictions_3 = list(map(lambda x: 0 if x<threshold else 1, predictions_3))"
   ]
  },
  {
   "cell_type": "code",
   "execution_count": 151,
   "id": "6080cde9",
   "metadata": {},
   "outputs": [
    {
     "data": {
      "text/html": [
       "<div>\n",
       "<style scoped>\n",
       "    .dataframe tbody tr th:only-of-type {\n",
       "        vertical-align: middle;\n",
       "    }\n",
       "\n",
       "    .dataframe tbody tr th {\n",
       "        vertical-align: top;\n",
       "    }\n",
       "\n",
       "    .dataframe thead th {\n",
       "        text-align: right;\n",
       "    }\n",
       "</style>\n",
       "<table border=\"1\" class=\"dataframe\">\n",
       "  <thead>\n",
       "    <tr style=\"text-align: right;\">\n",
       "      <th></th>\n",
       "      <th>HADM_ID</th>\n",
       "      <th>Prediction</th>\n",
       "    </tr>\n",
       "  </thead>\n",
       "  <tbody>\n",
       "    <tr>\n",
       "      <th>0</th>\n",
       "      <td>88439</td>\n",
       "      <td>0</td>\n",
       "    </tr>\n",
       "    <tr>\n",
       "      <th>1</th>\n",
       "      <td>85430</td>\n",
       "      <td>0</td>\n",
       "    </tr>\n",
       "    <tr>\n",
       "      <th>2</th>\n",
       "      <td>33620</td>\n",
       "      <td>0</td>\n",
       "    </tr>\n",
       "    <tr>\n",
       "      <th>3</th>\n",
       "      <td>108726</td>\n",
       "      <td>0</td>\n",
       "    </tr>\n",
       "    <tr>\n",
       "      <th>4</th>\n",
       "      <td>71197</td>\n",
       "      <td>0</td>\n",
       "    </tr>\n",
       "  </tbody>\n",
       "</table>\n",
       "</div>"
      ],
      "text/plain": [
       "   HADM_ID  Prediction\n",
       "0    88439           0\n",
       "1    85430           0\n",
       "2    33620           0\n",
       "3   108726           0\n",
       "4    71197           0"
      ]
     },
     "execution_count": 151,
     "metadata": {},
     "output_type": "execute_result"
    }
   ],
   "source": [
    "dset_sol_lr_3 = pd.DataFrame({\"HADM_ID\": test_2.HADM_ID, \"Prediction\" : predictions_3})\n",
    "dset_sol_lr_3.head()"
   ]
  },
  {
   "cell_type": "code",
   "execution_count": 152,
   "id": "b4a3b93f",
   "metadata": {},
   "outputs": [],
   "source": [
    "dset_sol_rff.to_csv(\"prediction_MLGURU1.csv\", index=False)  #random Forest\n",
    "dset_sol_lr_1.to_csv(\"prediction_MLGURU2.csv\", index=False)   #LSTM\n",
    "dset_sol_lr_2.to_csv(\"prediction_MLGURU3.csv\", index=False)    #CNN\n",
    "dset_sol_lr_3.to_csv(\"prediction_MLGURU4.csv\", index=False)     #CNN with LSTM"
   ]
  }
 ],
 "metadata": {
  "kernelspec": {
   "display_name": "Python 3 (ipykernel)",
   "language": "python",
   "name": "python3"
  },
  "language_info": {
   "codemirror_mode": {
    "name": "ipython",
    "version": 3
   },
   "file_extension": ".py",
   "mimetype": "text/x-python",
   "name": "python",
   "nbconvert_exporter": "python",
   "pygments_lexer": "ipython3",
   "version": "3.8.12"
  }
 },
 "nbformat": 4,
 "nbformat_minor": 5
}
